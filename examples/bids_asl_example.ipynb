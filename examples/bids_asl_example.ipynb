{
 "cells": [
  {
   "cell_type": "code",
   "execution_count": 1,
   "metadata": {},
   "outputs": [],
   "source": [
    "from rich import print\n",
    "import lazybids\n",
    "#from lazybids import utils"
   ]
  },
  {
   "cell_type": "code",
   "execution_count": 2,
   "metadata": {},
   "outputs": [
    {
     "data": {
      "text/html": [
       "<pre style=\"white-space:pre;overflow-x:auto;line-height:normal;font-family:Menlo,'DejaVu Sans Mono',consolas,'Courier New',monospace\"><span style=\"color: #7fbfbf; text-decoration-color: #7fbfbf\">[10:55:40] </span><span style=\"color: #000080; text-decoration-color: #000080\">INFO    </span> No participants.tsv found, loading subjects based on subdirectories            <a href=\"file://E:\\git\\lazyBIDS\\lazybids\\datatypes.py\" target=\"_blank\"><span style=\"color: #7f7f7f; text-decoration-color: #7f7f7f\">datatypes.py</span></a><span style=\"color: #7f7f7f; text-decoration-color: #7f7f7f\">:</span><a href=\"file://E:\\git\\lazyBIDS\\lazybids\\datatypes.py#448\" target=\"_blank\"><span style=\"color: #7f7f7f; text-decoration-color: #7f7f7f\">448</span></a>\n",
       "</pre>\n"
      ],
      "text/plain": [
       "\u001b[2;36m[10:55:40]\u001b[0m\u001b[2;36m \u001b[0m\u001b[34mINFO    \u001b[0m No participants.tsv found, loading subjects based on subdirectories            \u001b]8;id=223842;file://E:\\git\\lazyBIDS\\lazybids\\datatypes.py\u001b\\\u001b[2mdatatypes.py\u001b[0m\u001b]8;;\u001b\\\u001b[2m:\u001b[0m\u001b]8;id=170472;file://E:\\git\\lazyBIDS\\lazybids\\datatypes.py#448\u001b\\\u001b[2m448\u001b[0m\u001b]8;;\u001b\\\n"
      ]
     },
     "metadata": {},
     "output_type": "display_data"
    },
    {
     "name": "stderr",
     "output_type": "stream",
     "text": [
      "  0%|          | 0/1 [00:00<?, ?it/s]"
     ]
    },
    {
     "data": {
      "text/html": [
       "<pre style=\"white-space:pre;overflow-x:auto;line-height:normal;font-family:Menlo,'DejaVu Sans Mono',consolas,'Courier New',monospace\"><span style=\"color: #7fbfbf; text-decoration-color: #7fbfbf\">           </span><span style=\"color: #000080; text-decoration-color: #000080\">INFO    </span> Loading experiments for participant sub-Sub103                                 <a href=\"file://E:\\git\\lazyBIDS\\lazybids\\datatypes.py\" target=\"_blank\"><span style=\"color: #7f7f7f; text-decoration-color: #7f7f7f\">datatypes.py</span></a><span style=\"color: #7f7f7f; text-decoration-color: #7f7f7f\">:</span><a href=\"file://E:\\git\\lazyBIDS\\lazybids\\datatypes.py#331\" target=\"_blank\"><span style=\"color: #7f7f7f; text-decoration-color: #7f7f7f\">331</span></a>\n",
       "</pre>\n"
      ],
      "text/plain": [
       "\u001b[2;36m          \u001b[0m\u001b[2;36m \u001b[0m\u001b[34mINFO    \u001b[0m Loading experiments for participant sub-Sub103                                 \u001b]8;id=833318;file://E:\\git\\lazyBIDS\\lazybids\\datatypes.py\u001b\\\u001b[2mdatatypes.py\u001b[0m\u001b]8;;\u001b\\\u001b[2m:\u001b[0m\u001b]8;id=110772;file://E:\\git\\lazyBIDS\\lazybids\\datatypes.py#331\u001b\\\u001b[2m331\u001b[0m\u001b]8;;\u001b\\\n"
      ]
     },
     "metadata": {},
     "output_type": "display_data"
    },
    {
     "name": "stderr",
     "output_type": "stream",
     "text": [
      "0it [00:00, ?it/s]\n"
     ]
    },
    {
     "data": {
      "text/html": [
       "<pre style=\"white-space:pre;overflow-x:auto;line-height:normal;font-family:Menlo,'DejaVu Sans Mono',consolas,'Courier New',monospace\"><span style=\"color: #7fbfbf; text-decoration-color: #7fbfbf\">           </span><span style=\"color: #000080; text-decoration-color: #000080\">INFO    </span> loading modality folder:                                                        <a href=\"file://E:\\git\\lazyBIDS\\lazybids\\datatypes.py\" target=\"_blank\"><span style=\"color: #7f7f7f; text-decoration-color: #7f7f7f\">datatypes.py</span></a><span style=\"color: #7f7f7f; text-decoration-color: #7f7f7f\">:</span><a href=\"file://E:\\git\\lazyBIDS\\lazybids\\datatypes.py#94\" target=\"_blank\"><span style=\"color: #7f7f7f; text-decoration-color: #7f7f7f\">94</span></a>\n",
       "<span style=\"color: #7fbfbf; text-decoration-color: #7fbfbf\">           </span>         E:\\git\\lazyBIDS\\examples\\osfstorage-archive\\asl_001\\sub-Sub103\\.<span style=\"color: #800080; text-decoration-color: #800080\">/</span><span style=\"color: #ff00ff; text-decoration-color: #ff00ff\">perf</span>           <span style=\"color: #7f7f7f; text-decoration-color: #7f7f7f\">               </span>\n",
       "</pre>\n"
      ],
      "text/plain": [
       "\u001b[2;36m          \u001b[0m\u001b[2;36m \u001b[0m\u001b[34mINFO    \u001b[0m loading modality folder:                                                        \u001b]8;id=971438;file://E:\\git\\lazyBIDS\\lazybids\\datatypes.py\u001b\\\u001b[2mdatatypes.py\u001b[0m\u001b]8;;\u001b\\\u001b[2m:\u001b[0m\u001b]8;id=82154;file://E:\\git\\lazyBIDS\\lazybids\\datatypes.py#94\u001b\\\u001b[2m94\u001b[0m\u001b]8;;\u001b\\\n",
       "\u001b[2;36m           \u001b[0m         E:\\git\\lazyBIDS\\examples\\osfstorage-archive\\asl_001\\sub-Sub103\\.\u001b[35m/\u001b[0m\u001b[95mperf\u001b[0m           \u001b[2m               \u001b[0m\n"
      ]
     },
     "metadata": {},
     "output_type": "display_data"
    },
    {
     "name": "stderr",
     "output_type": "stream",
     "text": [
      "100%|██████████| 1/1 [00:00<00:00, 56.95it/s]\n"
     ]
    }
   ],
   "source": [
    "import pandas as pd\n",
    "import json\n",
    "\n",
    "dataset_dir = './templates/'\n",
    "ds = lazybids.Dataset.from_folder('E:/git/lazyBIDS/examples/osfstorage-archive/asl_001', load_scans_in_memory=False)"
   ]
  },
  {
   "cell_type": "code",
   "execution_count": 6,
   "metadata": {},
   "outputs": [
    {
     "data": {
      "text/html": [
       "<pre style=\"white-space:pre;overflow-x:auto;line-height:normal;font-family:Menlo,'DejaVu Sans Mono',consolas,'Courier New',monospace\"><span style=\"color: #800080; text-decoration-color: #800080; font-weight: bold\">Dataset</span><span style=\"font-weight: bold\">(</span>\n",
       "    <span style=\"color: #808000; text-decoration-color: #808000\">name</span>=<span style=\"color: #008000; text-decoration-color: #008000\">'ASL_GE_PCASL_3Dspiral'</span>,\n",
       "    <span style=\"color: #808000; text-decoration-color: #808000\">folder</span>=<span style=\"color: #800080; text-decoration-color: #800080; font-weight: bold\">WindowsPath</span><span style=\"font-weight: bold\">(</span><span style=\"color: #008000; text-decoration-color: #008000\">'E:/git/lazyBIDS/examples/osfstorage-archive/asl_001'</span><span style=\"font-weight: bold\">)</span>,\n",
       "    <span style=\"color: #808000; text-decoration-color: #808000\">json_file</span>=<span style=\"color: #800080; text-decoration-color: #800080; font-weight: bold\">WindowsPath</span><span style=\"font-weight: bold\">(</span><span style=\"color: #008000; text-decoration-color: #008000\">'E:/git/lazyBIDS/examples/osfstorage-archive/asl_001/dataset_description.json'</span><span style=\"font-weight: bold\">)</span>,\n",
       "    <span style=\"color: #808000; text-decoration-color: #808000\">participants_json</span>=<span style=\"color: #800080; text-decoration-color: #800080; font-style: italic\">None</span>,\n",
       "    <span style=\"color: #808000; text-decoration-color: #808000\">bids_version</span>=<span style=\"color: #008000; text-decoration-color: #008000\">'1.5.0'</span>,\n",
       "    <span style=\"color: #808000; text-decoration-color: #808000\">HEDVersion</span>=<span style=\"color: #800080; text-decoration-color: #800080; font-style: italic\">None</span>,\n",
       "    <span style=\"color: #808000; text-decoration-color: #808000\">authors</span>=<span style=\"font-weight: bold\">[</span><span style=\"color: #008000; text-decoration-color: #008000\">'Sjoerd B. Vos'</span>, <span style=\"color: #008000; text-decoration-color: #008000\">'David L. Thomas'</span><span style=\"font-weight: bold\">]</span>,\n",
       "    <span style=\"color: #808000; text-decoration-color: #808000\">fields</span>=<span style=\"font-weight: bold\">{}</span>,\n",
       "    <span style=\"color: #808000; text-decoration-color: #808000\">description</span>=<span style=\"color: #800080; text-decoration-color: #800080; font-style: italic\">None</span>,\n",
       "    <span style=\"color: #808000; text-decoration-color: #808000\">dataset_type</span>=<span style=\"color: #008000; text-decoration-color: #008000\">'raw'</span>,\n",
       "    <span style=\"color: #808000; text-decoration-color: #808000\">how_to_acknowledge</span>=<span style=\"color: #008000; text-decoration-color: #008000\">'If you reference this dataset in your publications, please acknowledge its authors.'</span>,\n",
       "    <span style=\"color: #808000; text-decoration-color: #808000\">acknowledgements</span>=<span style=\"color: #008000; text-decoration-color: #008000\">''</span>,\n",
       "    <span style=\"color: #808000; text-decoration-color: #808000\">funding</span>=<span style=\"color: #800080; text-decoration-color: #800080; font-style: italic\">None</span>,\n",
       "    <span style=\"color: #808000; text-decoration-color: #808000\">ethics_approvals</span>=<span style=\"font-weight: bold\">[</span>\n",
       "        <span style=\"color: #008000; text-decoration-color: #008000\">'This study was approved by the local ethics committee as protocol optimisation procedures'</span>\n",
       "    <span style=\"font-weight: bold\">]</span>,\n",
       "    <span style=\"color: #808000; text-decoration-color: #808000\">references_and_links</span>=<span style=\"color: #800080; text-decoration-color: #800080; font-style: italic\">None</span>,\n",
       "    <span style=\"color: #808000; text-decoration-color: #808000\">source_datasets</span>=<span style=\"color: #800080; text-decoration-color: #800080; font-style: italic\">None</span>,\n",
       "    <span style=\"color: #808000; text-decoration-color: #808000\">license</span>=<span style=\"color: #008000; text-decoration-color: #008000\">'This dataset is made available under CC0.'</span>,\n",
       "    <span style=\"color: #808000; text-decoration-color: #808000\">dataset_doi</span>=<span style=\"color: #008000; text-decoration-color: #008000\">''</span>,\n",
       "    <span style=\"color: #808000; text-decoration-color: #808000\">subject_variables_metadata</span>=<span style=\"color: #800080; text-decoration-color: #800080; font-style: italic\">None</span>\n",
       "<span style=\"font-weight: bold\">)</span>\n",
       "</pre>\n"
      ],
      "text/plain": [
       "\u001b[1;35mDataset\u001b[0m\u001b[1m(\u001b[0m\n",
       "    \u001b[33mname\u001b[0m=\u001b[32m'ASL_GE_PCASL_3Dspiral'\u001b[0m,\n",
       "    \u001b[33mfolder\u001b[0m=\u001b[1;35mWindowsPath\u001b[0m\u001b[1m(\u001b[0m\u001b[32m'E:/git/lazyBIDS/examples/osfstorage-archive/asl_001'\u001b[0m\u001b[1m)\u001b[0m,\n",
       "    \u001b[33mjson_file\u001b[0m=\u001b[1;35mWindowsPath\u001b[0m\u001b[1m(\u001b[0m\u001b[32m'E:/git/lazyBIDS/examples/osfstorage-archive/asl_001/dataset_description.json'\u001b[0m\u001b[1m)\u001b[0m,\n",
       "    \u001b[33mparticipants_json\u001b[0m=\u001b[3;35mNone\u001b[0m,\n",
       "    \u001b[33mbids_version\u001b[0m=\u001b[32m'1.5.0'\u001b[0m,\n",
       "    \u001b[33mHEDVersion\u001b[0m=\u001b[3;35mNone\u001b[0m,\n",
       "    \u001b[33mauthors\u001b[0m=\u001b[1m[\u001b[0m\u001b[32m'Sjoerd B. Vos'\u001b[0m, \u001b[32m'David L. Thomas'\u001b[0m\u001b[1m]\u001b[0m,\n",
       "    \u001b[33mfields\u001b[0m=\u001b[1m{\u001b[0m\u001b[1m}\u001b[0m,\n",
       "    \u001b[33mdescription\u001b[0m=\u001b[3;35mNone\u001b[0m,\n",
       "    \u001b[33mdataset_type\u001b[0m=\u001b[32m'raw'\u001b[0m,\n",
       "    \u001b[33mhow_to_acknowledge\u001b[0m=\u001b[32m'If you reference this dataset in your publications, please acknowledge its authors.'\u001b[0m,\n",
       "    \u001b[33macknowledgements\u001b[0m=\u001b[32m''\u001b[0m,\n",
       "    \u001b[33mfunding\u001b[0m=\u001b[3;35mNone\u001b[0m,\n",
       "    \u001b[33methics_approvals\u001b[0m=\u001b[1m[\u001b[0m\n",
       "        \u001b[32m'This study was approved by the local ethics committee as protocol optimisation procedures'\u001b[0m\n",
       "    \u001b[1m]\u001b[0m,\n",
       "    \u001b[33mreferences_and_links\u001b[0m=\u001b[3;35mNone\u001b[0m,\n",
       "    \u001b[33msource_datasets\u001b[0m=\u001b[3;35mNone\u001b[0m,\n",
       "    \u001b[33mlicense\u001b[0m=\u001b[32m'This dataset is made available under CC0.'\u001b[0m,\n",
       "    \u001b[33mdataset_doi\u001b[0m=\u001b[32m''\u001b[0m,\n",
       "    \u001b[33msubject_variables_metadata\u001b[0m=\u001b[3;35mNone\u001b[0m\n",
       "\u001b[1m)\u001b[0m\n"
      ]
     },
     "metadata": {},
     "output_type": "display_data"
    }
   ],
   "source": [
    "print(ds)"
   ]
  },
  {
   "cell_type": "code",
   "execution_count": 4,
   "metadata": {},
   "outputs": [
    {
     "data": {
      "text/html": [
       "<pre style=\"white-space:pre;overflow-x:auto;line-height:normal;font-family:Menlo,'DejaVu Sans Mono',consolas,'Courier New',monospace\"><span style=\"color: #800080; text-decoration-color: #800080; font-weight: bold\">Subject</span><span style=\"font-weight: bold\">(</span>\n",
       "    <span style=\"color: #808000; text-decoration-color: #808000\">participant_id</span>=<span style=\"color: #008000; text-decoration-color: #008000\">'sub-Sub103'</span>,\n",
       "    <span style=\"color: #808000; text-decoration-color: #808000\">folder</span>=<span style=\"color: #800080; text-decoration-color: #800080; font-weight: bold\">WindowsPath</span><span style=\"font-weight: bold\">(</span><span style=\"color: #008000; text-decoration-color: #008000\">'E:/git/lazyBIDS/examples/osfstorage-archive/asl_001/sub-Sub103'</span><span style=\"font-weight: bold\">)</span>,\n",
       "    <span style=\"color: #808000; text-decoration-color: #808000\">scan_metadata</span>=<span style=\"font-weight: bold\">{}</span>,\n",
       "    <span style=\"color: #808000; text-decoration-color: #808000\">fields</span>=<span style=\"color: #800080; text-decoration-color: #800080; font-style: italic\">None</span>,\n",
       "    <span style=\"color: #808000; text-decoration-color: #808000\">n_experiments</span>=<span style=\"color: #008080; text-decoration-color: #008080; font-weight: bold\">0</span>,\n",
       "    <span style=\"color: #808000; text-decoration-color: #808000\">n_scans</span>=<span style=\"color: #008080; text-decoration-color: #008080; font-weight: bold\">3</span>\n",
       "<span style=\"font-weight: bold\">)</span>\n",
       "</pre>\n"
      ],
      "text/plain": [
       "\u001b[1;35mSubject\u001b[0m\u001b[1m(\u001b[0m\n",
       "    \u001b[33mparticipant_id\u001b[0m=\u001b[32m'sub-Sub103'\u001b[0m,\n",
       "    \u001b[33mfolder\u001b[0m=\u001b[1;35mWindowsPath\u001b[0m\u001b[1m(\u001b[0m\u001b[32m'E:/git/lazyBIDS/examples/osfstorage-archive/asl_001/sub-Sub103'\u001b[0m\u001b[1m)\u001b[0m,\n",
       "    \u001b[33mscan_metadata\u001b[0m=\u001b[1m{\u001b[0m\u001b[1m}\u001b[0m,\n",
       "    \u001b[33mfields\u001b[0m=\u001b[3;35mNone\u001b[0m,\n",
       "    \u001b[33mn_experiments\u001b[0m=\u001b[1;36m0\u001b[0m,\n",
       "    \u001b[33mn_scans\u001b[0m=\u001b[1;36m3\u001b[0m\n",
       "\u001b[1m)\u001b[0m\n"
      ]
     },
     "metadata": {},
     "output_type": "display_data"
    }
   ],
   "source": [
    "for subject in ds.subjects:\n",
    "    print(subject)"
   ]
  },
  {
   "cell_type": "code",
   "execution_count": 5,
   "metadata": {},
   "outputs": [
    {
     "data": {
      "text/html": [
       "<pre style=\"white-space:pre;overflow-x:auto;line-height:normal;font-family:Menlo,'DejaVu Sans Mono',consolas,'Courier New',monospace\"><span style=\"color: #800080; text-decoration-color: #800080; font-weight: bold\">Scan</span><span style=\"font-weight: bold\">(</span>\n",
       "    <span style=\"color: #808000; text-decoration-color: #808000\">name</span>=<span style=\"color: #008000; text-decoration-color: #008000\">'sub-Sub103_asl'</span>,\n",
       "    <span style=\"color: #808000; text-decoration-color: #808000\">files</span>=<span style=\"font-weight: bold\">[</span>\n",
       "        <span style=\"color: #008000; text-decoration-color: #008000\">'E:\\\\git\\\\lazyBIDS\\\\examples\\\\osfstorage-archive\\\\asl_001\\\\sub-Sub103\\\\./perf\\\\.\\\\sub-Sub103_asl.nii.gz'</span>\n",
       "    <span style=\"font-weight: bold\">]</span>,\n",
       "    <span style=\"color: #808000; text-decoration-color: #808000\">metadata_files</span>=<span style=\"font-weight: bold\">[</span>\n",
       "        <span style=\"color: #008000; text-decoration-color: #008000\">'E:\\\\git\\\\lazyBIDS\\\\examples\\\\osfstorage-archive\\\\asl_001\\\\sub-Sub103\\\\./perf\\\\.\\\\sub-Sub103_asl.json'</span>\n",
       "    <span style=\"font-weight: bold\">]</span>,\n",
       "    <span style=\"color: #808000; text-decoration-color: #808000\">fields</span>=<span style=\"font-weight: bold\">{</span>\n",
       "        <span style=\"color: #008000; text-decoration-color: #008000\">'Manufacturer'</span>: <span style=\"color: #008000; text-decoration-color: #008000\">'GE'</span>,\n",
       "        <span style=\"color: #008000; text-decoration-color: #008000\">'ManufacturersModelName'</span>: <span style=\"color: #008000; text-decoration-color: #008000\">'DISCOVERY_MR750'</span>,\n",
       "        <span style=\"color: #008000; text-decoration-color: #008000\">'SoftwareVersions'</span>: <span style=\"color: #008000; text-decoration-color: #008000\">'24_LX_MR_Software_release:DV24.0_R02_1607.b'</span>,\n",
       "        <span style=\"color: #008000; text-decoration-color: #008000\">'MagneticFieldStrength'</span>: <span style=\"color: #008080; text-decoration-color: #008080; font-weight: bold\">3</span>,\n",
       "        <span style=\"color: #008000; text-decoration-color: #008000\">'ReceiveCoilName'</span>: <span style=\"color: #008000; text-decoration-color: #008000\">'32Ch_Head'</span>,\n",
       "        <span style=\"color: #008000; text-decoration-color: #008000\">'MRAcquisitionType'</span>: <span style=\"color: #008000; text-decoration-color: #008000\">'3D'</span>,\n",
       "        <span style=\"color: #008000; text-decoration-color: #008000\">'PulseSequenceType'</span>: <span style=\"color: #008000; text-decoration-color: #008000\">'spiral'</span>,\n",
       "        <span style=\"color: #008000; text-decoration-color: #008000\">'PulseSequenceDetails'</span>: <span style=\"color: #008000; text-decoration-color: #008000\">'GE 3d spiral pcasl product sequence: 24_LX_MR_Software_release'</span>,\n",
       "        <span style=\"color: #008000; text-decoration-color: #008000\">'ScanningSequence'</span>: <span style=\"color: #008000; text-decoration-color: #008000\">'RM'</span>,\n",
       "        <span style=\"color: #008000; text-decoration-color: #008000\">'SequenceVariant'</span>: <span style=\"color: #008000; text-decoration-color: #008000\">'NONE'</span>,\n",
       "        <span style=\"color: #008000; text-decoration-color: #008000\">'ScanOptions'</span>: <span style=\"color: #008000; text-decoration-color: #008000\">'EDR_GEMS_SPIRAL_GEMS'</span>,\n",
       "        <span style=\"color: #008000; text-decoration-color: #008000\">'EchoTime'</span>: <span style=\"color: #008080; text-decoration-color: #008080; font-weight: bold\">0.010528</span>,\n",
       "        <span style=\"color: #008000; text-decoration-color: #008000\">'FlipAngle'</span>: <span style=\"color: #008080; text-decoration-color: #008080; font-weight: bold\">111</span>,\n",
       "        <span style=\"color: #008000; text-decoration-color: #008000\">'RepetitionTimePreparation'</span>: <span style=\"color: #008080; text-decoration-color: #008080; font-weight: bold\">4.886</span>,\n",
       "        <span style=\"color: #008000; text-decoration-color: #008000\">'ArterialSpinLabelingType'</span>: <span style=\"color: #008000; text-decoration-color: #008000\">'PCASL'</span>,\n",
       "        <span style=\"color: #008000; text-decoration-color: #008000\">'PostLabelingDelay'</span>: <span style=\"color: #008080; text-decoration-color: #008080; font-weight: bold\">2.025</span>,\n",
       "        <span style=\"color: #008000; text-decoration-color: #008000\">'BackgroundSuppression'</span>: <span style=\"color: #00ff00; text-decoration-color: #00ff00; font-style: italic\">True</span>,\n",
       "        <span style=\"color: #008000; text-decoration-color: #008000\">'M0Type'</span>: <span style=\"color: #008000; text-decoration-color: #008000\">'Included'</span>,\n",
       "        <span style=\"color: #008000; text-decoration-color: #008000\">'TotalAcquiredPairs'</span>: <span style=\"color: #008080; text-decoration-color: #008080; font-weight: bold\">3</span>,\n",
       "        <span style=\"color: #008000; text-decoration-color: #008000\">'VascularCrushing'</span>: <span style=\"color: #ff0000; text-decoration-color: #ff0000; font-style: italic\">False</span>,\n",
       "        <span style=\"color: #008000; text-decoration-color: #008000\">'AcquisitionVoxelSize'</span>: <span style=\"font-weight: bold\">[</span><span style=\"color: #008080; text-decoration-color: #008080; font-weight: bold\">4</span>, <span style=\"color: #008080; text-decoration-color: #008080; font-weight: bold\">4</span>, <span style=\"color: #008080; text-decoration-color: #008080; font-weight: bold\">8</span><span style=\"font-weight: bold\">]</span>,\n",
       "        <span style=\"color: #008000; text-decoration-color: #008000\">'BackgroundSuppressionNumberPulses'</span>: <span style=\"color: #008080; text-decoration-color: #008080; font-weight: bold\">4</span>,\n",
       "        <span style=\"color: #008000; text-decoration-color: #008000\">'BackgroundSuppressionPulseTime'</span>: <span style=\"font-weight: bold\">[</span><span style=\"color: #008080; text-decoration-color: #008080; font-weight: bold\">1.965</span>, <span style=\"color: #008080; text-decoration-color: #008080; font-weight: bold\">2.6</span>, <span style=\"color: #008080; text-decoration-color: #008080; font-weight: bold\">3.1</span>, <span style=\"color: #008080; text-decoration-color: #008080; font-weight: bold\">3.38</span><span style=\"font-weight: bold\">]</span>,\n",
       "        <span style=\"color: #008000; text-decoration-color: #008000\">'LabelingLocationDescription'</span>: <span style=\"color: #008000; text-decoration-color: #008000\">'~8 cm below the circle of Willis, through the proximal V3 segment of the </span>\n",
       "<span style=\"color: #008000; text-decoration-color: #008000\">vertebral arteries'</span>,\n",
       "        <span style=\"color: #008000; text-decoration-color: #008000\">'LabelingDistance'</span>: <span style=\"color: #008080; text-decoration-color: #008080; font-weight: bold\">40</span>,\n",
       "        <span style=\"color: #008000; text-decoration-color: #008000\">'LabelingDuration'</span>: <span style=\"color: #008080; text-decoration-color: #008080; font-weight: bold\">1.45</span>,\n",
       "        <span style=\"color: #008000; text-decoration-color: #008000\">'modality'</span>: <span style=\"color: #008000; text-decoration-color: #008000\">'perf'</span>,\n",
       "        <span style=\"color: #008000; text-decoration-color: #008000\">'ITK_FileNotes'</span>: <span style=\"color: #008000; text-decoration-color: #008000\">'TE=11;Time=20170920.000'</span>,\n",
       "        <span style=\"color: #008000; text-decoration-color: #008000\">'aux_file'</span>: <span style=\"color: #008000; text-decoration-color: #008000\">''</span>,\n",
       "        <span style=\"color: #008000; text-decoration-color: #008000\">'bitpix'</span>: <span style=\"color: #008000; text-decoration-color: #008000\">'16'</span>,\n",
       "        <span style=\"color: #008000; text-decoration-color: #008000\">'cal_max'</span>: <span style=\"color: #008000; text-decoration-color: #008000\">'0'</span>,\n",
       "        <span style=\"color: #008000; text-decoration-color: #008000\">'cal_min'</span>: <span style=\"color: #008000; text-decoration-color: #008000\">'0'</span>,\n",
       "        <span style=\"color: #008000; text-decoration-color: #008000\">'datatype'</span>: <span style=\"color: #008000; text-decoration-color: #008000\">'4'</span>,\n",
       "        <span style=\"color: #008000; text-decoration-color: #008000\">'descrip'</span>: <span style=\"color: #008000; text-decoration-color: #008000\">'TE=11;Time=20170920.000'</span>,\n",
       "        <span style=\"color: #008000; text-decoration-color: #008000\">'dim[0]'</span>: <span style=\"color: #008000; text-decoration-color: #008000\">'4'</span>,\n",
       "        <span style=\"color: #008000; text-decoration-color: #008000\">'dim[1]'</span>: <span style=\"color: #008000; text-decoration-color: #008000\">'128'</span>,\n",
       "        <span style=\"color: #008000; text-decoration-color: #008000\">'dim[2]'</span>: <span style=\"color: #008000; text-decoration-color: #008000\">'128'</span>,\n",
       "        <span style=\"color: #008000; text-decoration-color: #008000\">'dim[3]'</span>: <span style=\"color: #008000; text-decoration-color: #008000\">'40'</span>,\n",
       "        <span style=\"color: #008000; text-decoration-color: #008000\">'dim[4]'</span>: <span style=\"color: #008000; text-decoration-color: #008000\">'2'</span>,\n",
       "        <span style=\"color: #008000; text-decoration-color: #008000\">'dim[5]'</span>: <span style=\"color: #008000; text-decoration-color: #008000\">'1'</span>,\n",
       "        <span style=\"color: #008000; text-decoration-color: #008000\">'dim[6]'</span>: <span style=\"color: #008000; text-decoration-color: #008000\">'1'</span>,\n",
       "        <span style=\"color: #008000; text-decoration-color: #008000\">'dim[7]'</span>: <span style=\"color: #008000; text-decoration-color: #008000\">'1'</span>,\n",
       "        <span style=\"color: #008000; text-decoration-color: #008000\">'dim_info'</span>: <span style=\"color: #008000; text-decoration-color: #008000\">'57'</span>,\n",
       "        <span style=\"color: #008000; text-decoration-color: #008000\">'intent_code'</span>: <span style=\"color: #008000; text-decoration-color: #008000\">'0'</span>,\n",
       "        <span style=\"color: #008000; text-decoration-color: #008000\">'intent_name'</span>: <span style=\"color: #008000; text-decoration-color: #008000\">''</span>,\n",
       "        <span style=\"color: #008000; text-decoration-color: #008000\">'intent_p1'</span>: <span style=\"color: #008000; text-decoration-color: #008000\">'0'</span>,\n",
       "        <span style=\"color: #008000; text-decoration-color: #008000\">'intent_p2'</span>: <span style=\"color: #008000; text-decoration-color: #008000\">'0'</span>,\n",
       "        <span style=\"color: #008000; text-decoration-color: #008000\">'intent_p3'</span>: <span style=\"color: #008000; text-decoration-color: #008000\">'0'</span>,\n",
       "        <span style=\"color: #008000; text-decoration-color: #008000\">'nifti_type'</span>: <span style=\"color: #008000; text-decoration-color: #008000\">'1'</span>,\n",
       "        <span style=\"color: #008000; text-decoration-color: #008000\">'pixdim[0]'</span>: <span style=\"color: #008000; text-decoration-color: #008000\">'0'</span>,\n",
       "        <span style=\"color: #008000; text-decoration-color: #008000\">'pixdim[1]'</span>: <span style=\"color: #008000; text-decoration-color: #008000\">'1.875'</span>,\n",
       "        <span style=\"color: #008000; text-decoration-color: #008000\">'pixdim[2]'</span>: <span style=\"color: #008000; text-decoration-color: #008000\">'1.875'</span>,\n",
       "        <span style=\"color: #008000; text-decoration-color: #008000\">'pixdim[3]'</span>: <span style=\"color: #008000; text-decoration-color: #008000\">'4'</span>,\n",
       "        <span style=\"color: #008000; text-decoration-color: #008000\">'pixdim[4]'</span>: <span style=\"color: #008000; text-decoration-color: #008000\">'4.886'</span>,\n",
       "        <span style=\"color: #008000; text-decoration-color: #008000\">'pixdim[5]'</span>: <span style=\"color: #008000; text-decoration-color: #008000\">'0'</span>,\n",
       "        <span style=\"color: #008000; text-decoration-color: #008000\">'pixdim[6]'</span>: <span style=\"color: #008000; text-decoration-color: #008000\">'0'</span>,\n",
       "        <span style=\"color: #008000; text-decoration-color: #008000\">'pixdim[7]'</span>: <span style=\"color: #008000; text-decoration-color: #008000\">'0'</span>,\n",
       "        <span style=\"color: #008000; text-decoration-color: #008000\">'qfac'</span>: <span style=\"color: #008000; text-decoration-color: #008000\">'[UNKNOWN_PRINT_CHARACTERISTICS]\\n'</span>,\n",
       "        <span style=\"color: #008000; text-decoration-color: #008000\">'qform_code'</span>: <span style=\"color: #008000; text-decoration-color: #008000\">'1'</span>,\n",
       "        <span style=\"color: #008000; text-decoration-color: #008000\">'qform_code_name'</span>: <span style=\"color: #008000; text-decoration-color: #008000\">'NIFTI_XFORM_SCANNER_ANAT'</span>,\n",
       "        <span style=\"color: #008000; text-decoration-color: #008000\">'qoffset_x'</span>: <span style=\"color: #008000; text-decoration-color: #008000\">'-121.187'</span>,\n",
       "        <span style=\"color: #008000; text-decoration-color: #008000\">'qoffset_y'</span>: <span style=\"color: #008000; text-decoration-color: #008000\">'-96.731'</span>,\n",
       "        <span style=\"color: #008000; text-decoration-color: #008000\">'qoffset_z'</span>: <span style=\"color: #008000; text-decoration-color: #008000\">'-63.9484'</span>,\n",
       "        <span style=\"color: #008000; text-decoration-color: #008000\">'qto_xyz'</span>: <span style=\"color: #008000; text-decoration-color: #008000\">'[UNKNOWN_PRINT_CHARACTERISTICS]\\n'</span>,\n",
       "        <span style=\"color: #008000; text-decoration-color: #008000\">'quatern_b'</span>: <span style=\"color: #008000; text-decoration-color: #008000\">'0'</span>,\n",
       "        <span style=\"color: #008000; text-decoration-color: #008000\">'quatern_c'</span>: <span style=\"color: #008000; text-decoration-color: #008000\">'0'</span>,\n",
       "        <span style=\"color: #008000; text-decoration-color: #008000\">'quatern_d'</span>: <span style=\"color: #008000; text-decoration-color: #008000\">'0'</span>,\n",
       "        <span style=\"color: #008000; text-decoration-color: #008000\">'scl_inter'</span>: <span style=\"color: #008000; text-decoration-color: #008000\">'0'</span>,\n",
       "        <span style=\"color: #008000; text-decoration-color: #008000\">'scl_slope'</span>: <span style=\"color: #008000; text-decoration-color: #008000\">'1'</span>,\n",
       "        <span style=\"color: #008000; text-decoration-color: #008000\">'sform_code'</span>: <span style=\"color: #008000; text-decoration-color: #008000\">'1'</span>,\n",
       "        <span style=\"color: #008000; text-decoration-color: #008000\">'sform_code_name'</span>: <span style=\"color: #008000; text-decoration-color: #008000\">'NIFTI_XFORM_SCANNER_ANAT'</span>,\n",
       "        <span style=\"color: #008000; text-decoration-color: #008000\">'slice_code'</span>: <span style=\"color: #008000; text-decoration-color: #008000\">'0'</span>,\n",
       "        <span style=\"color: #008000; text-decoration-color: #008000\">'slice_duration'</span>: <span style=\"color: #008000; text-decoration-color: #008000\">'0'</span>,\n",
       "        <span style=\"color: #008000; text-decoration-color: #008000\">'slice_end'</span>: <span style=\"color: #008000; text-decoration-color: #008000\">'0'</span>,\n",
       "        <span style=\"color: #008000; text-decoration-color: #008000\">'slice_start'</span>: <span style=\"color: #008000; text-decoration-color: #008000\">'0'</span>,\n",
       "        <span style=\"color: #008000; text-decoration-color: #008000\">'srow_x'</span>: <span style=\"color: #008000; text-decoration-color: #008000\">'1.875 0 0 -121.187'</span>,\n",
       "        <span style=\"color: #008000; text-decoration-color: #008000\">'srow_y'</span>: <span style=\"color: #008000; text-decoration-color: #008000\">'0 1.875 0 -96.731'</span>,\n",
       "        <span style=\"color: #008000; text-decoration-color: #008000\">'srow_z'</span>: <span style=\"color: #008000; text-decoration-color: #008000\">'0 0 4 -63.9484'</span>,\n",
       "        <span style=\"color: #008000; text-decoration-color: #008000\">'toffset'</span>: <span style=\"color: #008000; text-decoration-color: #008000\">'0'</span>,\n",
       "        <span style=\"color: #008000; text-decoration-color: #008000\">'vox_offset'</span>: <span style=\"color: #008000; text-decoration-color: #008000\">'352'</span>,\n",
       "        <span style=\"color: #008000; text-decoration-color: #008000\">'xyzt_units'</span>: <span style=\"color: #008000; text-decoration-color: #008000\">'10'</span>\n",
       "    <span style=\"font-weight: bold\">}</span>,\n",
       "    <span style=\"color: #808000; text-decoration-color: #808000\">table</span>=<span style=\"color: #800080; text-decoration-color: #800080; font-style: italic\">None</span>,\n",
       "    <span style=\"color: #808000; text-decoration-color: #808000\">n_files</span>=<span style=\"color: #008080; text-decoration-color: #008080; font-weight: bold\">1</span>\n",
       "<span style=\"font-weight: bold\">)</span>\n",
       "</pre>\n"
      ],
      "text/plain": [
       "\u001b[1;35mScan\u001b[0m\u001b[1m(\u001b[0m\n",
       "    \u001b[33mname\u001b[0m=\u001b[32m'sub-Sub103_asl'\u001b[0m,\n",
       "    \u001b[33mfiles\u001b[0m=\u001b[1m[\u001b[0m\n",
       "        \u001b[32m'E:\\\\git\\\\lazyBIDS\\\\examples\\\\osfstorage-archive\\\\asl_001\\\\sub-Sub103\\\\./perf\\\\.\\\\sub-Sub103_asl.nii.gz'\u001b[0m\n",
       "    \u001b[1m]\u001b[0m,\n",
       "    \u001b[33mmetadata_files\u001b[0m=\u001b[1m[\u001b[0m\n",
       "        \u001b[32m'E:\\\\git\\\\lazyBIDS\\\\examples\\\\osfstorage-archive\\\\asl_001\\\\sub-Sub103\\\\./perf\\\\.\\\\sub-Sub103_asl.json'\u001b[0m\n",
       "    \u001b[1m]\u001b[0m,\n",
       "    \u001b[33mfields\u001b[0m=\u001b[1m{\u001b[0m\n",
       "        \u001b[32m'Manufacturer'\u001b[0m: \u001b[32m'GE'\u001b[0m,\n",
       "        \u001b[32m'ManufacturersModelName'\u001b[0m: \u001b[32m'DISCOVERY_MR750'\u001b[0m,\n",
       "        \u001b[32m'SoftwareVersions'\u001b[0m: \u001b[32m'24_LX_MR_Software_release:DV24.0_R02_1607.b'\u001b[0m,\n",
       "        \u001b[32m'MagneticFieldStrength'\u001b[0m: \u001b[1;36m3\u001b[0m,\n",
       "        \u001b[32m'ReceiveCoilName'\u001b[0m: \u001b[32m'32Ch_Head'\u001b[0m,\n",
       "        \u001b[32m'MRAcquisitionType'\u001b[0m: \u001b[32m'3D'\u001b[0m,\n",
       "        \u001b[32m'PulseSequenceType'\u001b[0m: \u001b[32m'spiral'\u001b[0m,\n",
       "        \u001b[32m'PulseSequenceDetails'\u001b[0m: \u001b[32m'GE 3d spiral pcasl product sequence: 24_LX_MR_Software_release'\u001b[0m,\n",
       "        \u001b[32m'ScanningSequence'\u001b[0m: \u001b[32m'RM'\u001b[0m,\n",
       "        \u001b[32m'SequenceVariant'\u001b[0m: \u001b[32m'NONE'\u001b[0m,\n",
       "        \u001b[32m'ScanOptions'\u001b[0m: \u001b[32m'EDR_GEMS_SPIRAL_GEMS'\u001b[0m,\n",
       "        \u001b[32m'EchoTime'\u001b[0m: \u001b[1;36m0.010528\u001b[0m,\n",
       "        \u001b[32m'FlipAngle'\u001b[0m: \u001b[1;36m111\u001b[0m,\n",
       "        \u001b[32m'RepetitionTimePreparation'\u001b[0m: \u001b[1;36m4.886\u001b[0m,\n",
       "        \u001b[32m'ArterialSpinLabelingType'\u001b[0m: \u001b[32m'PCASL'\u001b[0m,\n",
       "        \u001b[32m'PostLabelingDelay'\u001b[0m: \u001b[1;36m2.025\u001b[0m,\n",
       "        \u001b[32m'BackgroundSuppression'\u001b[0m: \u001b[3;92mTrue\u001b[0m,\n",
       "        \u001b[32m'M0Type'\u001b[0m: \u001b[32m'Included'\u001b[0m,\n",
       "        \u001b[32m'TotalAcquiredPairs'\u001b[0m: \u001b[1;36m3\u001b[0m,\n",
       "        \u001b[32m'VascularCrushing'\u001b[0m: \u001b[3;91mFalse\u001b[0m,\n",
       "        \u001b[32m'AcquisitionVoxelSize'\u001b[0m: \u001b[1m[\u001b[0m\u001b[1;36m4\u001b[0m, \u001b[1;36m4\u001b[0m, \u001b[1;36m8\u001b[0m\u001b[1m]\u001b[0m,\n",
       "        \u001b[32m'BackgroundSuppressionNumberPulses'\u001b[0m: \u001b[1;36m4\u001b[0m,\n",
       "        \u001b[32m'BackgroundSuppressionPulseTime'\u001b[0m: \u001b[1m[\u001b[0m\u001b[1;36m1.965\u001b[0m, \u001b[1;36m2.6\u001b[0m, \u001b[1;36m3.1\u001b[0m, \u001b[1;36m3.38\u001b[0m\u001b[1m]\u001b[0m,\n",
       "        \u001b[32m'LabelingLocationDescription'\u001b[0m: \u001b[32m'~8 cm below the circle of Willis, through the proximal V3 segment of the \u001b[0m\n",
       "\u001b[32mvertebral arteries'\u001b[0m,\n",
       "        \u001b[32m'LabelingDistance'\u001b[0m: \u001b[1;36m40\u001b[0m,\n",
       "        \u001b[32m'LabelingDuration'\u001b[0m: \u001b[1;36m1.45\u001b[0m,\n",
       "        \u001b[32m'modality'\u001b[0m: \u001b[32m'perf'\u001b[0m,\n",
       "        \u001b[32m'ITK_FileNotes'\u001b[0m: \u001b[32m'\u001b[0m\u001b[32mTE\u001b[0m\u001b[32m=\u001b[0m\u001b[32m11\u001b[0m\u001b[32m;\u001b[0m\u001b[32mTime\u001b[0m\u001b[32m=\u001b[0m\u001b[32m20170920\u001b[0m\u001b[32m.000'\u001b[0m,\n",
       "        \u001b[32m'aux_file'\u001b[0m: \u001b[32m''\u001b[0m,\n",
       "        \u001b[32m'bitpix'\u001b[0m: \u001b[32m'16'\u001b[0m,\n",
       "        \u001b[32m'cal_max'\u001b[0m: \u001b[32m'0'\u001b[0m,\n",
       "        \u001b[32m'cal_min'\u001b[0m: \u001b[32m'0'\u001b[0m,\n",
       "        \u001b[32m'datatype'\u001b[0m: \u001b[32m'4'\u001b[0m,\n",
       "        \u001b[32m'descrip'\u001b[0m: \u001b[32m'\u001b[0m\u001b[32mTE\u001b[0m\u001b[32m=\u001b[0m\u001b[32m11\u001b[0m\u001b[32m;\u001b[0m\u001b[32mTime\u001b[0m\u001b[32m=\u001b[0m\u001b[32m20170920\u001b[0m\u001b[32m.000'\u001b[0m,\n",
       "        \u001b[32m'dim\u001b[0m\u001b[32m[\u001b[0m\u001b[32m0\u001b[0m\u001b[32m]\u001b[0m\u001b[32m'\u001b[0m: \u001b[32m'4'\u001b[0m,\n",
       "        \u001b[32m'dim\u001b[0m\u001b[32m[\u001b[0m\u001b[32m1\u001b[0m\u001b[32m]\u001b[0m\u001b[32m'\u001b[0m: \u001b[32m'128'\u001b[0m,\n",
       "        \u001b[32m'dim\u001b[0m\u001b[32m[\u001b[0m\u001b[32m2\u001b[0m\u001b[32m]\u001b[0m\u001b[32m'\u001b[0m: \u001b[32m'128'\u001b[0m,\n",
       "        \u001b[32m'dim\u001b[0m\u001b[32m[\u001b[0m\u001b[32m3\u001b[0m\u001b[32m]\u001b[0m\u001b[32m'\u001b[0m: \u001b[32m'40'\u001b[0m,\n",
       "        \u001b[32m'dim\u001b[0m\u001b[32m[\u001b[0m\u001b[32m4\u001b[0m\u001b[32m]\u001b[0m\u001b[32m'\u001b[0m: \u001b[32m'2'\u001b[0m,\n",
       "        \u001b[32m'dim\u001b[0m\u001b[32m[\u001b[0m\u001b[32m5\u001b[0m\u001b[32m]\u001b[0m\u001b[32m'\u001b[0m: \u001b[32m'1'\u001b[0m,\n",
       "        \u001b[32m'dim\u001b[0m\u001b[32m[\u001b[0m\u001b[32m6\u001b[0m\u001b[32m]\u001b[0m\u001b[32m'\u001b[0m: \u001b[32m'1'\u001b[0m,\n",
       "        \u001b[32m'dim\u001b[0m\u001b[32m[\u001b[0m\u001b[32m7\u001b[0m\u001b[32m]\u001b[0m\u001b[32m'\u001b[0m: \u001b[32m'1'\u001b[0m,\n",
       "        \u001b[32m'dim_info'\u001b[0m: \u001b[32m'57'\u001b[0m,\n",
       "        \u001b[32m'intent_code'\u001b[0m: \u001b[32m'0'\u001b[0m,\n",
       "        \u001b[32m'intent_name'\u001b[0m: \u001b[32m''\u001b[0m,\n",
       "        \u001b[32m'intent_p1'\u001b[0m: \u001b[32m'0'\u001b[0m,\n",
       "        \u001b[32m'intent_p2'\u001b[0m: \u001b[32m'0'\u001b[0m,\n",
       "        \u001b[32m'intent_p3'\u001b[0m: \u001b[32m'0'\u001b[0m,\n",
       "        \u001b[32m'nifti_type'\u001b[0m: \u001b[32m'1'\u001b[0m,\n",
       "        \u001b[32m'pixdim\u001b[0m\u001b[32m[\u001b[0m\u001b[32m0\u001b[0m\u001b[32m]\u001b[0m\u001b[32m'\u001b[0m: \u001b[32m'0'\u001b[0m,\n",
       "        \u001b[32m'pixdim\u001b[0m\u001b[32m[\u001b[0m\u001b[32m1\u001b[0m\u001b[32m]\u001b[0m\u001b[32m'\u001b[0m: \u001b[32m'1.875'\u001b[0m,\n",
       "        \u001b[32m'pixdim\u001b[0m\u001b[32m[\u001b[0m\u001b[32m2\u001b[0m\u001b[32m]\u001b[0m\u001b[32m'\u001b[0m: \u001b[32m'1.875'\u001b[0m,\n",
       "        \u001b[32m'pixdim\u001b[0m\u001b[32m[\u001b[0m\u001b[32m3\u001b[0m\u001b[32m]\u001b[0m\u001b[32m'\u001b[0m: \u001b[32m'4'\u001b[0m,\n",
       "        \u001b[32m'pixdim\u001b[0m\u001b[32m[\u001b[0m\u001b[32m4\u001b[0m\u001b[32m]\u001b[0m\u001b[32m'\u001b[0m: \u001b[32m'4.886'\u001b[0m,\n",
       "        \u001b[32m'pixdim\u001b[0m\u001b[32m[\u001b[0m\u001b[32m5\u001b[0m\u001b[32m]\u001b[0m\u001b[32m'\u001b[0m: \u001b[32m'0'\u001b[0m,\n",
       "        \u001b[32m'pixdim\u001b[0m\u001b[32m[\u001b[0m\u001b[32m6\u001b[0m\u001b[32m]\u001b[0m\u001b[32m'\u001b[0m: \u001b[32m'0'\u001b[0m,\n",
       "        \u001b[32m'pixdim\u001b[0m\u001b[32m[\u001b[0m\u001b[32m7\u001b[0m\u001b[32m]\u001b[0m\u001b[32m'\u001b[0m: \u001b[32m'0'\u001b[0m,\n",
       "        \u001b[32m'qfac'\u001b[0m: \u001b[32m'\u001b[0m\u001b[32m[\u001b[0m\u001b[32mUNKNOWN_PRINT_CHARACTERISTICS\u001b[0m\u001b[32m]\u001b[0m\u001b[32m\\n'\u001b[0m,\n",
       "        \u001b[32m'qform_code'\u001b[0m: \u001b[32m'1'\u001b[0m,\n",
       "        \u001b[32m'qform_code_name'\u001b[0m: \u001b[32m'NIFTI_XFORM_SCANNER_ANAT'\u001b[0m,\n",
       "        \u001b[32m'qoffset_x'\u001b[0m: \u001b[32m'-121.187'\u001b[0m,\n",
       "        \u001b[32m'qoffset_y'\u001b[0m: \u001b[32m'-96.731'\u001b[0m,\n",
       "        \u001b[32m'qoffset_z'\u001b[0m: \u001b[32m'-63.9484'\u001b[0m,\n",
       "        \u001b[32m'qto_xyz'\u001b[0m: \u001b[32m'\u001b[0m\u001b[32m[\u001b[0m\u001b[32mUNKNOWN_PRINT_CHARACTERISTICS\u001b[0m\u001b[32m]\u001b[0m\u001b[32m\\n'\u001b[0m,\n",
       "        \u001b[32m'quatern_b'\u001b[0m: \u001b[32m'0'\u001b[0m,\n",
       "        \u001b[32m'quatern_c'\u001b[0m: \u001b[32m'0'\u001b[0m,\n",
       "        \u001b[32m'quatern_d'\u001b[0m: \u001b[32m'0'\u001b[0m,\n",
       "        \u001b[32m'scl_inter'\u001b[0m: \u001b[32m'0'\u001b[0m,\n",
       "        \u001b[32m'scl_slope'\u001b[0m: \u001b[32m'1'\u001b[0m,\n",
       "        \u001b[32m'sform_code'\u001b[0m: \u001b[32m'1'\u001b[0m,\n",
       "        \u001b[32m'sform_code_name'\u001b[0m: \u001b[32m'NIFTI_XFORM_SCANNER_ANAT'\u001b[0m,\n",
       "        \u001b[32m'slice_code'\u001b[0m: \u001b[32m'0'\u001b[0m,\n",
       "        \u001b[32m'slice_duration'\u001b[0m: \u001b[32m'0'\u001b[0m,\n",
       "        \u001b[32m'slice_end'\u001b[0m: \u001b[32m'0'\u001b[0m,\n",
       "        \u001b[32m'slice_start'\u001b[0m: \u001b[32m'0'\u001b[0m,\n",
       "        \u001b[32m'srow_x'\u001b[0m: \u001b[32m'1.875 0 0 -121.187'\u001b[0m,\n",
       "        \u001b[32m'srow_y'\u001b[0m: \u001b[32m'0 1.875 0 -96.731'\u001b[0m,\n",
       "        \u001b[32m'srow_z'\u001b[0m: \u001b[32m'0 0 4 -63.9484'\u001b[0m,\n",
       "        \u001b[32m'toffset'\u001b[0m: \u001b[32m'0'\u001b[0m,\n",
       "        \u001b[32m'vox_offset'\u001b[0m: \u001b[32m'352'\u001b[0m,\n",
       "        \u001b[32m'xyzt_units'\u001b[0m: \u001b[32m'10'\u001b[0m\n",
       "    \u001b[1m}\u001b[0m,\n",
       "    \u001b[33mtable\u001b[0m=\u001b[3;35mNone\u001b[0m,\n",
       "    \u001b[33mn_files\u001b[0m=\u001b[1;36m1\u001b[0m\n",
       "\u001b[1m)\u001b[0m\n"
      ]
     },
     "metadata": {},
     "output_type": "display_data"
    },
    {
     "data": {
      "text/html": [
       "<pre style=\"white-space:pre;overflow-x:auto;line-height:normal;font-family:Menlo,'DejaVu Sans Mono',consolas,'Courier New',monospace\"><span style=\"color: #800080; text-decoration-color: #800080; font-weight: bold\">Scan</span><span style=\"font-weight: bold\">(</span>\n",
       "    <span style=\"color: #808000; text-decoration-color: #808000\">name</span>=<span style=\"color: #008000; text-decoration-color: #008000\">'sub-Sub103_aslcontext'</span>,\n",
       "    <span style=\"color: #808000; text-decoration-color: #808000\">files</span>=<span style=\"font-weight: bold\">[]</span>,\n",
       "    <span style=\"color: #808000; text-decoration-color: #808000\">metadata_files</span>=<span style=\"font-weight: bold\">[</span>\n",
       "        <span style=\"color: #008000; text-decoration-color: #008000\">'E:\\\\git\\\\lazyBIDS\\\\examples\\\\osfstorage-archive\\\\asl_001\\\\sub-Sub103\\\\./perf\\\\.\\\\sub-Sub103_aslcontext.tsv</span>\n",
       "<span style=\"color: #008000; text-decoration-color: #008000\">'</span>\n",
       "    <span style=\"font-weight: bold\">]</span>,\n",
       "    <span style=\"color: #808000; text-decoration-color: #808000\">fields</span>=<span style=\"font-weight: bold\">{</span><span style=\"color: #008000; text-decoration-color: #008000\">'modality'</span>: <span style=\"color: #008000; text-decoration-color: #008000\">'perf'</span><span style=\"font-weight: bold\">}</span>,\n",
       "    <span style=\"color: #808000; text-decoration-color: #808000\">table</span>=  volume_type\n",
       "<span style=\"color: #008080; text-decoration-color: #008080; font-weight: bold\">0</span>      m0scan\n",
       "<span style=\"color: #008080; text-decoration-color: #008080; font-weight: bold\">1</span>      deltam,\n",
       "    <span style=\"color: #808000; text-decoration-color: #808000\">n_files</span>=<span style=\"color: #008080; text-decoration-color: #008080; font-weight: bold\">0</span>\n",
       "<span style=\"font-weight: bold\">)</span>\n",
       "</pre>\n"
      ],
      "text/plain": [
       "\u001b[1;35mScan\u001b[0m\u001b[1m(\u001b[0m\n",
       "    \u001b[33mname\u001b[0m=\u001b[32m'sub-Sub103_aslcontext'\u001b[0m,\n",
       "    \u001b[33mfiles\u001b[0m=\u001b[1m[\u001b[0m\u001b[1m]\u001b[0m,\n",
       "    \u001b[33mmetadata_files\u001b[0m=\u001b[1m[\u001b[0m\n",
       "        \u001b[32m'E:\\\\git\\\\lazyBIDS\\\\examples\\\\osfstorage-archive\\\\asl_001\\\\sub-Sub103\\\\./perf\\\\.\\\\sub-Sub103_aslcontext.tsv\u001b[0m\n",
       "\u001b[32m'\u001b[0m\n",
       "    \u001b[1m]\u001b[0m,\n",
       "    \u001b[33mfields\u001b[0m=\u001b[1m{\u001b[0m\u001b[32m'modality'\u001b[0m: \u001b[32m'perf'\u001b[0m\u001b[1m}\u001b[0m,\n",
       "    \u001b[33mtable\u001b[0m=  volume_type\n",
       "\u001b[1;36m0\u001b[0m      m0scan\n",
       "\u001b[1;36m1\u001b[0m      deltam,\n",
       "    \u001b[33mn_files\u001b[0m=\u001b[1;36m0\u001b[0m\n",
       "\u001b[1m)\u001b[0m\n"
      ]
     },
     "metadata": {},
     "output_type": "display_data"
    },
    {
     "data": {
      "text/html": [
       "<pre style=\"white-space:pre;overflow-x:auto;line-height:normal;font-family:Menlo,'DejaVu Sans Mono',consolas,'Courier New',monospace\"><span style=\"color: #800080; text-decoration-color: #800080; font-weight: bold\">Scan</span><span style=\"font-weight: bold\">(</span>\n",
       "    <span style=\"color: #808000; text-decoration-color: #808000\">name</span>=<span style=\"color: #008000; text-decoration-color: #008000\">'sub-Sub103_asllabeling'</span>,\n",
       "    <span style=\"color: #808000; text-decoration-color: #808000\">files</span>=<span style=\"font-weight: bold\">[</span>\n",
       "        <span style=\"color: #008000; text-decoration-color: #008000\">'E:\\\\git\\\\lazyBIDS\\\\examples\\\\osfstorage-archive\\\\asl_001\\\\sub-Sub103\\\\./perf\\\\.\\\\sub-Sub103_asllabeling.jp</span>\n",
       "<span style=\"color: #008000; text-decoration-color: #008000\">g'</span>\n",
       "    <span style=\"font-weight: bold\">]</span>,\n",
       "    <span style=\"color: #808000; text-decoration-color: #808000\">metadata_files</span>=<span style=\"font-weight: bold\">[]</span>,\n",
       "    <span style=\"color: #808000; text-decoration-color: #808000\">fields</span>=<span style=\"font-weight: bold\">{</span><span style=\"color: #008000; text-decoration-color: #008000\">'modality'</span>: <span style=\"color: #008000; text-decoration-color: #008000\">'perf'</span><span style=\"font-weight: bold\">}</span>,\n",
       "    <span style=\"color: #808000; text-decoration-color: #808000\">table</span>=<span style=\"color: #800080; text-decoration-color: #800080; font-style: italic\">None</span>,\n",
       "    <span style=\"color: #808000; text-decoration-color: #808000\">n_files</span>=<span style=\"color: #008080; text-decoration-color: #008080; font-weight: bold\">1</span>\n",
       "<span style=\"font-weight: bold\">)</span>\n",
       "</pre>\n"
      ],
      "text/plain": [
       "\u001b[1;35mScan\u001b[0m\u001b[1m(\u001b[0m\n",
       "    \u001b[33mname\u001b[0m=\u001b[32m'sub-Sub103_asllabeling'\u001b[0m,\n",
       "    \u001b[33mfiles\u001b[0m=\u001b[1m[\u001b[0m\n",
       "        \u001b[32m'E:\\\\git\\\\lazyBIDS\\\\examples\\\\osfstorage-archive\\\\asl_001\\\\sub-Sub103\\\\./perf\\\\.\\\\sub-Sub103_asllabeling.jp\u001b[0m\n",
       "\u001b[32mg'\u001b[0m\n",
       "    \u001b[1m]\u001b[0m,\n",
       "    \u001b[33mmetadata_files\u001b[0m=\u001b[1m[\u001b[0m\u001b[1m]\u001b[0m,\n",
       "    \u001b[33mfields\u001b[0m=\u001b[1m{\u001b[0m\u001b[32m'modality'\u001b[0m: \u001b[32m'perf'\u001b[0m\u001b[1m}\u001b[0m,\n",
       "    \u001b[33mtable\u001b[0m=\u001b[3;35mNone\u001b[0m,\n",
       "    \u001b[33mn_files\u001b[0m=\u001b[1;36m1\u001b[0m\n",
       "\u001b[1m)\u001b[0m\n"
      ]
     },
     "metadata": {},
     "output_type": "display_data"
    }
   ],
   "source": [
    "for scan in subject.scans.values():\n",
    "    print(scan)"
   ]
  },
  {
   "cell_type": "code",
   "execution_count": 14,
   "metadata": {},
   "outputs": [
    {
     "data": {
      "text/html": [
       "<pre style=\"white-space:pre;overflow-x:auto;line-height:normal;font-family:Menlo,'DejaVu Sans Mono',consolas,'Courier New',monospace\"><span style=\"font-weight: bold\">&lt;</span><span style=\"color: #ff00ff; text-decoration-color: #ff00ff; font-weight: bold\">class</span><span style=\"color: #000000; text-decoration-color: #000000\"> </span><span style=\"color: #008000; text-decoration-color: #008000\">'SimpleITK.SimpleITK.Image'</span><span style=\"font-weight: bold\">&gt;</span>\n",
       "</pre>\n"
      ],
      "text/plain": [
       "\u001b[1m<\u001b[0m\u001b[1;95mclass\u001b[0m\u001b[39m \u001b[0m\u001b[32m'SimpleITK.SimpleITK.Image'\u001b[0m\u001b[1m>\u001b[0m\n"
      ]
     },
     "metadata": {},
     "output_type": "display_data"
    },
    {
     "data": {
      "text/html": [
       "<pre style=\"white-space:pre;overflow-x:auto;line-height:normal;font-family:Menlo,'DejaVu Sans Mono',consolas,'Courier New',monospace\"><span style=\"font-weight: bold\">[&lt;</span><span style=\"color: #ff00ff; text-decoration-color: #ff00ff; font-weight: bold\">class</span><span style=\"color: #000000; text-decoration-color: #000000\"> </span><span style=\"color: #008000; text-decoration-color: #008000\">'numpy.ndarray'</span><span style=\"font-weight: bold\">&gt;</span>, <span style=\"color: #008000; text-decoration-color: #008000\">'shape: (424, 640, 3)'</span><span style=\"font-weight: bold\">]</span>\n",
       "</pre>\n"
      ],
      "text/plain": [
       "\u001b[1m[\u001b[0m\u001b[1m<\u001b[0m\u001b[1;95mclass\u001b[0m\u001b[39m \u001b[0m\u001b[32m'numpy.ndarray'\u001b[0m\u001b[1m>\u001b[0m, \u001b[32m'shape: \u001b[0m\u001b[32m(\u001b[0m\u001b[32m424, 640, 3\u001b[0m\u001b[32m)\u001b[0m\u001b[32m'\u001b[0m\u001b[1m]\u001b[0m\n"
      ]
     },
     "metadata": {},
     "output_type": "display_data"
    }
   ],
   "source": [
    "print(type(scan.data))\n",
    "print([type(scan.numpy), f'shape: {scan.numpy.shape}'])\n"
   ]
  },
  {
   "cell_type": "code",
   "execution_count": null,
   "metadata": {},
   "outputs": [],
   "source": []
  }
 ],
 "metadata": {
  "kernelspec": {
   "display_name": "lazybids-sKUzRgwL-py3.10",
   "language": "python",
   "name": "python3"
  },
  "language_info": {
   "codemirror_mode": {
    "name": "ipython",
    "version": 3
   },
   "file_extension": ".py",
   "mimetype": "text/x-python",
   "name": "python",
   "nbconvert_exporter": "python",
   "pygments_lexer": "ipython3",
   "version": "3.10.11"
  }
 },
 "nbformat": 4,
 "nbformat_minor": 2
}
