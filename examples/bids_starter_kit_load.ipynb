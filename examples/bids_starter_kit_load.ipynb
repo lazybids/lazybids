{
 "cells": [
  {
   "cell_type": "code",
   "execution_count": 2,
   "metadata": {},
   "outputs": [],
   "source": [
    "from rich import print\n",
    "import lazybids"
   ]
  },
  {
   "cell_type": "code",
   "execution_count": 3,
   "metadata": {},
   "outputs": [
    {
     "data": {
      "text/html": [
       "<pre style=\"white-space:pre;overflow-x:auto;line-height:normal;font-family:Menlo,'DejaVu Sans Mono',consolas,'Courier New',monospace\"><span style=\"color: #7fbfbf; text-decoration-color: #7fbfbf\">[14:58:20] </span><span style=\"color: #000080; text-decoration-color: #000080\">INFO    </span> Loading all subjects from                                                      <a href=\"file://E:\\git\\lazyBIDS\\lazybids\\datatypes.py\" target=\"_blank\"><span style=\"color: #7f7f7f; text-decoration-color: #7f7f7f\">datatypes.py</span></a><span style=\"color: #7f7f7f; text-decoration-color: #7f7f7f\">:</span><a href=\"file://E:\\git\\lazyBIDS\\lazybids\\datatypes.py#452\" target=\"_blank\"><span style=\"color: #7f7f7f; text-decoration-color: #7f7f7f\">452</span></a>\n",
       "<span style=\"color: #7fbfbf; text-decoration-color: #7fbfbf\">           </span>         E:\\git\\lazyBIDS\\examples\\bids-starter-kit-template\\templates\\.<span style=\"color: #800080; text-decoration-color: #800080\">/</span><span style=\"color: #ff00ff; text-decoration-color: #ff00ff\">participants.ts</span> <span style=\"color: #7f7f7f; text-decoration-color: #7f7f7f\">                </span>\n",
       "<span style=\"color: #7fbfbf; text-decoration-color: #7fbfbf\">           </span>         <span style=\"color: #ff00ff; text-decoration-color: #ff00ff\">v</span>                                                                              <span style=\"color: #7f7f7f; text-decoration-color: #7f7f7f\">                </span>\n",
       "</pre>\n"
      ],
      "text/plain": [
       "\u001b[2;36m[14:58:20]\u001b[0m\u001b[2;36m \u001b[0m\u001b[34mINFO    \u001b[0m Loading all subjects from                                                      \u001b]8;id=314228;file://E:\\git\\lazyBIDS\\lazybids\\datatypes.py\u001b\\\u001b[2mdatatypes.py\u001b[0m\u001b]8;;\u001b\\\u001b[2m:\u001b[0m\u001b]8;id=800514;file://E:\\git\\lazyBIDS\\lazybids\\datatypes.py#452\u001b\\\u001b[2m452\u001b[0m\u001b]8;;\u001b\\\n",
       "\u001b[2;36m           \u001b[0m         E:\\git\\lazyBIDS\\examples\\bids-starter-kit-template\\templates\\.\u001b[35m/\u001b[0m\u001b[95mparticipants.ts\u001b[0m \u001b[2m                \u001b[0m\n",
       "\u001b[2;36m           \u001b[0m         \u001b[95mv\u001b[0m                                                                              \u001b[2m                \u001b[0m\n"
      ]
     },
     "metadata": {},
     "output_type": "display_data"
    },
    {
     "name": "stderr",
     "output_type": "stream",
     "text": [
      "  0%|          | 0/2 [00:00<?, ?it/s]"
     ]
    },
    {
     "data": {
      "text/html": [
       "<pre style=\"white-space:pre;overflow-x:auto;line-height:normal;font-family:Menlo,'DejaVu Sans Mono',consolas,'Courier New',monospace\"><span style=\"color: #7fbfbf; text-decoration-color: #7fbfbf\">           </span><span style=\"color: #000080; text-decoration-color: #000080\">INFO    </span> Loading experiments for participant sub-<span style=\"color: #008080; text-decoration-color: #008080; font-weight: bold\">01</span>                                     <a href=\"file://E:\\git\\lazyBIDS\\lazybids\\datatypes.py\" target=\"_blank\"><span style=\"color: #7f7f7f; text-decoration-color: #7f7f7f\">datatypes.py</span></a><span style=\"color: #7f7f7f; text-decoration-color: #7f7f7f\">:</span><a href=\"file://E:\\git\\lazyBIDS\\lazybids\\datatypes.py#331\" target=\"_blank\"><span style=\"color: #7f7f7f; text-decoration-color: #7f7f7f\">331</span></a>\n",
       "</pre>\n"
      ],
      "text/plain": [
       "\u001b[2;36m          \u001b[0m\u001b[2;36m \u001b[0m\u001b[34mINFO    \u001b[0m Loading experiments for participant sub-\u001b[1;36m01\u001b[0m                                     \u001b]8;id=696216;file://E:\\git\\lazyBIDS\\lazybids\\datatypes.py\u001b\\\u001b[2mdatatypes.py\u001b[0m\u001b]8;;\u001b\\\u001b[2m:\u001b[0m\u001b]8;id=694008;file://E:\\git\\lazyBIDS\\lazybids\\datatypes.py#331\u001b\\\u001b[2m331\u001b[0m\u001b]8;;\u001b\\\n"
      ]
     },
     "metadata": {},
     "output_type": "display_data"
    },
    {
     "name": "stderr",
     "output_type": "stream",
     "text": []
    },
    {
     "name": "stderr",
     "output_type": "stream",
     "text": [
      "100%|██████████| 1/1 [00:00<00:00,  6.47it/s]\n",
      " 50%|█████     | 1/2 [00:00<00:00,  6.14it/s]"
     ]
    },
    {
     "data": {
      "text/html": [
       "<pre style=\"white-space:pre;overflow-x:auto;line-height:normal;font-family:Menlo,'DejaVu Sans Mono',consolas,'Courier New',monospace\"><span style=\"color: #7fbfbf; text-decoration-color: #7fbfbf\">[14:58:21] </span><span style=\"color: #000080; text-decoration-color: #000080\">INFO    </span> Loading experiments for participant sub-epilepsy01                             <a href=\"file://E:\\git\\lazyBIDS\\lazybids\\datatypes.py\" target=\"_blank\"><span style=\"color: #7f7f7f; text-decoration-color: #7f7f7f\">datatypes.py</span></a><span style=\"color: #7f7f7f; text-decoration-color: #7f7f7f\">:</span><a href=\"file://E:\\git\\lazyBIDS\\lazybids\\datatypes.py#331\" target=\"_blank\"><span style=\"color: #7f7f7f; text-decoration-color: #7f7f7f\">331</span></a>\n",
       "</pre>\n"
      ],
      "text/plain": [
       "\u001b[2;36m[14:58:21]\u001b[0m\u001b[2;36m \u001b[0m\u001b[34mINFO    \u001b[0m Loading experiments for participant sub-epilepsy01                             \u001b]8;id=559167;file://E:\\git\\lazyBIDS\\lazybids\\datatypes.py\u001b\\\u001b[2mdatatypes.py\u001b[0m\u001b]8;;\u001b\\\u001b[2m:\u001b[0m\u001b]8;id=112226;file://E:\\git\\lazyBIDS\\lazybids\\datatypes.py#331\u001b\\\u001b[2m331\u001b[0m\u001b]8;;\u001b\\\n"
      ]
     },
     "metadata": {},
     "output_type": "display_data"
    },
    {
     "name": "stderr",
     "output_type": "stream",
     "text": [
      "100%|██████████| 1/1 [00:00<00:00, 80.17it/s]\n",
      "100%|██████████| 2/2 [00:00<00:00, 10.97it/s]\n"
     ]
    }
   ],
   "source": [
    "dataset_dir = './templates/'\n",
    "ds = lazybids.Dataset.from_folder('E:/git/lazyBIDS/examples/bids-starter-kit-template/templates', load_scans_in_memory=False)"
   ]
  },
  {
   "cell_type": "code",
   "execution_count": 4,
   "metadata": {},
   "outputs": [
    {
     "data": {
      "text/html": [
       "<pre style=\"white-space:pre;overflow-x:auto;line-height:normal;font-family:Menlo,'DejaVu Sans Mono',consolas,'Courier New',monospace\"><span style=\"color: #800080; text-decoration-color: #800080; font-weight: bold\">Dataset</span><span style=\"font-weight: bold\">(</span>\n",
       "    <span style=\"color: #808000; text-decoration-color: #808000\">name</span>=<span style=\"color: #008000; text-decoration-color: #008000\">''</span>,\n",
       "    <span style=\"color: #808000; text-decoration-color: #808000\">folder</span>=<span style=\"color: #800080; text-decoration-color: #800080; font-weight: bold\">WindowsPath</span><span style=\"font-weight: bold\">(</span><span style=\"color: #008000; text-decoration-color: #008000\">'E:/git/lazyBIDS/examples/bids-starter-kit-template/templates'</span><span style=\"font-weight: bold\">)</span>,\n",
       "    <span style=\"color: #808000; text-decoration-color: #808000\">json_file</span>=<span style=\"color: #800080; text-decoration-color: #800080; font-weight: bold\">WindowsPath</span><span style=\"font-weight: bold\">(</span><span style=\"color: #008000; text-decoration-color: #008000\">'E:/git/lazyBIDS/examples/bids-starter-kit-template/templates/dataset_description.json'</span><span style=\"font-weight: bold\">)</span>,\n",
       "    <span style=\"color: #808000; text-decoration-color: #808000\">participants_json</span>=<span style=\"color: #800080; text-decoration-color: #800080; font-style: italic\">None</span>,\n",
       "    <span style=\"color: #808000; text-decoration-color: #808000\">bids_version</span>=<span style=\"color: #008000; text-decoration-color: #008000\">'1.8.0'</span>,\n",
       "    <span style=\"color: #808000; text-decoration-color: #808000\">HEDVersion</span>=<span style=\"color: #800080; text-decoration-color: #800080; font-style: italic\">None</span>,\n",
       "    <span style=\"color: #808000; text-decoration-color: #808000\">authors</span>=<span style=\"font-weight: bold\">[</span><span style=\"color: #008000; text-decoration-color: #008000\">''</span>, <span style=\"color: #008000; text-decoration-color: #008000\">''</span>, <span style=\"color: #008000; text-decoration-color: #008000\">''</span><span style=\"font-weight: bold\">]</span>,\n",
       "    <span style=\"color: #808000; text-decoration-color: #808000\">fields</span>=<span style=\"font-weight: bold\">{}</span>,\n",
       "    <span style=\"color: #808000; text-decoration-color: #808000\">description</span>=<span style=\"color: #800080; text-decoration-color: #800080; font-style: italic\">None</span>,\n",
       "    <span style=\"color: #808000; text-decoration-color: #808000\">dataset_type</span>=<span style=\"color: #008000; text-decoration-color: #008000\">'raw'</span>,\n",
       "    <span style=\"color: #808000; text-decoration-color: #808000\">how_to_acknowledge</span>=<span style=\"color: #008000; text-decoration-color: #008000\">''</span>,\n",
       "    <span style=\"color: #808000; text-decoration-color: #808000\">acknowledgements</span>=<span style=\"color: #008000; text-decoration-color: #008000\">''</span>,\n",
       "    <span style=\"color: #808000; text-decoration-color: #808000\">funding</span>=<span style=\"font-weight: bold\">[</span><span style=\"color: #008000; text-decoration-color: #008000\">''</span>, <span style=\"color: #008000; text-decoration-color: #008000\">''</span>, <span style=\"color: #008000; text-decoration-color: #008000\">''</span><span style=\"font-weight: bold\">]</span>,\n",
       "    <span style=\"color: #808000; text-decoration-color: #808000\">ethics_approvals</span>=<span style=\"font-weight: bold\">[</span><span style=\"color: #008000; text-decoration-color: #008000\">''</span><span style=\"font-weight: bold\">]</span>,\n",
       "    <span style=\"color: #808000; text-decoration-color: #808000\">references_and_links</span>=<span style=\"font-weight: bold\">[</span><span style=\"color: #008000; text-decoration-color: #008000\">''</span>, <span style=\"color: #008000; text-decoration-color: #008000\">''</span>, <span style=\"color: #008000; text-decoration-color: #008000\">''</span><span style=\"font-weight: bold\">]</span>,\n",
       "    <span style=\"color: #808000; text-decoration-color: #808000\">source_datasets</span>=<span style=\"color: #800080; text-decoration-color: #800080; font-style: italic\">None</span>,\n",
       "    <span style=\"color: #808000; text-decoration-color: #808000\">license</span>=<span style=\"color: #008000; text-decoration-color: #008000\">''</span>,\n",
       "    <span style=\"color: #808000; text-decoration-color: #808000\">dataset_doi</span>=<span style=\"color: #008000; text-decoration-color: #008000\">'doi:'</span>,\n",
       "    <span style=\"color: #808000; text-decoration-color: #808000\">subject_variables_metadata</span>=<span style=\"color: #800080; text-decoration-color: #800080; font-style: italic\">None</span>,\n",
       "    <span style=\"color: #808000; text-decoration-color: #808000\">hed_version</span>=<span style=\"color: #008000; text-decoration-color: #008000\">'8.2.0'</span>\n",
       "<span style=\"font-weight: bold\">)</span>\n",
       "</pre>\n"
      ],
      "text/plain": [
       "\u001b[1;35mDataset\u001b[0m\u001b[1m(\u001b[0m\n",
       "    \u001b[33mname\u001b[0m=\u001b[32m''\u001b[0m,\n",
       "    \u001b[33mfolder\u001b[0m=\u001b[1;35mWindowsPath\u001b[0m\u001b[1m(\u001b[0m\u001b[32m'E:/git/lazyBIDS/examples/bids-starter-kit-template/templates'\u001b[0m\u001b[1m)\u001b[0m,\n",
       "    \u001b[33mjson_file\u001b[0m=\u001b[1;35mWindowsPath\u001b[0m\u001b[1m(\u001b[0m\u001b[32m'E:/git/lazyBIDS/examples/bids-starter-kit-template/templates/dataset_description.json'\u001b[0m\u001b[1m)\u001b[0m,\n",
       "    \u001b[33mparticipants_json\u001b[0m=\u001b[3;35mNone\u001b[0m,\n",
       "    \u001b[33mbids_version\u001b[0m=\u001b[32m'1.8.0'\u001b[0m,\n",
       "    \u001b[33mHEDVersion\u001b[0m=\u001b[3;35mNone\u001b[0m,\n",
       "    \u001b[33mauthors\u001b[0m=\u001b[1m[\u001b[0m\u001b[32m''\u001b[0m, \u001b[32m''\u001b[0m, \u001b[32m''\u001b[0m\u001b[1m]\u001b[0m,\n",
       "    \u001b[33mfields\u001b[0m=\u001b[1m{\u001b[0m\u001b[1m}\u001b[0m,\n",
       "    \u001b[33mdescription\u001b[0m=\u001b[3;35mNone\u001b[0m,\n",
       "    \u001b[33mdataset_type\u001b[0m=\u001b[32m'raw'\u001b[0m,\n",
       "    \u001b[33mhow_to_acknowledge\u001b[0m=\u001b[32m''\u001b[0m,\n",
       "    \u001b[33macknowledgements\u001b[0m=\u001b[32m''\u001b[0m,\n",
       "    \u001b[33mfunding\u001b[0m=\u001b[1m[\u001b[0m\u001b[32m''\u001b[0m, \u001b[32m''\u001b[0m, \u001b[32m''\u001b[0m\u001b[1m]\u001b[0m,\n",
       "    \u001b[33methics_approvals\u001b[0m=\u001b[1m[\u001b[0m\u001b[32m''\u001b[0m\u001b[1m]\u001b[0m,\n",
       "    \u001b[33mreferences_and_links\u001b[0m=\u001b[1m[\u001b[0m\u001b[32m''\u001b[0m, \u001b[32m''\u001b[0m, \u001b[32m''\u001b[0m\u001b[1m]\u001b[0m,\n",
       "    \u001b[33msource_datasets\u001b[0m=\u001b[3;35mNone\u001b[0m,\n",
       "    \u001b[33mlicense\u001b[0m=\u001b[32m''\u001b[0m,\n",
       "    \u001b[33mdataset_doi\u001b[0m=\u001b[32m'doi:'\u001b[0m,\n",
       "    \u001b[33msubject_variables_metadata\u001b[0m=\u001b[3;35mNone\u001b[0m,\n",
       "    \u001b[33mhed_version\u001b[0m=\u001b[32m'8.2.0'\u001b[0m\n",
       "\u001b[1m)\u001b[0m\n"
      ]
     },
     "metadata": {},
     "output_type": "display_data"
    }
   ],
   "source": [
    "print(ds)"
   ]
  },
  {
   "cell_type": "code",
   "execution_count": 5,
   "metadata": {},
   "outputs": [
    {
     "data": {
      "text/html": [
       "<pre style=\"white-space:pre;overflow-x:auto;line-height:normal;font-family:Menlo,'DejaVu Sans Mono',consolas,'Courier New',monospace\"><span style=\"color: #800080; text-decoration-color: #800080; font-weight: bold\">Subject</span><span style=\"font-weight: bold\">(</span>\n",
       "    <span style=\"color: #808000; text-decoration-color: #808000\">participant_id</span>=<span style=\"color: #008000; text-decoration-color: #008000\">'sub-01'</span>,\n",
       "    <span style=\"color: #808000; text-decoration-color: #808000\">folder</span>=<span style=\"color: #800080; text-decoration-color: #800080; font-weight: bold\">WindowsPath</span><span style=\"font-weight: bold\">(</span><span style=\"color: #008000; text-decoration-color: #008000\">'E:/git/lazyBIDS/examples/bids-starter-kit-template/templates/sub-01'</span><span style=\"font-weight: bold\">)</span>,\n",
       "    <span style=\"color: #808000; text-decoration-color: #808000\">scan_metadata</span>=<span style=\"font-weight: bold\">{}</span>,\n",
       "    <span style=\"color: #808000; text-decoration-color: #808000\">fields</span>=<span style=\"color: #800080; text-decoration-color: #800080; font-style: italic\">None</span>,\n",
       "    <span style=\"color: #808000; text-decoration-color: #808000\">age</span>=<span style=\"color: #008080; text-decoration-color: #008080; font-weight: bold\">0</span>,\n",
       "    <span style=\"color: #808000; text-decoration-color: #808000\">sex</span>=<span style=\"color: #008000; text-decoration-color: #008000\">'m'</span>,\n",
       "    <span style=\"color: #808000; text-decoration-color: #808000\">handedness</span>=<span style=\"color: #008000; text-decoration-color: #008000\">'l'</span>,\n",
       "    <span style=\"color: #808000; text-decoration-color: #808000\">n_experiments</span>=<span style=\"color: #008080; text-decoration-color: #008080; font-weight: bold\">1</span>,\n",
       "    <span style=\"color: #808000; text-decoration-color: #808000\">n_scans</span>=<span style=\"color: #008080; text-decoration-color: #008080; font-weight: bold\">0</span>\n",
       "<span style=\"font-weight: bold\">)</span>\n",
       "</pre>\n"
      ],
      "text/plain": [
       "\u001b[1;35mSubject\u001b[0m\u001b[1m(\u001b[0m\n",
       "    \u001b[33mparticipant_id\u001b[0m=\u001b[32m'sub-01'\u001b[0m,\n",
       "    \u001b[33mfolder\u001b[0m=\u001b[1;35mWindowsPath\u001b[0m\u001b[1m(\u001b[0m\u001b[32m'E:/git/lazyBIDS/examples/bids-starter-kit-template/templates/sub-01'\u001b[0m\u001b[1m)\u001b[0m,\n",
       "    \u001b[33mscan_metadata\u001b[0m=\u001b[1m{\u001b[0m\u001b[1m}\u001b[0m,\n",
       "    \u001b[33mfields\u001b[0m=\u001b[3;35mNone\u001b[0m,\n",
       "    \u001b[33mage\u001b[0m=\u001b[1;36m0\u001b[0m,\n",
       "    \u001b[33msex\u001b[0m=\u001b[32m'm'\u001b[0m,\n",
       "    \u001b[33mhandedness\u001b[0m=\u001b[32m'l'\u001b[0m,\n",
       "    \u001b[33mn_experiments\u001b[0m=\u001b[1;36m1\u001b[0m,\n",
       "    \u001b[33mn_scans\u001b[0m=\u001b[1;36m0\u001b[0m\n",
       "\u001b[1m)\u001b[0m\n"
      ]
     },
     "metadata": {},
     "output_type": "display_data"
    },
    {
     "data": {
      "text/html": [
       "<pre style=\"white-space:pre;overflow-x:auto;line-height:normal;font-family:Menlo,'DejaVu Sans Mono',consolas,'Courier New',monospace\"><span style=\"color: #800080; text-decoration-color: #800080; font-weight: bold\">Subject</span><span style=\"font-weight: bold\">(</span>\n",
       "    <span style=\"color: #808000; text-decoration-color: #808000\">participant_id</span>=<span style=\"color: #008000; text-decoration-color: #008000\">'sub-epilepsy01'</span>,\n",
       "    <span style=\"color: #808000; text-decoration-color: #808000\">folder</span>=<span style=\"color: #800080; text-decoration-color: #800080; font-weight: bold\">WindowsPath</span><span style=\"font-weight: bold\">(</span><span style=\"color: #008000; text-decoration-color: #008000\">'E:/git/lazyBIDS/examples/bids-starter-kit-template/templates/sub-epilepsy01'</span><span style=\"font-weight: bold\">)</span>,\n",
       "    <span style=\"color: #808000; text-decoration-color: #808000\">scan_metadata</span>=<span style=\"font-weight: bold\">{}</span>,\n",
       "    <span style=\"color: #808000; text-decoration-color: #808000\">fields</span>=<span style=\"color: #800080; text-decoration-color: #800080; font-style: italic\">None</span>,\n",
       "    <span style=\"color: #808000; text-decoration-color: #808000\">age</span>=<span style=\"color: #008080; text-decoration-color: #008080; font-weight: bold\">10</span>,\n",
       "    <span style=\"color: #808000; text-decoration-color: #808000\">sex</span>=<span style=\"color: #008000; text-decoration-color: #008000\">'f'</span>,\n",
       "    <span style=\"color: #808000; text-decoration-color: #808000\">handedness</span>=<span style=\"color: #008000; text-decoration-color: #008000\">'r'</span>,\n",
       "    <span style=\"color: #808000; text-decoration-color: #808000\">n_experiments</span>=<span style=\"color: #008080; text-decoration-color: #008080; font-weight: bold\">1</span>,\n",
       "    <span style=\"color: #808000; text-decoration-color: #808000\">n_scans</span>=<span style=\"color: #008080; text-decoration-color: #008080; font-weight: bold\">0</span>\n",
       "<span style=\"font-weight: bold\">)</span>\n",
       "</pre>\n"
      ],
      "text/plain": [
       "\u001b[1;35mSubject\u001b[0m\u001b[1m(\u001b[0m\n",
       "    \u001b[33mparticipant_id\u001b[0m=\u001b[32m'sub-epilepsy01'\u001b[0m,\n",
       "    \u001b[33mfolder\u001b[0m=\u001b[1;35mWindowsPath\u001b[0m\u001b[1m(\u001b[0m\u001b[32m'E:/git/lazyBIDS/examples/bids-starter-kit-template/templates/sub-epilepsy01'\u001b[0m\u001b[1m)\u001b[0m,\n",
       "    \u001b[33mscan_metadata\u001b[0m=\u001b[1m{\u001b[0m\u001b[1m}\u001b[0m,\n",
       "    \u001b[33mfields\u001b[0m=\u001b[3;35mNone\u001b[0m,\n",
       "    \u001b[33mage\u001b[0m=\u001b[1;36m10\u001b[0m,\n",
       "    \u001b[33msex\u001b[0m=\u001b[32m'f'\u001b[0m,\n",
       "    \u001b[33mhandedness\u001b[0m=\u001b[32m'r'\u001b[0m,\n",
       "    \u001b[33mn_experiments\u001b[0m=\u001b[1;36m1\u001b[0m,\n",
       "    \u001b[33mn_scans\u001b[0m=\u001b[1;36m0\u001b[0m\n",
       "\u001b[1m)\u001b[0m\n"
      ]
     },
     "metadata": {},
     "output_type": "display_data"
    }
   ],
   "source": [
    "for subject in ds.subjects:\n",
    "    print(subject)"
   ]
  },
  {
   "cell_type": "code",
   "execution_count": 14,
   "metadata": {},
   "outputs": [
    {
     "data": {
      "text/html": [
       "<pre style=\"white-space:pre;overflow-x:auto;line-height:normal;font-family:Menlo,'DejaVu Sans Mono',consolas,'Courier New',monospace\"><span style=\"color: #800080; text-decoration-color: #800080; font-weight: bold\">Experiment</span><span style=\"font-weight: bold\">(</span>\n",
       "    <span style=\"color: #808000; text-decoration-color: #808000\">folder</span>=<span style=\"color: #800080; text-decoration-color: #800080; font-weight: bold\">WindowsPath</span><span style=\"font-weight: bold\">(</span><span style=\"color: #008000; text-decoration-color: #008000\">'E:/git/lazyBIDS/examples/bids-starter-kit-template/templates/sub-epilepsy01/ses-01'</span><span style=\"font-weight: bold\">)</span>,\n",
       "    <span style=\"color: #808000; text-decoration-color: #808000\">scans</span>=<span style=\"font-weight: bold\">{</span>\n",
       "        <span style=\"color: #008000; text-decoration-color: #008000\">'sub-epilepsy01_ses-01_electrodes'</span>: <span style=\"color: #800080; text-decoration-color: #800080; font-weight: bold\">Scan</span><span style=\"font-weight: bold\">(</span>\n",
       "            <span style=\"color: #808000; text-decoration-color: #808000\">name</span>=<span style=\"color: #008000; text-decoration-color: #008000\">'sub-epilepsy01_ses-01_electrodes'</span>,\n",
       "            <span style=\"color: #808000; text-decoration-color: #808000\">files</span>=<span style=\"font-weight: bold\">[]</span>,\n",
       "            <span style=\"color: #808000; text-decoration-color: #808000\">metadata_files</span>=<span style=\"font-weight: bold\">[</span>\n",
       "                <span style=\"color: #008000; text-decoration-color: #008000\">'E:\\\\git\\\\lazyBIDS\\\\examples\\\\bids-starter-kit-template\\\\templates\\\\sub-epilepsy01\\\\ses-01\\\\./ieeg\\</span>\n",
       "<span style=\"color: #008000; text-decoration-color: #008000\">\\.\\\\sub-epilepsy01_ses-01_electrodes.json'</span>,\n",
       "                <span style=\"color: #008000; text-decoration-color: #008000\">'E:\\\\git\\\\lazyBIDS\\\\examples\\\\bids-starter-kit-template\\\\templates\\\\sub-epilepsy01\\\\ses-01\\\\./ieeg\\</span>\n",
       "<span style=\"color: #008000; text-decoration-color: #008000\">\\.\\\\sub-epilepsy01_ses-01_electrodes.tsv'</span>\n",
       "            <span style=\"font-weight: bold\">]</span>,\n",
       "            <span style=\"color: #808000; text-decoration-color: #808000\">fields</span>=<span style=\"font-weight: bold\">{</span>\n",
       "                <span style=\"color: #008000; text-decoration-color: #008000\">'name'</span>: <span style=\"font-weight: bold\">{</span><span style=\"color: #008000; text-decoration-color: #008000\">'Description'</span>: <span style=\"color: #008000; text-decoration-color: #008000\">'REQUIRED. Name of the electrode contact point.'</span><span style=\"font-weight: bold\">}</span>,\n",
       "                <span style=\"color: #008000; text-decoration-color: #008000\">'x'</span>: <span style=\"font-weight: bold\">{</span>\n",
       "                    <span style=\"color: #008000; text-decoration-color: #008000\">'Description'</span>: <span style=\"color: #008000; text-decoration-color: #008000\">'REQUIRED. X position. The positions of the center of each electrode in xyz </span>\n",
       "<span style=\"color: #008000; text-decoration-color: #008000\">space. Units are specified in space-&lt;label&gt;_coordsystem.json.'</span>\n",
       "                <span style=\"font-weight: bold\">}</span>,\n",
       "                <span style=\"color: #008000; text-decoration-color: #008000\">'y'</span>: <span style=\"font-weight: bold\">{</span><span style=\"color: #008000; text-decoration-color: #008000\">'Description'</span>: <span style=\"color: #008000; text-decoration-color: #008000\">'REQUIRED. Y position.'</span><span style=\"font-weight: bold\">}</span>,\n",
       "                <span style=\"color: #008000; text-decoration-color: #008000\">'z'</span>: <span style=\"font-weight: bold\">{</span>\n",
       "                    <span style=\"color: #008000; text-decoration-color: #008000\">'Description'</span>: <span style=\"color: #008000; text-decoration-color: #008000\">'REQUIRED. Z position. If electrodes are in 2D space this should be a column of </span>\n",
       "<span style=\"color: #008000; text-decoration-color: #008000\">n/a values.'</span>\n",
       "                <span style=\"font-weight: bold\">}</span>,\n",
       "                <span style=\"color: #008000; text-decoration-color: #008000\">'size'</span>: <span style=\"font-weight: bold\">{</span><span style=\"color: #008000; text-decoration-color: #008000\">'Description'</span>: <span style=\"color: #008000; text-decoration-color: #008000\">'REQUIRED. Surface area of the electrode, units MUST be in mm^2.'</span><span style=\"font-weight: bold\">}</span>,\n",
       "                <span style=\"color: #008000; text-decoration-color: #008000\">'seizure_zone'</span>: <span style=\"font-weight: bold\">{</span>\n",
       "                    <span style=\"color: #008000; text-decoration-color: #008000\">'LongName'</span>: <span style=\"color: #008000; text-decoration-color: #008000\">'Seizure onset zone'</span>,\n",
       "                    <span style=\"color: #008000; text-decoration-color: #008000\">'Description'</span>: <span style=\"color: #008000; text-decoration-color: #008000\">'final conclusion drawn by an epileptologist on the electrodes involved in the </span>\n",
       "<span style=\"color: #008000; text-decoration-color: #008000\">seizures'</span>,\n",
       "                    <span style=\"color: #008000; text-decoration-color: #008000\">'Levels'</span>: <span style=\"font-weight: bold\">{</span>\n",
       "                        <span style=\"color: #008000; text-decoration-color: #008000\">'SOZ'</span>: <span style=\"color: #008000; text-decoration-color: #008000\">'Seizure Onset Zone, the region where the recorded clinical seizures originated </span>\n",
       "<span style=\"color: #008000; text-decoration-color: #008000\">during the recording period.'</span>,\n",
       "                        <span style=\"color: #008000; text-decoration-color: #008000\">'IrritativeZone'</span>: <span style=\"color: #008000; text-decoration-color: #008000\">'Region of cortex that generates interictal epileptiform discharges, but </span>\n",
       "<span style=\"color: #008000; text-decoration-color: #008000\">not seizures'</span>,\n",
       "                        <span style=\"color: #008000; text-decoration-color: #008000\">'EarlyPropagationZone'</span>: <span style=\"color: #008000; text-decoration-color: #008000\">'Region of cortex that generates the initial seizure symptoms. Not </span>\n",
       "<span style=\"color: #008000; text-decoration-color: #008000\">seizure onset, but the propagation of seizure from SOZ into this region within first 3 seconds from seizure </span>\n",
       "<span style=\"color: #008000; text-decoration-color: #008000\">onset.'</span>,\n",
       "                        <span style=\"color: #008000; text-decoration-color: #008000\">'Resected'</span>: <span style=\"color: #008000; text-decoration-color: #008000\">'Region of cortex that was resected'</span>,\n",
       "                        <span style=\"color: #008000; text-decoration-color: #008000\">'ResectedEdge'</span>: <span style=\"color: #008000; text-decoration-color: #008000\">'Region of cortex that is within 1 cm of the edge of the resected area.'</span>\n",
       "                    <span style=\"font-weight: bold\">}</span>\n",
       "                <span style=\"font-weight: bold\">}</span>,\n",
       "                <span style=\"color: #008000; text-decoration-color: #008000\">'modality'</span>: <span style=\"color: #008000; text-decoration-color: #008000\">'ieeg'</span>\n",
       "            <span style=\"font-weight: bold\">}</span>,\n",
       "            <span style=\"color: #808000; text-decoration-color: #808000\">table</span>=  name  x  y  z  size   seizure_zone\n",
       "<span style=\"color: #008080; text-decoration-color: #008080; font-weight: bold\">0</span>  TO1  <span style=\"color: #008080; text-decoration-color: #008080; font-weight: bold\">0</span>  <span style=\"color: #008080; text-decoration-color: #008080; font-weight: bold\">0</span>  <span style=\"color: #008080; text-decoration-color: #008080; font-weight: bold\">0</span>     <span style=\"color: #008080; text-decoration-color: #008080; font-weight: bold\">5</span>         NonSOZ\n",
       "<span style=\"color: #008080; text-decoration-color: #008080; font-weight: bold\">1</span>  TO2  <span style=\"color: #008080; text-decoration-color: #008080; font-weight: bold\">0</span>  <span style=\"color: #008080; text-decoration-color: #008080; font-weight: bold\">0</span>  <span style=\"color: #008080; text-decoration-color: #008080; font-weight: bold\">0</span>     <span style=\"color: #008080; text-decoration-color: #008080; font-weight: bold\">5</span>  SOZ, Resected,\n",
       "            <span style=\"color: #808000; text-decoration-color: #808000\">n_files</span>=<span style=\"color: #008080; text-decoration-color: #008080; font-weight: bold\">0</span>\n",
       "        <span style=\"font-weight: bold\">)</span>\n",
       "    <span style=\"font-weight: bold\">}</span>,\n",
       "    <span style=\"color: #808000; text-decoration-color: #808000\">scan_metadata</span>=<span style=\"font-weight: bold\">{}</span>,\n",
       "    <span style=\"color: #808000; text-decoration-color: #808000\">fields</span>=<span style=\"color: #800080; text-decoration-color: #800080; font-style: italic\">None</span>,\n",
       "    <span style=\"color: #808000; text-decoration-color: #808000\">participant_id</span>=<span style=\"color: #008000; text-decoration-color: #008000\">'ses-01'</span>,\n",
       "    <span style=\"color: #808000; text-decoration-color: #808000\">session_id</span>=<span style=\"color: #008000; text-decoration-color: #008000\">'ses-01'</span>,\n",
       "    <span style=\"color: #808000; text-decoration-color: #808000\">n_scans</span>=<span style=\"color: #008080; text-decoration-color: #008080; font-weight: bold\">1</span>\n",
       "<span style=\"font-weight: bold\">)</span>\n",
       "</pre>\n"
      ],
      "text/plain": [
       "\u001b[1;35mExperiment\u001b[0m\u001b[1m(\u001b[0m\n",
       "    \u001b[33mfolder\u001b[0m=\u001b[1;35mWindowsPath\u001b[0m\u001b[1m(\u001b[0m\u001b[32m'E:/git/lazyBIDS/examples/bids-starter-kit-template/templates/sub-epilepsy01/ses-01'\u001b[0m\u001b[1m)\u001b[0m,\n",
       "    \u001b[33mscans\u001b[0m=\u001b[1m{\u001b[0m\n",
       "        \u001b[32m'sub-epilepsy01_ses-01_electrodes'\u001b[0m: \u001b[1;35mScan\u001b[0m\u001b[1m(\u001b[0m\n",
       "            \u001b[33mname\u001b[0m=\u001b[32m'sub-epilepsy01_ses-01_electrodes'\u001b[0m,\n",
       "            \u001b[33mfiles\u001b[0m=\u001b[1m[\u001b[0m\u001b[1m]\u001b[0m,\n",
       "            \u001b[33mmetadata_files\u001b[0m=\u001b[1m[\u001b[0m\n",
       "                \u001b[32m'E:\\\\git\\\\lazyBIDS\\\\examples\\\\bids-starter-kit-template\\\\templates\\\\sub-epilepsy01\\\\ses-01\\\\./ieeg\\\u001b[0m\n",
       "\u001b[32m\\.\\\\sub-epilepsy01_ses-01_electrodes.json'\u001b[0m,\n",
       "                \u001b[32m'E:\\\\git\\\\lazyBIDS\\\\examples\\\\bids-starter-kit-template\\\\templates\\\\sub-epilepsy01\\\\ses-01\\\\./ieeg\\\u001b[0m\n",
       "\u001b[32m\\.\\\\sub-epilepsy01_ses-01_electrodes.tsv'\u001b[0m\n",
       "            \u001b[1m]\u001b[0m,\n",
       "            \u001b[33mfields\u001b[0m=\u001b[1m{\u001b[0m\n",
       "                \u001b[32m'name'\u001b[0m: \u001b[1m{\u001b[0m\u001b[32m'Description'\u001b[0m: \u001b[32m'REQUIRED. Name of the electrode contact point.'\u001b[0m\u001b[1m}\u001b[0m,\n",
       "                \u001b[32m'x'\u001b[0m: \u001b[1m{\u001b[0m\n",
       "                    \u001b[32m'Description'\u001b[0m: \u001b[32m'REQUIRED. X position. The positions of the center of each electrode in xyz \u001b[0m\n",
       "\u001b[32mspace. Units are specified in space-\u001b[0m\u001b[32m<\u001b[0m\u001b[32mlabel\u001b[0m\u001b[32m>\u001b[0m\u001b[32m_coordsystem.json.'\u001b[0m\n",
       "                \u001b[1m}\u001b[0m,\n",
       "                \u001b[32m'y'\u001b[0m: \u001b[1m{\u001b[0m\u001b[32m'Description'\u001b[0m: \u001b[32m'REQUIRED. Y position.'\u001b[0m\u001b[1m}\u001b[0m,\n",
       "                \u001b[32m'z'\u001b[0m: \u001b[1m{\u001b[0m\n",
       "                    \u001b[32m'Description'\u001b[0m: \u001b[32m'REQUIRED. Z position. If electrodes are in 2D space this should be a column of \u001b[0m\n",
       "\u001b[32mn/a values.'\u001b[0m\n",
       "                \u001b[1m}\u001b[0m,\n",
       "                \u001b[32m'size'\u001b[0m: \u001b[1m{\u001b[0m\u001b[32m'Description'\u001b[0m: \u001b[32m'REQUIRED. Surface area of the electrode, units MUST be in mm^2.'\u001b[0m\u001b[1m}\u001b[0m,\n",
       "                \u001b[32m'seizure_zone'\u001b[0m: \u001b[1m{\u001b[0m\n",
       "                    \u001b[32m'LongName'\u001b[0m: \u001b[32m'Seizure onset zone'\u001b[0m,\n",
       "                    \u001b[32m'Description'\u001b[0m: \u001b[32m'final conclusion drawn by an epileptologist on the electrodes involved in the \u001b[0m\n",
       "\u001b[32mseizures'\u001b[0m,\n",
       "                    \u001b[32m'Levels'\u001b[0m: \u001b[1m{\u001b[0m\n",
       "                        \u001b[32m'SOZ'\u001b[0m: \u001b[32m'Seizure Onset Zone, the region where the recorded clinical seizures originated \u001b[0m\n",
       "\u001b[32mduring the recording period.'\u001b[0m,\n",
       "                        \u001b[32m'IrritativeZone'\u001b[0m: \u001b[32m'Region of cortex that generates interictal epileptiform discharges, but \u001b[0m\n",
       "\u001b[32mnot seizures'\u001b[0m,\n",
       "                        \u001b[32m'EarlyPropagationZone'\u001b[0m: \u001b[32m'Region of cortex that generates the initial seizure symptoms. Not \u001b[0m\n",
       "\u001b[32mseizure onset, but the propagation of seizure from SOZ into this region within first 3 seconds from seizure \u001b[0m\n",
       "\u001b[32monset.'\u001b[0m,\n",
       "                        \u001b[32m'Resected'\u001b[0m: \u001b[32m'Region of cortex that was resected'\u001b[0m,\n",
       "                        \u001b[32m'ResectedEdge'\u001b[0m: \u001b[32m'Region of cortex that is within 1 cm of the edge of the resected area.'\u001b[0m\n",
       "                    \u001b[1m}\u001b[0m\n",
       "                \u001b[1m}\u001b[0m,\n",
       "                \u001b[32m'modality'\u001b[0m: \u001b[32m'ieeg'\u001b[0m\n",
       "            \u001b[1m}\u001b[0m,\n",
       "            \u001b[33mtable\u001b[0m=  name  x  y  z  size   seizure_zone\n",
       "\u001b[1;36m0\u001b[0m  TO1  \u001b[1;36m0\u001b[0m  \u001b[1;36m0\u001b[0m  \u001b[1;36m0\u001b[0m     \u001b[1;36m5\u001b[0m         NonSOZ\n",
       "\u001b[1;36m1\u001b[0m  TO2  \u001b[1;36m0\u001b[0m  \u001b[1;36m0\u001b[0m  \u001b[1;36m0\u001b[0m     \u001b[1;36m5\u001b[0m  SOZ, Resected,\n",
       "            \u001b[33mn_files\u001b[0m=\u001b[1;36m0\u001b[0m\n",
       "        \u001b[1m)\u001b[0m\n",
       "    \u001b[1m}\u001b[0m,\n",
       "    \u001b[33mscan_metadata\u001b[0m=\u001b[1m{\u001b[0m\u001b[1m}\u001b[0m,\n",
       "    \u001b[33mfields\u001b[0m=\u001b[3;35mNone\u001b[0m,\n",
       "    \u001b[33mparticipant_id\u001b[0m=\u001b[32m'ses-01'\u001b[0m,\n",
       "    \u001b[33msession_id\u001b[0m=\u001b[32m'ses-01'\u001b[0m,\n",
       "    \u001b[33mn_scans\u001b[0m=\u001b[1;36m1\u001b[0m\n",
       "\u001b[1m)\u001b[0m\n"
      ]
     },
     "metadata": {},
     "output_type": "display_data"
    },
    {
     "data": {
      "text/html": [
       "<pre style=\"white-space:pre;overflow-x:auto;line-height:normal;font-family:Menlo,'DejaVu Sans Mono',consolas,'Courier New',monospace\"><span style=\"color: #800080; text-decoration-color: #800080; font-weight: bold\">Scan</span><span style=\"font-weight: bold\">(</span>\n",
       "    <span style=\"color: #808000; text-decoration-color: #808000\">name</span>=<span style=\"color: #008000; text-decoration-color: #008000\">'sub-epilepsy01_ses-01_electrodes'</span>,\n",
       "    <span style=\"color: #808000; text-decoration-color: #808000\">files</span>=<span style=\"font-weight: bold\">[]</span>,\n",
       "    <span style=\"color: #808000; text-decoration-color: #808000\">metadata_files</span>=<span style=\"font-weight: bold\">[</span>\n",
       "        <span style=\"color: #008000; text-decoration-color: #008000\">'E:\\\\git\\\\lazyBIDS\\\\examples\\\\bids-starter-kit-template\\\\templates\\\\sub-epilepsy01\\\\ses-01\\\\./ieeg\\\\.\\\\sub-</span>\n",
       "<span style=\"color: #008000; text-decoration-color: #008000\">epilepsy01_ses-01_electrodes.json'</span>,\n",
       "        <span style=\"color: #008000; text-decoration-color: #008000\">'E:\\\\git\\\\lazyBIDS\\\\examples\\\\bids-starter-kit-template\\\\templates\\\\sub-epilepsy01\\\\ses-01\\\\./ieeg\\\\.\\\\sub-</span>\n",
       "<span style=\"color: #008000; text-decoration-color: #008000\">epilepsy01_ses-01_electrodes.tsv'</span>\n",
       "    <span style=\"font-weight: bold\">]</span>,\n",
       "    <span style=\"color: #808000; text-decoration-color: #808000\">fields</span>=<span style=\"font-weight: bold\">{</span>\n",
       "        <span style=\"color: #008000; text-decoration-color: #008000\">'name'</span>: <span style=\"font-weight: bold\">{</span><span style=\"color: #008000; text-decoration-color: #008000\">'Description'</span>: <span style=\"color: #008000; text-decoration-color: #008000\">'REQUIRED. Name of the electrode contact point.'</span><span style=\"font-weight: bold\">}</span>,\n",
       "        <span style=\"color: #008000; text-decoration-color: #008000\">'x'</span>: <span style=\"font-weight: bold\">{</span>\n",
       "            <span style=\"color: #008000; text-decoration-color: #008000\">'Description'</span>: <span style=\"color: #008000; text-decoration-color: #008000\">'REQUIRED. X position. The positions of the center of each electrode in xyz space. Units</span>\n",
       "<span style=\"color: #008000; text-decoration-color: #008000\">are specified in space-&lt;label&gt;_coordsystem.json.'</span>\n",
       "        <span style=\"font-weight: bold\">}</span>,\n",
       "        <span style=\"color: #008000; text-decoration-color: #008000\">'y'</span>: <span style=\"font-weight: bold\">{</span><span style=\"color: #008000; text-decoration-color: #008000\">'Description'</span>: <span style=\"color: #008000; text-decoration-color: #008000\">'REQUIRED. Y position.'</span><span style=\"font-weight: bold\">}</span>,\n",
       "        <span style=\"color: #008000; text-decoration-color: #008000\">'z'</span>: <span style=\"font-weight: bold\">{</span>\n",
       "            <span style=\"color: #008000; text-decoration-color: #008000\">'Description'</span>: <span style=\"color: #008000; text-decoration-color: #008000\">'REQUIRED. Z position. If electrodes are in 2D space this should be a column of n/a </span>\n",
       "<span style=\"color: #008000; text-decoration-color: #008000\">values.'</span>\n",
       "        <span style=\"font-weight: bold\">}</span>,\n",
       "        <span style=\"color: #008000; text-decoration-color: #008000\">'size'</span>: <span style=\"font-weight: bold\">{</span><span style=\"color: #008000; text-decoration-color: #008000\">'Description'</span>: <span style=\"color: #008000; text-decoration-color: #008000\">'REQUIRED. Surface area of the electrode, units MUST be in mm^2.'</span><span style=\"font-weight: bold\">}</span>,\n",
       "        <span style=\"color: #008000; text-decoration-color: #008000\">'seizure_zone'</span>: <span style=\"font-weight: bold\">{</span>\n",
       "            <span style=\"color: #008000; text-decoration-color: #008000\">'LongName'</span>: <span style=\"color: #008000; text-decoration-color: #008000\">'Seizure onset zone'</span>,\n",
       "            <span style=\"color: #008000; text-decoration-color: #008000\">'Description'</span>: <span style=\"color: #008000; text-decoration-color: #008000\">'final conclusion drawn by an epileptologist on the electrodes involved in the </span>\n",
       "<span style=\"color: #008000; text-decoration-color: #008000\">seizures'</span>,\n",
       "            <span style=\"color: #008000; text-decoration-color: #008000\">'Levels'</span>: <span style=\"font-weight: bold\">{</span>\n",
       "                <span style=\"color: #008000; text-decoration-color: #008000\">'SOZ'</span>: <span style=\"color: #008000; text-decoration-color: #008000\">'Seizure Onset Zone, the region where the recorded clinical seizures originated during the </span>\n",
       "<span style=\"color: #008000; text-decoration-color: #008000\">recording period.'</span>,\n",
       "                <span style=\"color: #008000; text-decoration-color: #008000\">'IrritativeZone'</span>: <span style=\"color: #008000; text-decoration-color: #008000\">'Region of cortex that generates interictal epileptiform discharges, but not </span>\n",
       "<span style=\"color: #008000; text-decoration-color: #008000\">seizures'</span>,\n",
       "                <span style=\"color: #008000; text-decoration-color: #008000\">'EarlyPropagationZone'</span>: <span style=\"color: #008000; text-decoration-color: #008000\">'Region of cortex that generates the initial seizure symptoms. Not seizure </span>\n",
       "<span style=\"color: #008000; text-decoration-color: #008000\">onset, but the propagation of seizure from SOZ into this region within first 3 seconds from seizure onset.'</span>,\n",
       "                <span style=\"color: #008000; text-decoration-color: #008000\">'Resected'</span>: <span style=\"color: #008000; text-decoration-color: #008000\">'Region of cortex that was resected'</span>,\n",
       "                <span style=\"color: #008000; text-decoration-color: #008000\">'ResectedEdge'</span>: <span style=\"color: #008000; text-decoration-color: #008000\">'Region of cortex that is within 1 cm of the edge of the resected area.'</span>\n",
       "            <span style=\"font-weight: bold\">}</span>\n",
       "        <span style=\"font-weight: bold\">}</span>,\n",
       "        <span style=\"color: #008000; text-decoration-color: #008000\">'modality'</span>: <span style=\"color: #008000; text-decoration-color: #008000\">'ieeg'</span>\n",
       "    <span style=\"font-weight: bold\">}</span>,\n",
       "    <span style=\"color: #808000; text-decoration-color: #808000\">table</span>=  name  x  y  z  size   seizure_zone\n",
       "<span style=\"color: #008080; text-decoration-color: #008080; font-weight: bold\">0</span>  TO1  <span style=\"color: #008080; text-decoration-color: #008080; font-weight: bold\">0</span>  <span style=\"color: #008080; text-decoration-color: #008080; font-weight: bold\">0</span>  <span style=\"color: #008080; text-decoration-color: #008080; font-weight: bold\">0</span>     <span style=\"color: #008080; text-decoration-color: #008080; font-weight: bold\">5</span>         NonSOZ\n",
       "<span style=\"color: #008080; text-decoration-color: #008080; font-weight: bold\">1</span>  TO2  <span style=\"color: #008080; text-decoration-color: #008080; font-weight: bold\">0</span>  <span style=\"color: #008080; text-decoration-color: #008080; font-weight: bold\">0</span>  <span style=\"color: #008080; text-decoration-color: #008080; font-weight: bold\">0</span>     <span style=\"color: #008080; text-decoration-color: #008080; font-weight: bold\">5</span>  SOZ, Resected,\n",
       "    <span style=\"color: #808000; text-decoration-color: #808000\">n_files</span>=<span style=\"color: #008080; text-decoration-color: #008080; font-weight: bold\">0</span>\n",
       "<span style=\"font-weight: bold\">)</span>\n",
       "</pre>\n"
      ],
      "text/plain": [
       "\u001b[1;35mScan\u001b[0m\u001b[1m(\u001b[0m\n",
       "    \u001b[33mname\u001b[0m=\u001b[32m'sub-epilepsy01_ses-01_electrodes'\u001b[0m,\n",
       "    \u001b[33mfiles\u001b[0m=\u001b[1m[\u001b[0m\u001b[1m]\u001b[0m,\n",
       "    \u001b[33mmetadata_files\u001b[0m=\u001b[1m[\u001b[0m\n",
       "        \u001b[32m'E:\\\\git\\\\lazyBIDS\\\\examples\\\\bids-starter-kit-template\\\\templates\\\\sub-epilepsy01\\\\ses-01\\\\./ieeg\\\\.\\\\sub-\u001b[0m\n",
       "\u001b[32mepilepsy01_ses-01_electrodes.json'\u001b[0m,\n",
       "        \u001b[32m'E:\\\\git\\\\lazyBIDS\\\\examples\\\\bids-starter-kit-template\\\\templates\\\\sub-epilepsy01\\\\ses-01\\\\./ieeg\\\\.\\\\sub-\u001b[0m\n",
       "\u001b[32mepilepsy01_ses-01_electrodes.tsv'\u001b[0m\n",
       "    \u001b[1m]\u001b[0m,\n",
       "    \u001b[33mfields\u001b[0m=\u001b[1m{\u001b[0m\n",
       "        \u001b[32m'name'\u001b[0m: \u001b[1m{\u001b[0m\u001b[32m'Description'\u001b[0m: \u001b[32m'REQUIRED. Name of the electrode contact point.'\u001b[0m\u001b[1m}\u001b[0m,\n",
       "        \u001b[32m'x'\u001b[0m: \u001b[1m{\u001b[0m\n",
       "            \u001b[32m'Description'\u001b[0m: \u001b[32m'REQUIRED. X position. The positions of the center of each electrode in xyz space. Units\u001b[0m\n",
       "\u001b[32mare specified in space-\u001b[0m\u001b[32m<\u001b[0m\u001b[32mlabel\u001b[0m\u001b[32m>\u001b[0m\u001b[32m_coordsystem.json.'\u001b[0m\n",
       "        \u001b[1m}\u001b[0m,\n",
       "        \u001b[32m'y'\u001b[0m: \u001b[1m{\u001b[0m\u001b[32m'Description'\u001b[0m: \u001b[32m'REQUIRED. Y position.'\u001b[0m\u001b[1m}\u001b[0m,\n",
       "        \u001b[32m'z'\u001b[0m: \u001b[1m{\u001b[0m\n",
       "            \u001b[32m'Description'\u001b[0m: \u001b[32m'REQUIRED. Z position. If electrodes are in 2D space this should be a column of n/a \u001b[0m\n",
       "\u001b[32mvalues.'\u001b[0m\n",
       "        \u001b[1m}\u001b[0m,\n",
       "        \u001b[32m'size'\u001b[0m: \u001b[1m{\u001b[0m\u001b[32m'Description'\u001b[0m: \u001b[32m'REQUIRED. Surface area of the electrode, units MUST be in mm^2.'\u001b[0m\u001b[1m}\u001b[0m,\n",
       "        \u001b[32m'seizure_zone'\u001b[0m: \u001b[1m{\u001b[0m\n",
       "            \u001b[32m'LongName'\u001b[0m: \u001b[32m'Seizure onset zone'\u001b[0m,\n",
       "            \u001b[32m'Description'\u001b[0m: \u001b[32m'final conclusion drawn by an epileptologist on the electrodes involved in the \u001b[0m\n",
       "\u001b[32mseizures'\u001b[0m,\n",
       "            \u001b[32m'Levels'\u001b[0m: \u001b[1m{\u001b[0m\n",
       "                \u001b[32m'SOZ'\u001b[0m: \u001b[32m'Seizure Onset Zone, the region where the recorded clinical seizures originated during the \u001b[0m\n",
       "\u001b[32mrecording period.'\u001b[0m,\n",
       "                \u001b[32m'IrritativeZone'\u001b[0m: \u001b[32m'Region of cortex that generates interictal epileptiform discharges, but not \u001b[0m\n",
       "\u001b[32mseizures'\u001b[0m,\n",
       "                \u001b[32m'EarlyPropagationZone'\u001b[0m: \u001b[32m'Region of cortex that generates the initial seizure symptoms. Not seizure \u001b[0m\n",
       "\u001b[32monset, but the propagation of seizure from SOZ into this region within first 3 seconds from seizure onset.'\u001b[0m,\n",
       "                \u001b[32m'Resected'\u001b[0m: \u001b[32m'Region of cortex that was resected'\u001b[0m,\n",
       "                \u001b[32m'ResectedEdge'\u001b[0m: \u001b[32m'Region of cortex that is within 1 cm of the edge of the resected area.'\u001b[0m\n",
       "            \u001b[1m}\u001b[0m\n",
       "        \u001b[1m}\u001b[0m,\n",
       "        \u001b[32m'modality'\u001b[0m: \u001b[32m'ieeg'\u001b[0m\n",
       "    \u001b[1m}\u001b[0m,\n",
       "    \u001b[33mtable\u001b[0m=  name  x  y  z  size   seizure_zone\n",
       "\u001b[1;36m0\u001b[0m  TO1  \u001b[1;36m0\u001b[0m  \u001b[1;36m0\u001b[0m  \u001b[1;36m0\u001b[0m     \u001b[1;36m5\u001b[0m         NonSOZ\n",
       "\u001b[1;36m1\u001b[0m  TO2  \u001b[1;36m0\u001b[0m  \u001b[1;36m0\u001b[0m  \u001b[1;36m0\u001b[0m     \u001b[1;36m5\u001b[0m  SOZ, Resected,\n",
       "    \u001b[33mn_files\u001b[0m=\u001b[1;36m0\u001b[0m\n",
       "\u001b[1m)\u001b[0m\n"
      ]
     },
     "metadata": {},
     "output_type": "display_data"
    }
   ],
   "source": [
    "for exp in subject.experiments:\n",
    "    print(exp)\n",
    "    for scan in exp.scans.values():\n",
    "        print(scan)"
   ]
  },
  {
   "cell_type": "code",
   "execution_count": 12,
   "metadata": {},
   "outputs": [
    {
     "ename": "NameError",
     "evalue": "name 'my_scan' is not defined",
     "output_type": "error",
     "traceback": [
      "\u001b[1;31m---------------------------------------------------------------------------\u001b[0m",
      "\u001b[1;31mNameError\u001b[0m                                 Traceback (most recent call last)",
      "\u001b[1;32m~\\AppData\\Local\\Temp\\ipykernel_31400\\708643979.py\u001b[0m in \u001b[0;36m<cell line: 1>\u001b[1;34m()\u001b[0m\n\u001b[1;32m----> 1\u001b[1;33m \u001b[0mprint\u001b[0m\u001b[1;33m(\u001b[0m\u001b[0mtype\u001b[0m\u001b[1;33m(\u001b[0m\u001b[0mmy_scan\u001b[0m\u001b[1;33m.\u001b[0m\u001b[0mdata\u001b[0m\u001b[1;33m)\u001b[0m\u001b[1;33m)\u001b[0m\u001b[1;33m\u001b[0m\u001b[1;33m\u001b[0m\u001b[0m\n\u001b[0m\u001b[0;32m      2\u001b[0m \u001b[0mprint\u001b[0m\u001b[1;33m(\u001b[0m\u001b[1;33m[\u001b[0m\u001b[0mtype\u001b[0m\u001b[1;33m(\u001b[0m\u001b[0mmy_scan\u001b[0m\u001b[1;33m.\u001b[0m\u001b[0mnumpy\u001b[0m\u001b[1;33m)\u001b[0m\u001b[1;33m,\u001b[0m \u001b[1;34mf'shape: {my_scan.numpy.shape}'\u001b[0m\u001b[1;33m]\u001b[0m\u001b[1;33m)\u001b[0m\u001b[1;33m\u001b[0m\u001b[1;33m\u001b[0m\u001b[0m\n",
      "\u001b[1;31mNameError\u001b[0m: name 'my_scan' is not defined"
     ]
    }
   ],
   "source": [
    "print(type(my_scan.data))\n",
    "print([type(my_scan.numpy), f'shape: {my_scan.numpy.shape}'])"
   ]
  },
  {
   "cell_type": "code",
   "execution_count": null,
   "metadata": {},
   "outputs": [],
   "source": []
  }
 ],
 "metadata": {
  "kernelspec": {
   "display_name": "lazybids-sKUzRgwL-py3.10",
   "language": "python",
   "name": "python3"
  },
  "language_info": {
   "codemirror_mode": {
    "name": "ipython",
    "version": 3
   },
   "file_extension": ".py",
   "mimetype": "text/x-python",
   "name": "python",
   "nbconvert_exporter": "python",
   "pygments_lexer": "ipython3",
   "version": "3.10.11"
  }
 },
 "nbformat": 4,
 "nbformat_minor": 2
}
