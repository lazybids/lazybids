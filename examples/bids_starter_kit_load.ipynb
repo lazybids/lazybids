{
 "cells": [
  {
   "cell_type": "code",
   "execution_count": 3,
   "metadata": {},
   "outputs": [
    {
     "name": "stdout",
     "output_type": "stream",
     "text": [
      "Processing /home/roelant/git/lazybids-ui/lazybids\n",
      "  Installing build dependencies ... \u001b[?25ldone\n",
      "\u001b[?25h  Getting requirements to build wheel ... \u001b[?25ldone\n",
      "\u001b[?25h  Preparing metadata (pyproject.toml) ... \u001b[?25ldone\n",
      "\u001b[?25hRequirement already satisfied: h5py<4.0.0,>=3.10.0 in /home/roelant/.cache/pypoetry/virtualenvs/lazybids-ui-5inSgEsY-py3.10/lib/python3.10/site-packages (from lazybids==0.1.1) (3.11.0)\n",
      "Requirement already satisfied: pandas<3.0.0,>=2.0.0 in /home/roelant/.cache/pypoetry/virtualenvs/lazybids-ui-5inSgEsY-py3.10/lib/python3.10/site-packages (from lazybids==0.1.1) (2.0.3)\n",
      "Requirement already satisfied: pydantic<3.0.0,>=2.5.2 in /home/roelant/.cache/pypoetry/virtualenvs/lazybids-ui-5inSgEsY-py3.10/lib/python3.10/site-packages (from lazybids==0.1.1) (2.9.2)\n",
      "Requirement already satisfied: pydicom<3.0.0,>=2.4.3 in /home/roelant/.cache/pypoetry/virtualenvs/lazybids-ui-5inSgEsY-py3.10/lib/python3.10/site-packages (from lazybids==0.1.1) (2.4.4)\n",
      "Requirement already satisfied: pyyaml<7.0.0,>=6.0.1 in /home/roelant/.cache/pypoetry/virtualenvs/lazybids-ui-5inSgEsY-py3.10/lib/python3.10/site-packages (from lazybids==0.1.1) (6.0.2)\n",
      "Requirement already satisfied: rich<14.0.0,>=13.7.0 in /home/roelant/.cache/pypoetry/virtualenvs/lazybids-ui-5inSgEsY-py3.10/lib/python3.10/site-packages (from lazybids==0.1.1) (13.8.1)\n",
      "Requirement already satisfied: simpleitk<3.0.0,>=2.3.1 in /home/roelant/.cache/pypoetry/virtualenvs/lazybids-ui-5inSgEsY-py3.10/lib/python3.10/site-packages (from lazybids==0.1.1) (2.4.0)\n",
      "Requirement already satisfied: tqdm<5.0.0,>=4.66.1 in /home/roelant/.cache/pypoetry/virtualenvs/lazybids-ui-5inSgEsY-py3.10/lib/python3.10/site-packages (from lazybids==0.1.1) (4.66.5)\n",
      "Requirement already satisfied: numpy>=1.17.3 in /home/roelant/.cache/pypoetry/virtualenvs/lazybids-ui-5inSgEsY-py3.10/lib/python3.10/site-packages (from h5py<4.0.0,>=3.10.0->lazybids==0.1.1) (1.24.4)\n",
      "Requirement already satisfied: python-dateutil>=2.8.2 in /home/roelant/.cache/pypoetry/virtualenvs/lazybids-ui-5inSgEsY-py3.10/lib/python3.10/site-packages (from pandas<3.0.0,>=2.0.0->lazybids==0.1.1) (2.9.0.post0)\n",
      "Requirement already satisfied: pytz>=2020.1 in /home/roelant/.cache/pypoetry/virtualenvs/lazybids-ui-5inSgEsY-py3.10/lib/python3.10/site-packages (from pandas<3.0.0,>=2.0.0->lazybids==0.1.1) (2024.2)\n",
      "Requirement already satisfied: tzdata>=2022.1 in /home/roelant/.cache/pypoetry/virtualenvs/lazybids-ui-5inSgEsY-py3.10/lib/python3.10/site-packages (from pandas<3.0.0,>=2.0.0->lazybids==0.1.1) (2024.2)\n",
      "Requirement already satisfied: annotated-types>=0.6.0 in /home/roelant/.cache/pypoetry/virtualenvs/lazybids-ui-5inSgEsY-py3.10/lib/python3.10/site-packages (from pydantic<3.0.0,>=2.5.2->lazybids==0.1.1) (0.7.0)\n",
      "Requirement already satisfied: pydantic-core==2.23.4 in /home/roelant/.cache/pypoetry/virtualenvs/lazybids-ui-5inSgEsY-py3.10/lib/python3.10/site-packages (from pydantic<3.0.0,>=2.5.2->lazybids==0.1.1) (2.23.4)\n",
      "Requirement already satisfied: typing-extensions>=4.6.1 in /home/roelant/.cache/pypoetry/virtualenvs/lazybids-ui-5inSgEsY-py3.10/lib/python3.10/site-packages (from pydantic<3.0.0,>=2.5.2->lazybids==0.1.1) (4.12.2)\n",
      "Requirement already satisfied: markdown-it-py>=2.2.0 in /home/roelant/.cache/pypoetry/virtualenvs/lazybids-ui-5inSgEsY-py3.10/lib/python3.10/site-packages (from rich<14.0.0,>=13.7.0->lazybids==0.1.1) (3.0.0)\n",
      "Requirement already satisfied: pygments<3.0.0,>=2.13.0 in /home/roelant/.cache/pypoetry/virtualenvs/lazybids-ui-5inSgEsY-py3.10/lib/python3.10/site-packages (from rich<14.0.0,>=13.7.0->lazybids==0.1.1) (2.18.0)\n",
      "Requirement already satisfied: mdurl~=0.1 in /home/roelant/.cache/pypoetry/virtualenvs/lazybids-ui-5inSgEsY-py3.10/lib/python3.10/site-packages (from markdown-it-py>=2.2.0->rich<14.0.0,>=13.7.0->lazybids==0.1.1) (0.1.2)\n",
      "Requirement already satisfied: six>=1.5 in /home/roelant/.cache/pypoetry/virtualenvs/lazybids-ui-5inSgEsY-py3.10/lib/python3.10/site-packages (from python-dateutil>=2.8.2->pandas<3.0.0,>=2.0.0->lazybids==0.1.1) (1.16.0)\n",
      "Building wheels for collected packages: lazybids\n",
      "  Building wheel for lazybids (pyproject.toml) ... \u001b[?25ldone\n",
      "\u001b[?25h  Created wheel for lazybids: filename=lazybids-0.1.1-py3-none-any.whl size=156321 sha256=ea842846383021d594a8edea688b60d5721265bbbfb7efb01fc3cc49048ceadd\n",
      "  Stored in directory: /tmp/pip-ephem-wheel-cache-3c8e7nc2/wheels/40/1b/35/ea1a0f835ea09889d77f8b0e8d966fda14c1753c319a7081c9\n",
      "Successfully built lazybids\n",
      "Installing collected packages: lazybids\n",
      "  Attempting uninstall: lazybids\n",
      "    Found existing installation: lazybids 0.1.1\n",
      "    Uninstalling lazybids-0.1.1:\n",
      "      Successfully uninstalled lazybids-0.1.1\n",
      "Successfully installed lazybids-0.1.1\n",
      "\n",
      "\u001b[1m[\u001b[0m\u001b[34;49mnotice\u001b[0m\u001b[1;39;49m]\u001b[0m\u001b[39;49m A new release of pip is available: \u001b[0m\u001b[31;49m23.2.1\u001b[0m\u001b[39;49m -> \u001b[0m\u001b[32;49m24.2\u001b[0m\n",
      "\u001b[1m[\u001b[0m\u001b[34;49mnotice\u001b[0m\u001b[1;39;49m]\u001b[0m\u001b[39;49m To update, run: \u001b[0m\u001b[32;49mpip install --upgrade pip\u001b[0m\n",
      "Requirement already satisfied: openneuro-py in /home/roelant/.cache/pypoetry/virtualenvs/lazybids-ui-5inSgEsY-py3.10/lib/python3.10/site-packages (2023.1.0)\n",
      "Requirement already satisfied: httpx>=0.15 in /home/roelant/.cache/pypoetry/virtualenvs/lazybids-ui-5inSgEsY-py3.10/lib/python3.10/site-packages (from openneuro-py) (0.27.2)\n",
      "Requirement already satisfied: requests in /home/roelant/.cache/pypoetry/virtualenvs/lazybids-ui-5inSgEsY-py3.10/lib/python3.10/site-packages (from openneuro-py) (2.32.3)\n",
      "Requirement already satisfied: tqdm in /home/roelant/.cache/pypoetry/virtualenvs/lazybids-ui-5inSgEsY-py3.10/lib/python3.10/site-packages (from openneuro-py) (4.66.5)\n",
      "Requirement already satisfied: click in /home/roelant/.cache/pypoetry/virtualenvs/lazybids-ui-5inSgEsY-py3.10/lib/python3.10/site-packages (from openneuro-py) (8.1.7)\n",
      "Requirement already satisfied: aiofiles in /home/roelant/.cache/pypoetry/virtualenvs/lazybids-ui-5inSgEsY-py3.10/lib/python3.10/site-packages (from openneuro-py) (24.1.0)\n",
      "Requirement already satisfied: sgqlc in /home/roelant/.cache/pypoetry/virtualenvs/lazybids-ui-5inSgEsY-py3.10/lib/python3.10/site-packages (from openneuro-py) (16.4)\n",
      "Requirement already satisfied: platformdirs in /home/roelant/.cache/pypoetry/virtualenvs/lazybids-ui-5inSgEsY-py3.10/lib/python3.10/site-packages (from openneuro-py) (4.3.6)\n",
      "Requirement already satisfied: anyio in /home/roelant/.cache/pypoetry/virtualenvs/lazybids-ui-5inSgEsY-py3.10/lib/python3.10/site-packages (from httpx>=0.15->openneuro-py) (4.5.0)\n",
      "Requirement already satisfied: certifi in /home/roelant/.cache/pypoetry/virtualenvs/lazybids-ui-5inSgEsY-py3.10/lib/python3.10/site-packages (from httpx>=0.15->openneuro-py) (2024.8.30)\n",
      "Requirement already satisfied: httpcore==1.* in /home/roelant/.cache/pypoetry/virtualenvs/lazybids-ui-5inSgEsY-py3.10/lib/python3.10/site-packages (from httpx>=0.15->openneuro-py) (1.0.5)\n",
      "Requirement already satisfied: idna in /home/roelant/.cache/pypoetry/virtualenvs/lazybids-ui-5inSgEsY-py3.10/lib/python3.10/site-packages (from httpx>=0.15->openneuro-py) (3.10)\n",
      "Requirement already satisfied: sniffio in /home/roelant/.cache/pypoetry/virtualenvs/lazybids-ui-5inSgEsY-py3.10/lib/python3.10/site-packages (from httpx>=0.15->openneuro-py) (1.3.1)\n",
      "Requirement already satisfied: h11<0.15,>=0.13 in /home/roelant/.cache/pypoetry/virtualenvs/lazybids-ui-5inSgEsY-py3.10/lib/python3.10/site-packages (from httpcore==1.*->httpx>=0.15->openneuro-py) (0.14.0)\n",
      "Requirement already satisfied: charset-normalizer<4,>=2 in /home/roelant/.cache/pypoetry/virtualenvs/lazybids-ui-5inSgEsY-py3.10/lib/python3.10/site-packages (from requests->openneuro-py) (3.3.2)\n",
      "Requirement already satisfied: urllib3<3,>=1.21.1 in /home/roelant/.cache/pypoetry/virtualenvs/lazybids-ui-5inSgEsY-py3.10/lib/python3.10/site-packages (from requests->openneuro-py) (2.2.3)\n",
      "Requirement already satisfied: graphql-core<4.0.0,>=3.2.4 in /home/roelant/.cache/pypoetry/virtualenvs/lazybids-ui-5inSgEsY-py3.10/lib/python3.10/site-packages (from sgqlc->openneuro-py) (3.2.4)\n",
      "Requirement already satisfied: exceptiongroup>=1.0.2 in /home/roelant/.cache/pypoetry/virtualenvs/lazybids-ui-5inSgEsY-py3.10/lib/python3.10/site-packages (from anyio->httpx>=0.15->openneuro-py) (1.2.2)\n",
      "Requirement already satisfied: typing-extensions>=4.1 in /home/roelant/.cache/pypoetry/virtualenvs/lazybids-ui-5inSgEsY-py3.10/lib/python3.10/site-packages (from anyio->httpx>=0.15->openneuro-py) (4.12.2)\n",
      "\n",
      "\u001b[1m[\u001b[0m\u001b[34;49mnotice\u001b[0m\u001b[1;39;49m]\u001b[0m\u001b[39;49m A new release of pip is available: \u001b[0m\u001b[31;49m23.2.1\u001b[0m\u001b[39;49m -> \u001b[0m\u001b[32;49m24.2\u001b[0m\n",
      "\u001b[1m[\u001b[0m\u001b[34;49mnotice\u001b[0m\u001b[1;39;49m]\u001b[0m\u001b[39;49m To update, run: \u001b[0m\u001b[32;49mpip install --upgrade pip\u001b[0m\n"
     ]
    },
    {
     "ename": "PydanticSchemaGenerationError",
     "evalue": "Unable to generate pydantic-core schema for <class 'lazybids.connection.Connection'>. Set `arbitrary_types_allowed=True` in the model_config to ignore this error or implement `__get_pydantic_core_schema__` on your type to fully support it.\n\nIf you got this error by calling handler(<some type>) within `__get_pydantic_core_schema__` then you likely need to call `handler.generate_schema(<some type>)` since we do not call `__get_pydantic_core_schema__` on `<some type>` otherwise to avoid infinite recursion.\n\nFor further information visit https://errors.pydantic.dev/2.9/u/schema-for-unknown-type",
     "output_type": "error",
     "traceback": [
      "\u001b[0;31m---------------------------------------------------------------------------\u001b[0m",
      "\u001b[0;31mPydanticSchemaGenerationError\u001b[0m             Traceback (most recent call last)",
      "Cell \u001b[0;32mIn[3], line 6\u001b[0m\n\u001b[1;32m      4\u001b[0m \u001b[38;5;66;03m#on.download(dataset='ds000246', target_dir='data/bids')\u001b[39;00m\n\u001b[1;32m      5\u001b[0m \u001b[38;5;28;01mfrom\u001b[39;00m \u001b[38;5;21;01mrich\u001b[39;00m \u001b[38;5;28;01mimport\u001b[39;00m \u001b[38;5;28mprint\u001b[39m\n\u001b[0;32m----> 6\u001b[0m \u001b[38;5;28;01mimport\u001b[39;00m \u001b[38;5;21;01mlazybids\u001b[39;00m\n",
      "File \u001b[0;32m~/.cache/pypoetry/virtualenvs/lazybids-ui-5inSgEsY-py3.10/lib/python3.10/site-packages/lazybids/__init__.py:1\u001b[0m\n\u001b[0;32m----> 1\u001b[0m \u001b[38;5;28;01mfrom\u001b[39;00m \u001b[38;5;21;01m.\u001b[39;00m\u001b[38;5;21;01mdatatypes\u001b[39;00m \u001b[38;5;28;01mimport\u001b[39;00m Dataset, Subject, Session, Scan\n\u001b[1;32m      2\u001b[0m \u001b[38;5;28;01mfrom\u001b[39;00m \u001b[38;5;21;01m.\u001b[39;00m\u001b[38;5;21;01mutils\u001b[39;00m \u001b[38;5;28;01mimport\u001b[39;00m utils\n",
      "File \u001b[0;32m~/.cache/pypoetry/virtualenvs/lazybids-ui-5inSgEsY-py3.10/lib/python3.10/site-packages/lazybids/datatypes.py:269\u001b[0m\n\u001b[1;32m    265\u001b[0m                     \u001b[38;5;28;01melse\u001b[39;00m:\n\u001b[1;32m    266\u001b[0m                         \u001b[38;5;28;01mraise\u001b[39;00m \u001b[38;5;167;01mValueError\u001b[39;00m(\u001b[38;5;124m\"\u001b[39m\u001b[38;5;124mConnection not set for remote file download\u001b[39m\u001b[38;5;124m\"\u001b[39m)\n\u001b[0;32m--> 269\u001b[0m \u001b[38;5;28;01mclass\u001b[39;00m \u001b[38;5;21;01mSession\u001b[39;00m(BaseModel, extra\u001b[38;5;241m=\u001b[39mExtra\u001b[38;5;241m.\u001b[39mallow):\n\u001b[1;32m    270\u001b[0m     folder: Optional[Union[Path,  \u001b[38;5;28;01mNone\u001b[39;00m]] \u001b[38;5;241m=\u001b[39m \u001b[38;5;28;01mNone\u001b[39;00m\n\u001b[1;32m    271\u001b[0m     scans: Optional[Dict[\u001b[38;5;28mstr\u001b[39m, Scan]] \u001b[38;5;241m=\u001b[39m Field(default_factory\u001b[38;5;241m=\u001b[39m\u001b[38;5;28mdict\u001b[39m, \u001b[38;5;28mrepr\u001b[39m\u001b[38;5;241m=\u001b[39m\u001b[38;5;28;01mFalse\u001b[39;00m)\n",
      "File \u001b[0;32m~/.cache/pypoetry/virtualenvs/lazybids-ui-5inSgEsY-py3.10/lib/python3.10/site-packages/pydantic/_internal/_model_construction.py:224\u001b[0m, in \u001b[0;36mModelMetaclass.__new__\u001b[0;34m(mcs, cls_name, bases, namespace, __pydantic_generic_metadata__, __pydantic_reset_parent_namespace__, _create_model_module, **kwargs)\u001b[0m\n\u001b[1;32m    221\u001b[0m \u001b[38;5;28;01mif\u001b[39;00m config_wrapper\u001b[38;5;241m.\u001b[39mfrozen \u001b[38;5;129;01mand\u001b[39;00m \u001b[38;5;124m'\u001b[39m\u001b[38;5;124m__hash__\u001b[39m\u001b[38;5;124m'\u001b[39m \u001b[38;5;129;01mnot\u001b[39;00m \u001b[38;5;129;01min\u001b[39;00m namespace:\n\u001b[1;32m    222\u001b[0m     set_default_hash_func(\u001b[38;5;28mcls\u001b[39m, bases)\n\u001b[0;32m--> 224\u001b[0m \u001b[43mcomplete_model_class\u001b[49m\u001b[43m(\u001b[49m\n\u001b[1;32m    225\u001b[0m \u001b[43m    \u001b[49m\u001b[38;5;28;43mcls\u001b[39;49m\u001b[43m,\u001b[49m\n\u001b[1;32m    226\u001b[0m \u001b[43m    \u001b[49m\u001b[43mcls_name\u001b[49m\u001b[43m,\u001b[49m\n\u001b[1;32m    227\u001b[0m \u001b[43m    \u001b[49m\u001b[43mconfig_wrapper\u001b[49m\u001b[43m,\u001b[49m\n\u001b[1;32m    228\u001b[0m \u001b[43m    \u001b[49m\u001b[43mraise_errors\u001b[49m\u001b[38;5;241;43m=\u001b[39;49m\u001b[38;5;28;43;01mFalse\u001b[39;49;00m\u001b[43m,\u001b[49m\n\u001b[1;32m    229\u001b[0m \u001b[43m    \u001b[49m\u001b[43mtypes_namespace\u001b[49m\u001b[38;5;241;43m=\u001b[39;49m\u001b[43mtypes_namespace\u001b[49m\u001b[43m,\u001b[49m\n\u001b[1;32m    230\u001b[0m \u001b[43m    \u001b[49m\u001b[43mcreate_model_module\u001b[49m\u001b[38;5;241;43m=\u001b[39;49m\u001b[43m_create_model_module\u001b[49m\u001b[43m,\u001b[49m\n\u001b[1;32m    231\u001b[0m \u001b[43m\u001b[49m\u001b[43m)\u001b[49m\n\u001b[1;32m    233\u001b[0m \u001b[38;5;66;03m# If this is placed before the complete_model_class call above,\u001b[39;00m\n\u001b[1;32m    234\u001b[0m \u001b[38;5;66;03m# the generic computed fields return type is set to PydanticUndefined\u001b[39;00m\n\u001b[1;32m    235\u001b[0m \u001b[38;5;28mcls\u001b[39m\u001b[38;5;241m.\u001b[39mmodel_computed_fields \u001b[38;5;241m=\u001b[39m {k: v\u001b[38;5;241m.\u001b[39minfo \u001b[38;5;28;01mfor\u001b[39;00m k, v \u001b[38;5;129;01min\u001b[39;00m \u001b[38;5;28mcls\u001b[39m\u001b[38;5;241m.\u001b[39m__pydantic_decorators__\u001b[38;5;241m.\u001b[39mcomputed_fields\u001b[38;5;241m.\u001b[39mitems()}\n",
      "File \u001b[0;32m~/.cache/pypoetry/virtualenvs/lazybids-ui-5inSgEsY-py3.10/lib/python3.10/site-packages/pydantic/_internal/_model_construction.py:577\u001b[0m, in \u001b[0;36mcomplete_model_class\u001b[0;34m(cls, cls_name, config_wrapper, raise_errors, types_namespace, create_model_module)\u001b[0m\n\u001b[1;32m    574\u001b[0m     \u001b[38;5;28;01mreturn\u001b[39;00m \u001b[38;5;28;01mFalse\u001b[39;00m\n\u001b[1;32m    576\u001b[0m \u001b[38;5;28;01mtry\u001b[39;00m:\n\u001b[0;32m--> 577\u001b[0m     schema \u001b[38;5;241m=\u001b[39m \u001b[38;5;28;43mcls\u001b[39;49m\u001b[38;5;241;43m.\u001b[39;49m\u001b[43m__get_pydantic_core_schema__\u001b[49m\u001b[43m(\u001b[49m\u001b[38;5;28;43mcls\u001b[39;49m\u001b[43m,\u001b[49m\u001b[43m \u001b[49m\u001b[43mhandler\u001b[49m\u001b[43m)\u001b[49m\n\u001b[1;32m    578\u001b[0m \u001b[38;5;28;01mexcept\u001b[39;00m PydanticUndefinedAnnotation \u001b[38;5;28;01mas\u001b[39;00m e:\n\u001b[1;32m    579\u001b[0m     \u001b[38;5;28;01mif\u001b[39;00m raise_errors:\n",
      "File \u001b[0;32m~/.cache/pypoetry/virtualenvs/lazybids-ui-5inSgEsY-py3.10/lib/python3.10/site-packages/pydantic/main.py:671\u001b[0m, in \u001b[0;36mBaseModel.__get_pydantic_core_schema__\u001b[0;34m(cls, source, handler)\u001b[0m\n\u001b[1;32m    668\u001b[0m     \u001b[38;5;28;01mif\u001b[39;00m \u001b[38;5;129;01mnot\u001b[39;00m \u001b[38;5;28mcls\u001b[39m\u001b[38;5;241m.\u001b[39m__pydantic_generic_metadata__[\u001b[38;5;124m'\u001b[39m\u001b[38;5;124morigin\u001b[39m\u001b[38;5;124m'\u001b[39m]:\n\u001b[1;32m    669\u001b[0m         \u001b[38;5;28;01mreturn\u001b[39;00m \u001b[38;5;28mcls\u001b[39m\u001b[38;5;241m.\u001b[39m__pydantic_core_schema__\n\u001b[0;32m--> 671\u001b[0m \u001b[38;5;28;01mreturn\u001b[39;00m \u001b[43mhandler\u001b[49m\u001b[43m(\u001b[49m\u001b[43msource\u001b[49m\u001b[43m)\u001b[49m\n",
      "File \u001b[0;32m~/.cache/pypoetry/virtualenvs/lazybids-ui-5inSgEsY-py3.10/lib/python3.10/site-packages/pydantic/_internal/_schema_generation_shared.py:83\u001b[0m, in \u001b[0;36mCallbackGetCoreSchemaHandler.__call__\u001b[0;34m(self, source_type)\u001b[0m\n\u001b[1;32m     82\u001b[0m \u001b[38;5;28;01mdef\u001b[39;00m \u001b[38;5;21m__call__\u001b[39m(\u001b[38;5;28mself\u001b[39m, source_type: Any, \u001b[38;5;241m/\u001b[39m) \u001b[38;5;241m-\u001b[39m\u001b[38;5;241m>\u001b[39m core_schema\u001b[38;5;241m.\u001b[39mCoreSchema:\n\u001b[0;32m---> 83\u001b[0m     schema \u001b[38;5;241m=\u001b[39m \u001b[38;5;28;43mself\u001b[39;49m\u001b[38;5;241;43m.\u001b[39;49m\u001b[43m_handler\u001b[49m\u001b[43m(\u001b[49m\u001b[43msource_type\u001b[49m\u001b[43m)\u001b[49m\n\u001b[1;32m     84\u001b[0m     ref \u001b[38;5;241m=\u001b[39m schema\u001b[38;5;241m.\u001b[39mget(\u001b[38;5;124m'\u001b[39m\u001b[38;5;124mref\u001b[39m\u001b[38;5;124m'\u001b[39m)\n\u001b[1;32m     85\u001b[0m     \u001b[38;5;28;01mif\u001b[39;00m \u001b[38;5;28mself\u001b[39m\u001b[38;5;241m.\u001b[39m_ref_mode \u001b[38;5;241m==\u001b[39m \u001b[38;5;124m'\u001b[39m\u001b[38;5;124mto-def\u001b[39m\u001b[38;5;124m'\u001b[39m:\n",
      "File \u001b[0;32m~/.cache/pypoetry/virtualenvs/lazybids-ui-5inSgEsY-py3.10/lib/python3.10/site-packages/pydantic/_internal/_generate_schema.py:655\u001b[0m, in \u001b[0;36mGenerateSchema.generate_schema\u001b[0;34m(self, obj, from_dunder_get_core_schema)\u001b[0m\n\u001b[1;32m    652\u001b[0m         schema \u001b[38;5;241m=\u001b[39m from_property\n\u001b[1;32m    654\u001b[0m \u001b[38;5;28;01mif\u001b[39;00m schema \u001b[38;5;129;01mis\u001b[39;00m \u001b[38;5;28;01mNone\u001b[39;00m:\n\u001b[0;32m--> 655\u001b[0m     schema \u001b[38;5;241m=\u001b[39m \u001b[38;5;28;43mself\u001b[39;49m\u001b[38;5;241;43m.\u001b[39;49m\u001b[43m_generate_schema_inner\u001b[49m\u001b[43m(\u001b[49m\u001b[43mobj\u001b[49m\u001b[43m)\u001b[49m\n\u001b[1;32m    657\u001b[0m metadata_js_function \u001b[38;5;241m=\u001b[39m _extract_get_pydantic_json_schema(obj, schema)\n\u001b[1;32m    658\u001b[0m \u001b[38;5;28;01mif\u001b[39;00m metadata_js_function \u001b[38;5;129;01mis\u001b[39;00m \u001b[38;5;129;01mnot\u001b[39;00m \u001b[38;5;28;01mNone\u001b[39;00m:\n",
      "File \u001b[0;32m~/.cache/pypoetry/virtualenvs/lazybids-ui-5inSgEsY-py3.10/lib/python3.10/site-packages/pydantic/_internal/_generate_schema.py:924\u001b[0m, in \u001b[0;36mGenerateSchema._generate_schema_inner\u001b[0;34m(self, obj)\u001b[0m\n\u001b[1;32m    922\u001b[0m \u001b[38;5;28;01mif\u001b[39;00m lenient_issubclass(obj, BaseModel):\n\u001b[1;32m    923\u001b[0m     \u001b[38;5;28;01mwith\u001b[39;00m \u001b[38;5;28mself\u001b[39m\u001b[38;5;241m.\u001b[39mmodel_type_stack\u001b[38;5;241m.\u001b[39mpush(obj):\n\u001b[0;32m--> 924\u001b[0m         \u001b[38;5;28;01mreturn\u001b[39;00m \u001b[38;5;28;43mself\u001b[39;49m\u001b[38;5;241;43m.\u001b[39;49m\u001b[43m_model_schema\u001b[49m\u001b[43m(\u001b[49m\u001b[43mobj\u001b[49m\u001b[43m)\u001b[49m\n\u001b[1;32m    926\u001b[0m \u001b[38;5;28;01mif\u001b[39;00m \u001b[38;5;28misinstance\u001b[39m(obj, PydanticRecursiveRef):\n\u001b[1;32m    927\u001b[0m     \u001b[38;5;28;01mreturn\u001b[39;00m core_schema\u001b[38;5;241m.\u001b[39mdefinition_reference_schema(schema_ref\u001b[38;5;241m=\u001b[39mobj\u001b[38;5;241m.\u001b[39mtype_ref)\n",
      "File \u001b[0;32m~/.cache/pypoetry/virtualenvs/lazybids-ui-5inSgEsY-py3.10/lib/python3.10/site-packages/pydantic/_internal/_generate_schema.py:739\u001b[0m, in \u001b[0;36mGenerateSchema._model_schema\u001b[0;34m(self, cls)\u001b[0m\n\u001b[1;32m    727\u001b[0m     model_schema \u001b[38;5;241m=\u001b[39m core_schema\u001b[38;5;241m.\u001b[39mmodel_schema(\n\u001b[1;32m    728\u001b[0m         \u001b[38;5;28mcls\u001b[39m,\n\u001b[1;32m    729\u001b[0m         inner_schema,\n\u001b[0;32m   (...)\u001b[0m\n\u001b[1;32m    735\u001b[0m         metadata\u001b[38;5;241m=\u001b[39mmetadata,\n\u001b[1;32m    736\u001b[0m     )\n\u001b[1;32m    737\u001b[0m \u001b[38;5;28;01melse\u001b[39;00m:\n\u001b[1;32m    738\u001b[0m     fields_schema: core_schema\u001b[38;5;241m.\u001b[39mCoreSchema \u001b[38;5;241m=\u001b[39m core_schema\u001b[38;5;241m.\u001b[39mmodel_fields_schema(\n\u001b[0;32m--> 739\u001b[0m         {k: \u001b[38;5;28mself\u001b[39m\u001b[38;5;241m.\u001b[39m_generate_md_field_schema(k, v, decorators) \u001b[38;5;28;01mfor\u001b[39;00m k, v \u001b[38;5;129;01min\u001b[39;00m fields\u001b[38;5;241m.\u001b[39mitems()},\n\u001b[1;32m    740\u001b[0m         computed_fields\u001b[38;5;241m=\u001b[39m[\n\u001b[1;32m    741\u001b[0m             \u001b[38;5;28mself\u001b[39m\u001b[38;5;241m.\u001b[39m_computed_field_schema(d, decorators\u001b[38;5;241m.\u001b[39mfield_serializers)\n\u001b[1;32m    742\u001b[0m             \u001b[38;5;28;01mfor\u001b[39;00m d \u001b[38;5;129;01min\u001b[39;00m computed_fields\u001b[38;5;241m.\u001b[39mvalues()\n\u001b[1;32m    743\u001b[0m         ],\n\u001b[1;32m    744\u001b[0m         extras_schema\u001b[38;5;241m=\u001b[39mextras_schema,\n\u001b[1;32m    745\u001b[0m         model_name\u001b[38;5;241m=\u001b[39m\u001b[38;5;28mcls\u001b[39m\u001b[38;5;241m.\u001b[39m\u001b[38;5;18m__name__\u001b[39m,\n\u001b[1;32m    746\u001b[0m     )\n\u001b[1;32m    747\u001b[0m     inner_schema \u001b[38;5;241m=\u001b[39m apply_validators(fields_schema, decorators\u001b[38;5;241m.\u001b[39mroot_validators\u001b[38;5;241m.\u001b[39mvalues(), \u001b[38;5;28;01mNone\u001b[39;00m)\n\u001b[1;32m    748\u001b[0m     new_inner_schema \u001b[38;5;241m=\u001b[39m define_expected_missing_refs(inner_schema, recursively_defined_type_refs())\n",
      "File \u001b[0;32m~/.cache/pypoetry/virtualenvs/lazybids-ui-5inSgEsY-py3.10/lib/python3.10/site-packages/pydantic/_internal/_generate_schema.py:739\u001b[0m, in \u001b[0;36m<dictcomp>\u001b[0;34m(.0)\u001b[0m\n\u001b[1;32m    727\u001b[0m     model_schema \u001b[38;5;241m=\u001b[39m core_schema\u001b[38;5;241m.\u001b[39mmodel_schema(\n\u001b[1;32m    728\u001b[0m         \u001b[38;5;28mcls\u001b[39m,\n\u001b[1;32m    729\u001b[0m         inner_schema,\n\u001b[0;32m   (...)\u001b[0m\n\u001b[1;32m    735\u001b[0m         metadata\u001b[38;5;241m=\u001b[39mmetadata,\n\u001b[1;32m    736\u001b[0m     )\n\u001b[1;32m    737\u001b[0m \u001b[38;5;28;01melse\u001b[39;00m:\n\u001b[1;32m    738\u001b[0m     fields_schema: core_schema\u001b[38;5;241m.\u001b[39mCoreSchema \u001b[38;5;241m=\u001b[39m core_schema\u001b[38;5;241m.\u001b[39mmodel_fields_schema(\n\u001b[0;32m--> 739\u001b[0m         {k: \u001b[38;5;28;43mself\u001b[39;49m\u001b[38;5;241;43m.\u001b[39;49m\u001b[43m_generate_md_field_schema\u001b[49m\u001b[43m(\u001b[49m\u001b[43mk\u001b[49m\u001b[43m,\u001b[49m\u001b[43m \u001b[49m\u001b[43mv\u001b[49m\u001b[43m,\u001b[49m\u001b[43m \u001b[49m\u001b[43mdecorators\u001b[49m\u001b[43m)\u001b[49m \u001b[38;5;28;01mfor\u001b[39;00m k, v \u001b[38;5;129;01min\u001b[39;00m fields\u001b[38;5;241m.\u001b[39mitems()},\n\u001b[1;32m    740\u001b[0m         computed_fields\u001b[38;5;241m=\u001b[39m[\n\u001b[1;32m    741\u001b[0m             \u001b[38;5;28mself\u001b[39m\u001b[38;5;241m.\u001b[39m_computed_field_schema(d, decorators\u001b[38;5;241m.\u001b[39mfield_serializers)\n\u001b[1;32m    742\u001b[0m             \u001b[38;5;28;01mfor\u001b[39;00m d \u001b[38;5;129;01min\u001b[39;00m computed_fields\u001b[38;5;241m.\u001b[39mvalues()\n\u001b[1;32m    743\u001b[0m         ],\n\u001b[1;32m    744\u001b[0m         extras_schema\u001b[38;5;241m=\u001b[39mextras_schema,\n\u001b[1;32m    745\u001b[0m         model_name\u001b[38;5;241m=\u001b[39m\u001b[38;5;28mcls\u001b[39m\u001b[38;5;241m.\u001b[39m\u001b[38;5;18m__name__\u001b[39m,\n\u001b[1;32m    746\u001b[0m     )\n\u001b[1;32m    747\u001b[0m     inner_schema \u001b[38;5;241m=\u001b[39m apply_validators(fields_schema, decorators\u001b[38;5;241m.\u001b[39mroot_validators\u001b[38;5;241m.\u001b[39mvalues(), \u001b[38;5;28;01mNone\u001b[39;00m)\n\u001b[1;32m    748\u001b[0m     new_inner_schema \u001b[38;5;241m=\u001b[39m define_expected_missing_refs(inner_schema, recursively_defined_type_refs())\n",
      "File \u001b[0;32m~/.cache/pypoetry/virtualenvs/lazybids-ui-5inSgEsY-py3.10/lib/python3.10/site-packages/pydantic/_internal/_generate_schema.py:1115\u001b[0m, in \u001b[0;36mGenerateSchema._generate_md_field_schema\u001b[0;34m(self, name, field_info, decorators)\u001b[0m\n\u001b[1;32m   1108\u001b[0m \u001b[38;5;28;01mdef\u001b[39;00m \u001b[38;5;21m_generate_md_field_schema\u001b[39m(\n\u001b[1;32m   1109\u001b[0m     \u001b[38;5;28mself\u001b[39m,\n\u001b[1;32m   1110\u001b[0m     name: \u001b[38;5;28mstr\u001b[39m,\n\u001b[1;32m   1111\u001b[0m     field_info: FieldInfo,\n\u001b[1;32m   1112\u001b[0m     decorators: DecoratorInfos,\n\u001b[1;32m   1113\u001b[0m ) \u001b[38;5;241m-\u001b[39m\u001b[38;5;241m>\u001b[39m core_schema\u001b[38;5;241m.\u001b[39mModelField:\n\u001b[1;32m   1114\u001b[0m \u001b[38;5;250m    \u001b[39m\u001b[38;5;124;03m\"\"\"Prepare a ModelField to represent a model field.\"\"\"\u001b[39;00m\n\u001b[0;32m-> 1115\u001b[0m     common_field \u001b[38;5;241m=\u001b[39m \u001b[38;5;28;43mself\u001b[39;49m\u001b[38;5;241;43m.\u001b[39;49m\u001b[43m_common_field_schema\u001b[49m\u001b[43m(\u001b[49m\u001b[43mname\u001b[49m\u001b[43m,\u001b[49m\u001b[43m \u001b[49m\u001b[43mfield_info\u001b[49m\u001b[43m,\u001b[49m\u001b[43m \u001b[49m\u001b[43mdecorators\u001b[49m\u001b[43m)\u001b[49m\n\u001b[1;32m   1116\u001b[0m     \u001b[38;5;28;01mreturn\u001b[39;00m core_schema\u001b[38;5;241m.\u001b[39mmodel_field(\n\u001b[1;32m   1117\u001b[0m         common_field[\u001b[38;5;124m'\u001b[39m\u001b[38;5;124mschema\u001b[39m\u001b[38;5;124m'\u001b[39m],\n\u001b[1;32m   1118\u001b[0m         serialization_exclude\u001b[38;5;241m=\u001b[39mcommon_field[\u001b[38;5;124m'\u001b[39m\u001b[38;5;124mserialization_exclude\u001b[39m\u001b[38;5;124m'\u001b[39m],\n\u001b[0;32m   (...)\u001b[0m\n\u001b[1;32m   1122\u001b[0m         metadata\u001b[38;5;241m=\u001b[39mcommon_field[\u001b[38;5;124m'\u001b[39m\u001b[38;5;124mmetadata\u001b[39m\u001b[38;5;124m'\u001b[39m],\n\u001b[1;32m   1123\u001b[0m     )\n",
      "File \u001b[0;32m~/.cache/pypoetry/virtualenvs/lazybids-ui-5inSgEsY-py3.10/lib/python3.10/site-packages/pydantic/_internal/_generate_schema.py:1308\u001b[0m, in \u001b[0;36mGenerateSchema._common_field_schema\u001b[0;34m(self, name, field_info, decorators)\u001b[0m\n\u001b[1;32m   1304\u001b[0m         schema \u001b[38;5;241m=\u001b[39m \u001b[38;5;28mself\u001b[39m\u001b[38;5;241m.\u001b[39m_apply_annotations(\n\u001b[1;32m   1305\u001b[0m             source_type, annotations \u001b[38;5;241m+\u001b[39m validators_from_decorators, transform_inner_schema\u001b[38;5;241m=\u001b[39mset_discriminator\n\u001b[1;32m   1306\u001b[0m         )\n\u001b[1;32m   1307\u001b[0m     \u001b[38;5;28;01melse\u001b[39;00m:\n\u001b[0;32m-> 1308\u001b[0m         schema \u001b[38;5;241m=\u001b[39m \u001b[38;5;28;43mself\u001b[39;49m\u001b[38;5;241;43m.\u001b[39;49m\u001b[43m_apply_annotations\u001b[49m\u001b[43m(\u001b[49m\n\u001b[1;32m   1309\u001b[0m \u001b[43m            \u001b[49m\u001b[43msource_type\u001b[49m\u001b[43m,\u001b[49m\n\u001b[1;32m   1310\u001b[0m \u001b[43m            \u001b[49m\u001b[43mannotations\u001b[49m\u001b[43m \u001b[49m\u001b[38;5;241;43m+\u001b[39;49m\u001b[43m \u001b[49m\u001b[43mvalidators_from_decorators\u001b[49m\u001b[43m,\u001b[49m\n\u001b[1;32m   1311\u001b[0m \u001b[43m        \u001b[49m\u001b[43m)\u001b[49m\n\u001b[1;32m   1313\u001b[0m \u001b[38;5;66;03m# This V1 compatibility shim should eventually be removed\u001b[39;00m\n\u001b[1;32m   1314\u001b[0m \u001b[38;5;66;03m# push down any `each_item=True` validators\u001b[39;00m\n\u001b[1;32m   1315\u001b[0m \u001b[38;5;66;03m# note that this won't work for any Annotated types that get wrapped by a function validator\u001b[39;00m\n\u001b[1;32m   1316\u001b[0m \u001b[38;5;66;03m# but that's okay because that didn't exist in V1\u001b[39;00m\n\u001b[1;32m   1317\u001b[0m this_field_validators \u001b[38;5;241m=\u001b[39m filter_field_decorator_info_by_field(decorators\u001b[38;5;241m.\u001b[39mvalidators\u001b[38;5;241m.\u001b[39mvalues(), name)\n",
      "File \u001b[0;32m~/.cache/pypoetry/virtualenvs/lazybids-ui-5inSgEsY-py3.10/lib/python3.10/site-packages/pydantic/_internal/_generate_schema.py:2107\u001b[0m, in \u001b[0;36mGenerateSchema._apply_annotations\u001b[0;34m(self, source_type, annotations, transform_inner_schema)\u001b[0m\n\u001b[1;32m   2102\u001b[0m         \u001b[38;5;28;01mcontinue\u001b[39;00m\n\u001b[1;32m   2103\u001b[0m     get_inner_schema \u001b[38;5;241m=\u001b[39m \u001b[38;5;28mself\u001b[39m\u001b[38;5;241m.\u001b[39m_get_wrapped_inner_schema(\n\u001b[1;32m   2104\u001b[0m         get_inner_schema, annotation, pydantic_js_annotation_functions\n\u001b[1;32m   2105\u001b[0m     )\n\u001b[0;32m-> 2107\u001b[0m schema \u001b[38;5;241m=\u001b[39m \u001b[43mget_inner_schema\u001b[49m\u001b[43m(\u001b[49m\u001b[43msource_type\u001b[49m\u001b[43m)\u001b[49m\n\u001b[1;32m   2108\u001b[0m \u001b[38;5;28;01mif\u001b[39;00m pydantic_js_annotation_functions:\n\u001b[1;32m   2109\u001b[0m     metadata \u001b[38;5;241m=\u001b[39m CoreMetadataHandler(schema)\u001b[38;5;241m.\u001b[39mmetadata\n",
      "File \u001b[0;32m~/.cache/pypoetry/virtualenvs/lazybids-ui-5inSgEsY-py3.10/lib/python3.10/site-packages/pydantic/_internal/_schema_generation_shared.py:83\u001b[0m, in \u001b[0;36mCallbackGetCoreSchemaHandler.__call__\u001b[0;34m(self, source_type)\u001b[0m\n\u001b[1;32m     82\u001b[0m \u001b[38;5;28;01mdef\u001b[39;00m \u001b[38;5;21m__call__\u001b[39m(\u001b[38;5;28mself\u001b[39m, source_type: Any, \u001b[38;5;241m/\u001b[39m) \u001b[38;5;241m-\u001b[39m\u001b[38;5;241m>\u001b[39m core_schema\u001b[38;5;241m.\u001b[39mCoreSchema:\n\u001b[0;32m---> 83\u001b[0m     schema \u001b[38;5;241m=\u001b[39m \u001b[38;5;28;43mself\u001b[39;49m\u001b[38;5;241;43m.\u001b[39;49m\u001b[43m_handler\u001b[49m\u001b[43m(\u001b[49m\u001b[43msource_type\u001b[49m\u001b[43m)\u001b[49m\n\u001b[1;32m     84\u001b[0m     ref \u001b[38;5;241m=\u001b[39m schema\u001b[38;5;241m.\u001b[39mget(\u001b[38;5;124m'\u001b[39m\u001b[38;5;124mref\u001b[39m\u001b[38;5;124m'\u001b[39m)\n\u001b[1;32m     85\u001b[0m     \u001b[38;5;28;01mif\u001b[39;00m \u001b[38;5;28mself\u001b[39m\u001b[38;5;241m.\u001b[39m_ref_mode \u001b[38;5;241m==\u001b[39m \u001b[38;5;124m'\u001b[39m\u001b[38;5;124mto-def\u001b[39m\u001b[38;5;124m'\u001b[39m:\n",
      "File \u001b[0;32m~/.cache/pypoetry/virtualenvs/lazybids-ui-5inSgEsY-py3.10/lib/python3.10/site-packages/pydantic/_internal/_generate_schema.py:2088\u001b[0m, in \u001b[0;36mGenerateSchema._apply_annotations.<locals>.inner_handler\u001b[0;34m(obj)\u001b[0m\n\u001b[1;32m   2086\u001b[0m from_property \u001b[38;5;241m=\u001b[39m \u001b[38;5;28mself\u001b[39m\u001b[38;5;241m.\u001b[39m_generate_schema_from_property(obj, source_type)\n\u001b[1;32m   2087\u001b[0m \u001b[38;5;28;01mif\u001b[39;00m from_property \u001b[38;5;129;01mis\u001b[39;00m \u001b[38;5;28;01mNone\u001b[39;00m:\n\u001b[0;32m-> 2088\u001b[0m     schema \u001b[38;5;241m=\u001b[39m \u001b[38;5;28;43mself\u001b[39;49m\u001b[38;5;241;43m.\u001b[39;49m\u001b[43m_generate_schema_inner\u001b[49m\u001b[43m(\u001b[49m\u001b[43mobj\u001b[49m\u001b[43m)\u001b[49m\n\u001b[1;32m   2089\u001b[0m \u001b[38;5;28;01melse\u001b[39;00m:\n\u001b[1;32m   2090\u001b[0m     schema \u001b[38;5;241m=\u001b[39m from_property\n",
      "File \u001b[0;32m~/.cache/pypoetry/virtualenvs/lazybids-ui-5inSgEsY-py3.10/lib/python3.10/site-packages/pydantic/_internal/_generate_schema.py:929\u001b[0m, in \u001b[0;36mGenerateSchema._generate_schema_inner\u001b[0;34m(self, obj)\u001b[0m\n\u001b[1;32m    926\u001b[0m \u001b[38;5;28;01mif\u001b[39;00m \u001b[38;5;28misinstance\u001b[39m(obj, PydanticRecursiveRef):\n\u001b[1;32m    927\u001b[0m     \u001b[38;5;28;01mreturn\u001b[39;00m core_schema\u001b[38;5;241m.\u001b[39mdefinition_reference_schema(schema_ref\u001b[38;5;241m=\u001b[39mobj\u001b[38;5;241m.\u001b[39mtype_ref)\n\u001b[0;32m--> 929\u001b[0m \u001b[38;5;28;01mreturn\u001b[39;00m \u001b[38;5;28;43mself\u001b[39;49m\u001b[38;5;241;43m.\u001b[39;49m\u001b[43mmatch_type\u001b[49m\u001b[43m(\u001b[49m\u001b[43mobj\u001b[49m\u001b[43m)\u001b[49m\n",
      "File \u001b[0;32m~/.cache/pypoetry/virtualenvs/lazybids-ui-5inSgEsY-py3.10/lib/python3.10/site-packages/pydantic/_internal/_generate_schema.py:1029\u001b[0m, in \u001b[0;36mGenerateSchema.match_type\u001b[0;34m(self, obj)\u001b[0m\n\u001b[1;32m   1027\u001b[0m origin \u001b[38;5;241m=\u001b[39m get_origin(obj)\n\u001b[1;32m   1028\u001b[0m \u001b[38;5;28;01mif\u001b[39;00m origin \u001b[38;5;129;01mis\u001b[39;00m \u001b[38;5;129;01mnot\u001b[39;00m \u001b[38;5;28;01mNone\u001b[39;00m:\n\u001b[0;32m-> 1029\u001b[0m     \u001b[38;5;28;01mreturn\u001b[39;00m \u001b[38;5;28;43mself\u001b[39;49m\u001b[38;5;241;43m.\u001b[39;49m\u001b[43m_match_generic_type\u001b[49m\u001b[43m(\u001b[49m\u001b[43mobj\u001b[49m\u001b[43m,\u001b[49m\u001b[43m \u001b[49m\u001b[43morigin\u001b[49m\u001b[43m)\u001b[49m\n\u001b[1;32m   1031\u001b[0m res \u001b[38;5;241m=\u001b[39m \u001b[38;5;28mself\u001b[39m\u001b[38;5;241m.\u001b[39m_get_prepare_pydantic_annotations_for_known_type(obj, ())\n\u001b[1;32m   1032\u001b[0m \u001b[38;5;28;01mif\u001b[39;00m res \u001b[38;5;129;01mis\u001b[39;00m \u001b[38;5;129;01mnot\u001b[39;00m \u001b[38;5;28;01mNone\u001b[39;00m:\n",
      "File \u001b[0;32m~/.cache/pypoetry/virtualenvs/lazybids-ui-5inSgEsY-py3.10/lib/python3.10/site-packages/pydantic/_internal/_generate_schema.py:1058\u001b[0m, in \u001b[0;36mGenerateSchema._match_generic_type\u001b[0;34m(self, obj, origin)\u001b[0m\n\u001b[1;32m   1055\u001b[0m     \u001b[38;5;28;01mreturn\u001b[39;00m from_property\n\u001b[1;32m   1057\u001b[0m \u001b[38;5;28;01mif\u001b[39;00m _typing_extra\u001b[38;5;241m.\u001b[39morigin_is_union(origin):\n\u001b[0;32m-> 1058\u001b[0m     \u001b[38;5;28;01mreturn\u001b[39;00m \u001b[38;5;28;43mself\u001b[39;49m\u001b[38;5;241;43m.\u001b[39;49m\u001b[43m_union_schema\u001b[49m\u001b[43m(\u001b[49m\u001b[43mobj\u001b[49m\u001b[43m)\u001b[49m\n\u001b[1;32m   1059\u001b[0m \u001b[38;5;28;01melif\u001b[39;00m origin \u001b[38;5;129;01min\u001b[39;00m TUPLE_TYPES:\n\u001b[1;32m   1060\u001b[0m     \u001b[38;5;28;01mreturn\u001b[39;00m \u001b[38;5;28mself\u001b[39m\u001b[38;5;241m.\u001b[39m_tuple_schema(obj)\n",
      "File \u001b[0;32m~/.cache/pypoetry/virtualenvs/lazybids-ui-5inSgEsY-py3.10/lib/python3.10/site-packages/pydantic/_internal/_generate_schema.py:1378\u001b[0m, in \u001b[0;36mGenerateSchema._union_schema\u001b[0;34m(self, union_type)\u001b[0m\n\u001b[1;32m   1376\u001b[0m         nullable \u001b[38;5;241m=\u001b[39m \u001b[38;5;28;01mTrue\u001b[39;00m\n\u001b[1;32m   1377\u001b[0m     \u001b[38;5;28;01melse\u001b[39;00m:\n\u001b[0;32m-> 1378\u001b[0m         choices\u001b[38;5;241m.\u001b[39mappend(\u001b[38;5;28;43mself\u001b[39;49m\u001b[38;5;241;43m.\u001b[39;49m\u001b[43mgenerate_schema\u001b[49m\u001b[43m(\u001b[49m\u001b[43marg\u001b[49m\u001b[43m)\u001b[49m)\n\u001b[1;32m   1380\u001b[0m \u001b[38;5;28;01mif\u001b[39;00m \u001b[38;5;28mlen\u001b[39m(choices) \u001b[38;5;241m==\u001b[39m \u001b[38;5;241m1\u001b[39m:\n\u001b[1;32m   1381\u001b[0m     s \u001b[38;5;241m=\u001b[39m choices[\u001b[38;5;241m0\u001b[39m]\n",
      "File \u001b[0;32m~/.cache/pypoetry/virtualenvs/lazybids-ui-5inSgEsY-py3.10/lib/python3.10/site-packages/pydantic/_internal/_generate_schema.py:655\u001b[0m, in \u001b[0;36mGenerateSchema.generate_schema\u001b[0;34m(self, obj, from_dunder_get_core_schema)\u001b[0m\n\u001b[1;32m    652\u001b[0m         schema \u001b[38;5;241m=\u001b[39m from_property\n\u001b[1;32m    654\u001b[0m \u001b[38;5;28;01mif\u001b[39;00m schema \u001b[38;5;129;01mis\u001b[39;00m \u001b[38;5;28;01mNone\u001b[39;00m:\n\u001b[0;32m--> 655\u001b[0m     schema \u001b[38;5;241m=\u001b[39m \u001b[38;5;28;43mself\u001b[39;49m\u001b[38;5;241;43m.\u001b[39;49m\u001b[43m_generate_schema_inner\u001b[49m\u001b[43m(\u001b[49m\u001b[43mobj\u001b[49m\u001b[43m)\u001b[49m\n\u001b[1;32m    657\u001b[0m metadata_js_function \u001b[38;5;241m=\u001b[39m _extract_get_pydantic_json_schema(obj, schema)\n\u001b[1;32m    658\u001b[0m \u001b[38;5;28;01mif\u001b[39;00m metadata_js_function \u001b[38;5;129;01mis\u001b[39;00m \u001b[38;5;129;01mnot\u001b[39;00m \u001b[38;5;28;01mNone\u001b[39;00m:\n",
      "File \u001b[0;32m~/.cache/pypoetry/virtualenvs/lazybids-ui-5inSgEsY-py3.10/lib/python3.10/site-packages/pydantic/_internal/_generate_schema.py:929\u001b[0m, in \u001b[0;36mGenerateSchema._generate_schema_inner\u001b[0;34m(self, obj)\u001b[0m\n\u001b[1;32m    926\u001b[0m \u001b[38;5;28;01mif\u001b[39;00m \u001b[38;5;28misinstance\u001b[39m(obj, PydanticRecursiveRef):\n\u001b[1;32m    927\u001b[0m     \u001b[38;5;28;01mreturn\u001b[39;00m core_schema\u001b[38;5;241m.\u001b[39mdefinition_reference_schema(schema_ref\u001b[38;5;241m=\u001b[39mobj\u001b[38;5;241m.\u001b[39mtype_ref)\n\u001b[0;32m--> 929\u001b[0m \u001b[38;5;28;01mreturn\u001b[39;00m \u001b[38;5;28;43mself\u001b[39;49m\u001b[38;5;241;43m.\u001b[39;49m\u001b[43mmatch_type\u001b[49m\u001b[43m(\u001b[49m\u001b[43mobj\u001b[49m\u001b[43m)\u001b[49m\n",
      "File \u001b[0;32m~/.cache/pypoetry/virtualenvs/lazybids-ui-5inSgEsY-py3.10/lib/python3.10/site-packages/pydantic/_internal/_generate_schema.py:1038\u001b[0m, in \u001b[0;36mGenerateSchema.match_type\u001b[0;34m(self, obj)\u001b[0m\n\u001b[1;32m   1036\u001b[0m \u001b[38;5;28;01mif\u001b[39;00m \u001b[38;5;28mself\u001b[39m\u001b[38;5;241m.\u001b[39m_arbitrary_types:\n\u001b[1;32m   1037\u001b[0m     \u001b[38;5;28;01mreturn\u001b[39;00m \u001b[38;5;28mself\u001b[39m\u001b[38;5;241m.\u001b[39m_arbitrary_type_schema(obj)\n\u001b[0;32m-> 1038\u001b[0m \u001b[38;5;28;01mreturn\u001b[39;00m \u001b[38;5;28;43mself\u001b[39;49m\u001b[38;5;241;43m.\u001b[39;49m\u001b[43m_unknown_type_schema\u001b[49m\u001b[43m(\u001b[49m\u001b[43mobj\u001b[49m\u001b[43m)\u001b[49m\n",
      "File \u001b[0;32m~/.cache/pypoetry/virtualenvs/lazybids-ui-5inSgEsY-py3.10/lib/python3.10/site-packages/pydantic/_internal/_generate_schema.py:558\u001b[0m, in \u001b[0;36mGenerateSchema._unknown_type_schema\u001b[0;34m(self, obj)\u001b[0m\n\u001b[1;32m    557\u001b[0m \u001b[38;5;28;01mdef\u001b[39;00m \u001b[38;5;21m_unknown_type_schema\u001b[39m(\u001b[38;5;28mself\u001b[39m, obj: Any) \u001b[38;5;241m-\u001b[39m\u001b[38;5;241m>\u001b[39m CoreSchema:\n\u001b[0;32m--> 558\u001b[0m     \u001b[38;5;28;01mraise\u001b[39;00m PydanticSchemaGenerationError(\n\u001b[1;32m    559\u001b[0m         \u001b[38;5;124mf\u001b[39m\u001b[38;5;124m'\u001b[39m\u001b[38;5;124mUnable to generate pydantic-core schema for \u001b[39m\u001b[38;5;132;01m{\u001b[39;00mobj\u001b[38;5;132;01m!r}\u001b[39;00m\u001b[38;5;124m. \u001b[39m\u001b[38;5;124m'\u001b[39m\n\u001b[1;32m    560\u001b[0m         \u001b[38;5;124m'\u001b[39m\u001b[38;5;124mSet `arbitrary_types_allowed=True` in the model_config to ignore this error\u001b[39m\u001b[38;5;124m'\u001b[39m\n\u001b[1;32m    561\u001b[0m         \u001b[38;5;124m'\u001b[39m\u001b[38;5;124m or implement `__get_pydantic_core_schema__` on your type to fully support it.\u001b[39m\u001b[38;5;124m'\u001b[39m\n\u001b[1;32m    562\u001b[0m         \u001b[38;5;124m'\u001b[39m\u001b[38;5;130;01m\\n\u001b[39;00m\u001b[38;5;130;01m\\n\u001b[39;00m\u001b[38;5;124mIf you got this error by calling handler(<some type>) within\u001b[39m\u001b[38;5;124m'\u001b[39m\n\u001b[1;32m    563\u001b[0m         \u001b[38;5;124m'\u001b[39m\u001b[38;5;124m `__get_pydantic_core_schema__` then you likely need to call\u001b[39m\u001b[38;5;124m'\u001b[39m\n\u001b[1;32m    564\u001b[0m         \u001b[38;5;124m'\u001b[39m\u001b[38;5;124m `handler.generate_schema(<some type>)` since we do not call\u001b[39m\u001b[38;5;124m'\u001b[39m\n\u001b[1;32m    565\u001b[0m         \u001b[38;5;124m'\u001b[39m\u001b[38;5;124m `__get_pydantic_core_schema__` on `<some type>` otherwise to avoid infinite recursion.\u001b[39m\u001b[38;5;124m'\u001b[39m\n\u001b[1;32m    566\u001b[0m     )\n",
      "\u001b[0;31mPydanticSchemaGenerationError\u001b[0m: Unable to generate pydantic-core schema for <class 'lazybids.connection.Connection'>. Set `arbitrary_types_allowed=True` in the model_config to ignore this error or implement `__get_pydantic_core_schema__` on your type to fully support it.\n\nIf you got this error by calling handler(<some type>) within `__get_pydantic_core_schema__` then you likely need to call `handler.generate_schema(<some type>)` since we do not call `__get_pydantic_core_schema__` on `<some type>` otherwise to avoid infinite recursion.\n\nFor further information visit https://errors.pydantic.dev/2.9/u/schema-for-unknown-type"
     ]
    }
   ],
   "source": [
    "!pip install .. --upgrade\n",
    "!pip install openneuro-py\n",
    "import openneuro as on\n",
    "#on.download(dataset='ds000246', target_dir='data/bids')\n",
    "from rich import print\n",
    "import lazybids"
   ]
  },
  {
   "cell_type": "code",
   "execution_count": null,
   "metadata": {},
   "outputs": [
    {
     "data": {
      "text/html": [
       "<pre style=\"white-space:pre;overflow-x:auto;line-height:normal;font-family:Menlo,'DejaVu Sans Mono',consolas,'Courier New',monospace\"><span style=\"color: #7fbfbf; text-decoration-color: #7fbfbf\">[14:37:35] </span><span style=\"color: #000080; text-decoration-color: #000080\">INFO    </span> Loading all subjects from data\\bids\\.<span style=\"color: #800080; text-decoration-color: #800080\">/</span><span style=\"color: #ff00ff; text-decoration-color: #ff00ff\">participants.tsv</span>                         <a href=\"file://c:\\Users\\roela\\AppData\\Local\\Programs\\Python\\Python312\\Lib\\site-packages\\lazybids\\datatypes.py\" target=\"_blank\"><span style=\"color: #7f7f7f; text-decoration-color: #7f7f7f\">datatypes.py</span></a><span style=\"color: #7f7f7f; text-decoration-color: #7f7f7f\">:</span><a href=\"file://c:\\Users\\roela\\AppData\\Local\\Programs\\Python\\Python312\\Lib\\site-packages\\lazybids\\datatypes.py#464\" target=\"_blank\"><span style=\"color: #7f7f7f; text-decoration-color: #7f7f7f\">464</span></a>\n",
       "</pre>\n"
      ],
      "text/plain": [
       "\u001b[2;36m[14:37:35]\u001b[0m\u001b[2;36m \u001b[0m\u001b[34mINFO    \u001b[0m Loading all subjects from data\\bids\\.\u001b[35m/\u001b[0m\u001b[95mparticipants.tsv\u001b[0m                         \u001b]8;id=870601;file://c:\\Users\\roela\\AppData\\Local\\Programs\\Python\\Python312\\Lib\\site-packages\\lazybids\\datatypes.py\u001b\\\u001b[2mdatatypes.py\u001b[0m\u001b]8;;\u001b\\\u001b[2m:\u001b[0m\u001b]8;id=811573;file://c:\\Users\\roela\\AppData\\Local\\Programs\\Python\\Python312\\Lib\\site-packages\\lazybids\\datatypes.py#464\u001b\\\u001b[2m464\u001b[0m\u001b]8;;\u001b\\\n"
      ]
     },
     "metadata": {},
     "output_type": "display_data"
    },
    {
     "name": "stderr",
     "output_type": "stream",
     "text": [
      "  0%|          | 0/2 [00:00<?, ?it/s]"
     ]
    },
    {
     "data": {
      "text/html": [
       "<pre style=\"white-space:pre;overflow-x:auto;line-height:normal;font-family:Menlo,'DejaVu Sans Mono',consolas,'Courier New',monospace\"><span style=\"color: #7fbfbf; text-decoration-color: #7fbfbf\">           </span><span style=\"color: #000080; text-decoration-color: #000080\">INFO    </span> Loading experiments for participant sub-emptyroom                              <a href=\"file://c:\\Users\\roela\\AppData\\Local\\Programs\\Python\\Python312\\Lib\\site-packages\\lazybids\\datatypes.py\" target=\"_blank\"><span style=\"color: #7f7f7f; text-decoration-color: #7f7f7f\">datatypes.py</span></a><span style=\"color: #7f7f7f; text-decoration-color: #7f7f7f\">:</span><a href=\"file://c:\\Users\\roela\\AppData\\Local\\Programs\\Python\\Python312\\Lib\\site-packages\\lazybids\\datatypes.py#348\" target=\"_blank\"><span style=\"color: #7f7f7f; text-decoration-color: #7f7f7f\">348</span></a>\n",
       "</pre>\n"
      ],
      "text/plain": [
       "\u001b[2;36m          \u001b[0m\u001b[2;36m \u001b[0m\u001b[34mINFO    \u001b[0m Loading experiments for participant sub-emptyroom                              \u001b]8;id=944093;file://c:\\Users\\roela\\AppData\\Local\\Programs\\Python\\Python312\\Lib\\site-packages\\lazybids\\datatypes.py\u001b\\\u001b[2mdatatypes.py\u001b[0m\u001b]8;;\u001b\\\u001b[2m:\u001b[0m\u001b]8;id=524292;file://c:\\Users\\roela\\AppData\\Local\\Programs\\Python\\Python312\\Lib\\site-packages\\lazybids\\datatypes.py#348\u001b\\\u001b[2m348\u001b[0m\u001b]8;;\u001b\\\n"
      ]
     },
     "metadata": {},
     "output_type": "display_data"
    },
    {
     "name": "stderr",
     "output_type": "stream",
     "text": [
      "0it [00:00, ?it/s]\n"
     ]
    },
    {
     "data": {
      "text/html": [
       "<pre style=\"white-space:pre;overflow-x:auto;line-height:normal;font-family:Menlo,'DejaVu Sans Mono',consolas,'Courier New',monospace\"><span style=\"color: #7fbfbf; text-decoration-color: #7fbfbf\">           </span><span style=\"color: #808000; text-decoration-color: #808000\">WARNING </span> Scan file is not supported:                                                    <a href=\"file://c:\\Users\\roela\\AppData\\Local\\Programs\\Python\\Python312\\Lib\\site-packages\\lazybids\\datatypes.py\" target=\"_blank\"><span style=\"color: #7f7f7f; text-decoration-color: #7f7f7f\">datatypes.py</span></a><span style=\"color: #7f7f7f; text-decoration-color: #7f7f7f\">:</span><a href=\"file://c:\\Users\\roela\\AppData\\Local\\Programs\\Python\\Python312\\Lib\\site-packages\\lazybids\\datatypes.py#116\" target=\"_blank\"><span style=\"color: #7f7f7f; text-decoration-color: #7f7f7f\">116</span></a>\n",
       "<span style=\"color: #7fbfbf; text-decoration-color: #7fbfbf\">           </span>         data\\bids\\sub-emptyroom\\.<span style=\"color: #800080; text-decoration-color: #800080\">/</span><span style=\"color: #ff00ff; text-decoration-color: #ff00ff\">meg</span>\\.\\sub-emptyroom_task-noise_run-01_meg.ds         <span style=\"color: #7f7f7f; text-decoration-color: #7f7f7f\">                </span>\n",
       "</pre>\n"
      ],
      "text/plain": [
       "\u001b[2;36m          \u001b[0m\u001b[2;36m \u001b[0m\u001b[33mWARNING \u001b[0m Scan file is not supported:                                                    \u001b]8;id=431798;file://c:\\Users\\roela\\AppData\\Local\\Programs\\Python\\Python312\\Lib\\site-packages\\lazybids\\datatypes.py\u001b\\\u001b[2mdatatypes.py\u001b[0m\u001b]8;;\u001b\\\u001b[2m:\u001b[0m\u001b]8;id=321266;file://c:\\Users\\roela\\AppData\\Local\\Programs\\Python\\Python312\\Lib\\site-packages\\lazybids\\datatypes.py#116\u001b\\\u001b[2m116\u001b[0m\u001b]8;;\u001b\\\n",
       "\u001b[2;36m           \u001b[0m         data\\bids\\sub-emptyroom\\.\u001b[35m/\u001b[0m\u001b[95mmeg\u001b[0m\\.\\sub-emptyroom_task-noise_run-01_meg.ds         \u001b[2m                \u001b[0m\n"
      ]
     },
     "metadata": {},
     "output_type": "display_data"
    },
    {
     "data": {
      "text/html": [
       "<pre style=\"white-space:pre;overflow-x:auto;line-height:normal;font-family:Menlo,'DejaVu Sans Mono',consolas,'Courier New',monospace\"><span style=\"color: #7fbfbf; text-decoration-color: #7fbfbf\">           </span><span style=\"color: #000080; text-decoration-color: #000080\">INFO    </span> Loading experiments for participant sub-<span style=\"color: #008080; text-decoration-color: #008080; font-weight: bold\">0001</span>                                   <a href=\"file://c:\\Users\\roela\\AppData\\Local\\Programs\\Python\\Python312\\Lib\\site-packages\\lazybids\\datatypes.py\" target=\"_blank\"><span style=\"color: #7f7f7f; text-decoration-color: #7f7f7f\">datatypes.py</span></a><span style=\"color: #7f7f7f; text-decoration-color: #7f7f7f\">:</span><a href=\"file://c:\\Users\\roela\\AppData\\Local\\Programs\\Python\\Python312\\Lib\\site-packages\\lazybids\\datatypes.py#348\" target=\"_blank\"><span style=\"color: #7f7f7f; text-decoration-color: #7f7f7f\">348</span></a>\n",
       "</pre>\n"
      ],
      "text/plain": [
       "\u001b[2;36m          \u001b[0m\u001b[2;36m \u001b[0m\u001b[34mINFO    \u001b[0m Loading experiments for participant sub-\u001b[1;36m0001\u001b[0m                                   \u001b]8;id=390445;file://c:\\Users\\roela\\AppData\\Local\\Programs\\Python\\Python312\\Lib\\site-packages\\lazybids\\datatypes.py\u001b\\\u001b[2mdatatypes.py\u001b[0m\u001b]8;;\u001b\\\u001b[2m:\u001b[0m\u001b]8;id=811217;file://c:\\Users\\roela\\AppData\\Local\\Programs\\Python\\Python312\\Lib\\site-packages\\lazybids\\datatypes.py#348\u001b\\\u001b[2m348\u001b[0m\u001b]8;;\u001b\\\n"
      ]
     },
     "metadata": {},
     "output_type": "display_data"
    },
    {
     "name": "stderr",
     "output_type": "stream",
     "text": [
      "0it [00:00, ?it/s]\n"
     ]
    },
    {
     "data": {
      "text/html": [
       "<pre style=\"white-space:pre;overflow-x:auto;line-height:normal;font-family:Menlo,'DejaVu Sans Mono',consolas,'Courier New',monospace\"><span style=\"color: #7fbfbf; text-decoration-color: #7fbfbf\">           </span><span style=\"color: #808000; text-decoration-color: #808000\">WARNING </span> Scan file is not supported: data\\bids\\sub-<span style=\"color: #008080; text-decoration-color: #008080; font-weight: bold\">0001</span>\\.<span style=\"color: #800080; text-decoration-color: #800080\">/</span><span style=\"color: #ff00ff; text-decoration-color: #ff00ff\">meg</span>\\.\\sub-0001_headshape.pos  <a href=\"file://c:\\Users\\roela\\AppData\\Local\\Programs\\Python\\Python312\\Lib\\site-packages\\lazybids\\datatypes.py\" target=\"_blank\"><span style=\"color: #7f7f7f; text-decoration-color: #7f7f7f\">datatypes.py</span></a><span style=\"color: #7f7f7f; text-decoration-color: #7f7f7f\">:</span><a href=\"file://c:\\Users\\roela\\AppData\\Local\\Programs\\Python\\Python312\\Lib\\site-packages\\lazybids\\datatypes.py#116\" target=\"_blank\"><span style=\"color: #7f7f7f; text-decoration-color: #7f7f7f\">116</span></a>\n",
       "</pre>\n"
      ],
      "text/plain": [
       "\u001b[2;36m          \u001b[0m\u001b[2;36m \u001b[0m\u001b[33mWARNING \u001b[0m Scan file is not supported: data\\bids\\sub-\u001b[1;36m0001\u001b[0m\\.\u001b[35m/\u001b[0m\u001b[95mmeg\u001b[0m\\.\\sub-0001_headshape.pos  \u001b]8;id=140245;file://c:\\Users\\roela\\AppData\\Local\\Programs\\Python\\Python312\\Lib\\site-packages\\lazybids\\datatypes.py\u001b\\\u001b[2mdatatypes.py\u001b[0m\u001b]8;;\u001b\\\u001b[2m:\u001b[0m\u001b]8;id=271011;file://c:\\Users\\roela\\AppData\\Local\\Programs\\Python\\Python312\\Lib\\site-packages\\lazybids\\datatypes.py#116\u001b\\\u001b[2m116\u001b[0m\u001b]8;;\u001b\\\n"
      ]
     },
     "metadata": {},
     "output_type": "display_data"
    },
    {
     "data": {
      "text/html": [
       "<pre style=\"white-space:pre;overflow-x:auto;line-height:normal;font-family:Menlo,'DejaVu Sans Mono',consolas,'Courier New',monospace\"><span style=\"color: #7fbfbf; text-decoration-color: #7fbfbf\">           </span><span style=\"color: #808000; text-decoration-color: #808000\">WARNING </span> Scan file is not supported:                                                    <a href=\"file://c:\\Users\\roela\\AppData\\Local\\Programs\\Python\\Python312\\Lib\\site-packages\\lazybids\\datatypes.py\" target=\"_blank\"><span style=\"color: #7f7f7f; text-decoration-color: #7f7f7f\">datatypes.py</span></a><span style=\"color: #7f7f7f; text-decoration-color: #7f7f7f\">:</span><a href=\"file://c:\\Users\\roela\\AppData\\Local\\Programs\\Python\\Python312\\Lib\\site-packages\\lazybids\\datatypes.py#116\" target=\"_blank\"><span style=\"color: #7f7f7f; text-decoration-color: #7f7f7f\">116</span></a>\n",
       "<span style=\"color: #7fbfbf; text-decoration-color: #7fbfbf\">           </span>         data\\bids\\sub-<span style=\"color: #008080; text-decoration-color: #008080; font-weight: bold\">0001</span>\\.<span style=\"color: #800080; text-decoration-color: #800080\">/</span><span style=\"color: #ff00ff; text-decoration-color: #ff00ff\">meg</span>\\.\\sub-0001_task-AEF_run-01_meg.ds                     <span style=\"color: #7f7f7f; text-decoration-color: #7f7f7f\">                </span>\n",
       "</pre>\n"
      ],
      "text/plain": [
       "\u001b[2;36m          \u001b[0m\u001b[2;36m \u001b[0m\u001b[33mWARNING \u001b[0m Scan file is not supported:                                                    \u001b]8;id=717050;file://c:\\Users\\roela\\AppData\\Local\\Programs\\Python\\Python312\\Lib\\site-packages\\lazybids\\datatypes.py\u001b\\\u001b[2mdatatypes.py\u001b[0m\u001b]8;;\u001b\\\u001b[2m:\u001b[0m\u001b]8;id=106435;file://c:\\Users\\roela\\AppData\\Local\\Programs\\Python\\Python312\\Lib\\site-packages\\lazybids\\datatypes.py#116\u001b\\\u001b[2m116\u001b[0m\u001b]8;;\u001b\\\n",
       "\u001b[2;36m           \u001b[0m         data\\bids\\sub-\u001b[1;36m0001\u001b[0m\\.\u001b[35m/\u001b[0m\u001b[95mmeg\u001b[0m\\.\\sub-0001_task-AEF_run-01_meg.ds                     \u001b[2m                \u001b[0m\n"
      ]
     },
     "metadata": {},
     "output_type": "display_data"
    },
    {
     "data": {
      "text/html": [
       "<pre style=\"white-space:pre;overflow-x:auto;line-height:normal;font-family:Menlo,'DejaVu Sans Mono',consolas,'Courier New',monospace\"><span style=\"color: #7fbfbf; text-decoration-color: #7fbfbf\">           </span><span style=\"color: #808000; text-decoration-color: #808000\">WARNING </span> Scan file is not supported:                                                    <a href=\"file://c:\\Users\\roela\\AppData\\Local\\Programs\\Python\\Python312\\Lib\\site-packages\\lazybids\\datatypes.py\" target=\"_blank\"><span style=\"color: #7f7f7f; text-decoration-color: #7f7f7f\">datatypes.py</span></a><span style=\"color: #7f7f7f; text-decoration-color: #7f7f7f\">:</span><a href=\"file://c:\\Users\\roela\\AppData\\Local\\Programs\\Python\\Python312\\Lib\\site-packages\\lazybids\\datatypes.py#116\" target=\"_blank\"><span style=\"color: #7f7f7f; text-decoration-color: #7f7f7f\">116</span></a>\n",
       "<span style=\"color: #7fbfbf; text-decoration-color: #7fbfbf\">           </span>         data\\bids\\sub-<span style=\"color: #008080; text-decoration-color: #008080; font-weight: bold\">0001</span>\\.<span style=\"color: #800080; text-decoration-color: #800080\">/</span><span style=\"color: #ff00ff; text-decoration-color: #ff00ff\">meg</span>\\.\\sub-0001_task-AEF_run-02_meg.ds                     <span style=\"color: #7f7f7f; text-decoration-color: #7f7f7f\">                </span>\n",
       "</pre>\n"
      ],
      "text/plain": [
       "\u001b[2;36m          \u001b[0m\u001b[2;36m \u001b[0m\u001b[33mWARNING \u001b[0m Scan file is not supported:                                                    \u001b]8;id=415997;file://c:\\Users\\roela\\AppData\\Local\\Programs\\Python\\Python312\\Lib\\site-packages\\lazybids\\datatypes.py\u001b\\\u001b[2mdatatypes.py\u001b[0m\u001b]8;;\u001b\\\u001b[2m:\u001b[0m\u001b]8;id=186897;file://c:\\Users\\roela\\AppData\\Local\\Programs\\Python\\Python312\\Lib\\site-packages\\lazybids\\datatypes.py#116\u001b\\\u001b[2m116\u001b[0m\u001b]8;;\u001b\\\n",
       "\u001b[2;36m           \u001b[0m         data\\bids\\sub-\u001b[1;36m0001\u001b[0m\\.\u001b[35m/\u001b[0m\u001b[95mmeg\u001b[0m\\.\\sub-0001_task-AEF_run-02_meg.ds                     \u001b[2m                \u001b[0m\n"
      ]
     },
     "metadata": {},
     "output_type": "display_data"
    },
    {
     "name": "stderr",
     "output_type": "stream",
     "text": [
      "100%|██████████| 2/2 [00:00<00:00,  9.16it/s]\n"
     ]
    }
   ],
   "source": [
    "dataset_dir = './data/bids/'\n",
    "ds = lazybids.Dataset.from_folder(dataset_dir, load_scans_in_memory=False)"
   ]
  },
  {
   "cell_type": "code",
   "execution_count": null,
   "metadata": {},
   "outputs": [
    {
     "data": {
      "text/html": [
       "<pre style=\"white-space:pre;overflow-x:auto;line-height:normal;font-family:Menlo,'DejaVu Sans Mono',consolas,'Courier New',monospace\"><span style=\"color: #800080; text-decoration-color: #800080; font-weight: bold\">Dataset</span><span style=\"font-weight: bold\">(</span>\n",
       "    <span style=\"color: #808000; text-decoration-color: #808000\">name</span>=<span style=\"color: #008000; text-decoration-color: #008000\">'MEG-BIDS Brainstorm data sample'</span>,\n",
       "    <span style=\"color: #808000; text-decoration-color: #808000\">folder</span>=<span style=\"color: #800080; text-decoration-color: #800080; font-weight: bold\">WindowsPath</span><span style=\"font-weight: bold\">(</span><span style=\"color: #008000; text-decoration-color: #008000\">'data/bids'</span><span style=\"font-weight: bold\">)</span>,\n",
       "    <span style=\"color: #808000; text-decoration-color: #808000\">json_file</span>=<span style=\"color: #800080; text-decoration-color: #800080; font-weight: bold\">WindowsPath</span><span style=\"font-weight: bold\">(</span><span style=\"color: #008000; text-decoration-color: #008000\">'data/bids/dataset_description.json'</span><span style=\"font-weight: bold\">)</span>,\n",
       "    <span style=\"color: #808000; text-decoration-color: #808000\">participants_json</span>=<span style=\"color: #800080; text-decoration-color: #800080; font-style: italic\">None</span>,\n",
       "    <span style=\"color: #808000; text-decoration-color: #808000\">bids_version</span>=<span style=\"color: #008000; text-decoration-color: #008000\">'1.4.1'</span>,\n",
       "    <span style=\"color: #808000; text-decoration-color: #808000\">HEDVersion</span>=<span style=\"color: #800080; text-decoration-color: #800080; font-style: italic\">None</span>,\n",
       "    <span style=\"color: #808000; text-decoration-color: #808000\">authors</span>=<span style=\"font-weight: bold\">[</span><span style=\"color: #008000; text-decoration-color: #008000\">'Elizabeth Bock'</span>, <span style=\"color: #008000; text-decoration-color: #008000\">'Peter Donhauser'</span>, <span style=\"color: #008000; text-decoration-color: #008000\">'Francois Tadel'</span>, <span style=\"color: #008000; text-decoration-color: #008000\">'Guiomar Niso'</span>, <span style=\"color: #008000; text-decoration-color: #008000\">'Sylvain Baillet'</span><span style=\"font-weight: bold\">]</span>,\n",
       "    <span style=\"color: #808000; text-decoration-color: #808000\">fields</span>=<span style=\"font-weight: bold\">{}</span>,\n",
       "    <span style=\"color: #808000; text-decoration-color: #808000\">description</span>=<span style=\"color: #800080; text-decoration-color: #800080; font-style: italic\">None</span>,\n",
       "    <span style=\"color: #808000; text-decoration-color: #808000\">dataset_type</span>=<span style=\"color: #008000; text-decoration-color: #008000\">''</span>,\n",
       "    <span style=\"color: #808000; text-decoration-color: #808000\">how_to_acknowledge</span>=<span style=\"color: #008000; text-decoration-color: #008000\">\"If you reference this dataset in your publications, please aknowledge its authors and cite </span>\n",
       "<span style=\"color: #008000; text-decoration-color: #008000\">Brainstorm as indicated on the website (http://neuroimage.usc.edu/brainstorm/CiteBrainstorm). \\n\\nAlso, include the</span>\n",
       "<span style=\"color: #008000; text-decoration-color: #008000\">following message: ' This data was obtained from the OpenNeuro database. Its accession number is ds000246'\"</span>,\n",
       "    <span style=\"color: #808000; text-decoration-color: #808000\">acknowledgements</span>=<span style=\"color: #008000; text-decoration-color: #008000\">''</span>,\n",
       "    <span style=\"color: #808000; text-decoration-color: #808000\">funding</span>=<span style=\"font-weight: bold\">[</span><span style=\"color: #008000; text-decoration-color: #008000\">'NIH (2R01EB009048-05)'</span><span style=\"font-weight: bold\">]</span>,\n",
       "    <span style=\"color: #808000; text-decoration-color: #808000\">ethics_approvals</span>=<span style=\"color: #800080; text-decoration-color: #800080; font-style: italic\">None</span>,\n",
       "    <span style=\"color: #808000; text-decoration-color: #808000\">references_and_links</span>=<span style=\"font-weight: bold\">[</span>\n",
       "        <span style=\"color: #008000; text-decoration-color: #008000\">'https://www.ncbi.nlm.nih.gov/pmc/articles/PMC3090754'</span>,\n",
       "        <span style=\"color: #008000; text-decoration-color: #008000\">'https://doi.org/10.3389/fnins.2019.00076'</span>,\n",
       "        <span style=\"color: #008000; text-decoration-color: #008000\">'http://neuroimage.usc.edu/brainstorm/'</span>,\n",
       "        <span style=\"color: #008000; text-decoration-color: #008000\">'https://openfmri.org/dataset/ds000246/'</span>\n",
       "    <span style=\"font-weight: bold\">]</span>,\n",
       "    <span style=\"color: #808000; text-decoration-color: #808000\">source_datasets</span>=<span style=\"color: #800080; text-decoration-color: #800080; font-style: italic\">None</span>,\n",
       "    <span style=\"color: #808000; text-decoration-color: #808000\">license</span>=<span style=\"color: #008000; text-decoration-color: #008000\">'CC0'</span>,\n",
       "    <span style=\"color: #808000; text-decoration-color: #808000\">dataset_doi</span>=<span style=\"color: #008000; text-decoration-color: #008000\">'doi:10.18112/openneuro.ds000246.v1.0.1'</span>,\n",
       "    <span style=\"color: #808000; text-decoration-color: #808000\">subject_variables_metadata</span>=<span style=\"color: #800080; text-decoration-color: #800080; font-style: italic\">None</span>\n",
       "<span style=\"font-weight: bold\">)</span>\n",
       "</pre>\n"
      ],
      "text/plain": [
       "\u001b[1;35mDataset\u001b[0m\u001b[1m(\u001b[0m\n",
       "    \u001b[33mname\u001b[0m=\u001b[32m'MEG-BIDS Brainstorm data sample'\u001b[0m,\n",
       "    \u001b[33mfolder\u001b[0m=\u001b[1;35mWindowsPath\u001b[0m\u001b[1m(\u001b[0m\u001b[32m'data/bids'\u001b[0m\u001b[1m)\u001b[0m,\n",
       "    \u001b[33mjson_file\u001b[0m=\u001b[1;35mWindowsPath\u001b[0m\u001b[1m(\u001b[0m\u001b[32m'data/bids/dataset_description.json'\u001b[0m\u001b[1m)\u001b[0m,\n",
       "    \u001b[33mparticipants_json\u001b[0m=\u001b[3;35mNone\u001b[0m,\n",
       "    \u001b[33mbids_version\u001b[0m=\u001b[32m'1.4.1'\u001b[0m,\n",
       "    \u001b[33mHEDVersion\u001b[0m=\u001b[3;35mNone\u001b[0m,\n",
       "    \u001b[33mauthors\u001b[0m=\u001b[1m[\u001b[0m\u001b[32m'Elizabeth Bock'\u001b[0m, \u001b[32m'Peter Donhauser'\u001b[0m, \u001b[32m'Francois Tadel'\u001b[0m, \u001b[32m'Guiomar Niso'\u001b[0m, \u001b[32m'Sylvain Baillet'\u001b[0m\u001b[1m]\u001b[0m,\n",
       "    \u001b[33mfields\u001b[0m=\u001b[1m{\u001b[0m\u001b[1m}\u001b[0m,\n",
       "    \u001b[33mdescription\u001b[0m=\u001b[3;35mNone\u001b[0m,\n",
       "    \u001b[33mdataset_type\u001b[0m=\u001b[32m''\u001b[0m,\n",
       "    \u001b[33mhow_to_acknowledge\u001b[0m=\u001b[32m\"If\u001b[0m\u001b[32m you reference this dataset in your publications, please aknowledge its authors and cite \u001b[0m\n",
       "\u001b[32mBrainstorm as indicated on the website \u001b[0m\u001b[32m(\u001b[0m\u001b[32mhttp://neuroimage.usc.edu/brainstorm/CiteBrainstorm\u001b[0m\u001b[32m)\u001b[0m\u001b[32m. \\n\\nAlso, include the\u001b[0m\n",
       "\u001b[32mfollowing message: ' This data was obtained from the OpenNeuro database. Its accession number is ds000246'\"\u001b[0m,\n",
       "    \u001b[33macknowledgements\u001b[0m=\u001b[32m''\u001b[0m,\n",
       "    \u001b[33mfunding\u001b[0m=\u001b[1m[\u001b[0m\u001b[32m'NIH \u001b[0m\u001b[32m(\u001b[0m\u001b[32m2R01EB009048-05\u001b[0m\u001b[32m)\u001b[0m\u001b[32m'\u001b[0m\u001b[1m]\u001b[0m,\n",
       "    \u001b[33methics_approvals\u001b[0m=\u001b[3;35mNone\u001b[0m,\n",
       "    \u001b[33mreferences_and_links\u001b[0m=\u001b[1m[\u001b[0m\n",
       "        \u001b[32m'https://www.ncbi.nlm.nih.gov/pmc/articles/PMC3090754'\u001b[0m,\n",
       "        \u001b[32m'https://doi.org/10.3389/fnins.2019.00076'\u001b[0m,\n",
       "        \u001b[32m'http://neuroimage.usc.edu/brainstorm/'\u001b[0m,\n",
       "        \u001b[32m'https://openfmri.org/dataset/ds000246/'\u001b[0m\n",
       "    \u001b[1m]\u001b[0m,\n",
       "    \u001b[33msource_datasets\u001b[0m=\u001b[3;35mNone\u001b[0m,\n",
       "    \u001b[33mlicense\u001b[0m=\u001b[32m'CC0'\u001b[0m,\n",
       "    \u001b[33mdataset_doi\u001b[0m=\u001b[32m'doi:10.18112/openneuro.ds000246.v1.0.1'\u001b[0m,\n",
       "    \u001b[33msubject_variables_metadata\u001b[0m=\u001b[3;35mNone\u001b[0m\n",
       "\u001b[1m)\u001b[0m\n"
      ]
     },
     "metadata": {},
     "output_type": "display_data"
    }
   ],
   "source": [
    "print(ds)"
   ]
  },
  {
   "cell_type": "code",
   "execution_count": null,
   "metadata": {},
   "outputs": [
    {
     "data": {
      "text/html": [
       "<pre style=\"white-space:pre;overflow-x:auto;line-height:normal;font-family:Menlo,'DejaVu Sans Mono',consolas,'Courier New',monospace\"><span style=\"color: #800080; text-decoration-color: #800080; font-weight: bold\">Subject</span><span style=\"font-weight: bold\">(</span>\n",
       "    <span style=\"color: #808000; text-decoration-color: #808000\">participant_id</span>=<span style=\"color: #008000; text-decoration-color: #008000\">'sub-emptyroom'</span>,\n",
       "    <span style=\"color: #808000; text-decoration-color: #808000\">folder</span>=<span style=\"color: #800080; text-decoration-color: #800080; font-weight: bold\">WindowsPath</span><span style=\"font-weight: bold\">(</span><span style=\"color: #008000; text-decoration-color: #008000\">'data/bids/sub-emptyroom'</span><span style=\"font-weight: bold\">)</span>,\n",
       "    <span style=\"color: #808000; text-decoration-color: #808000\">scan_metadata</span>=<span style=\"font-weight: bold\">{}</span>,\n",
       "    <span style=\"color: #808000; text-decoration-color: #808000\">fields</span>=<span style=\"color: #800080; text-decoration-color: #800080; font-style: italic\">None</span>,\n",
       "    <span style=\"color: #808000; text-decoration-color: #808000\">path_vars_keys</span>=<span style=\"font-weight: bold\">[]</span>,\n",
       "    <span style=\"color: #808000; text-decoration-color: #808000\">age</span>=<span style=\"color: #800080; text-decoration-color: #800080\">nan</span>,\n",
       "    <span style=\"color: #808000; text-decoration-color: #808000\">sex</span>=<span style=\"color: #800080; text-decoration-color: #800080\">nan</span>,\n",
       "    <span style=\"color: #808000; text-decoration-color: #808000\">dominant_hand</span>=<span style=\"color: #800080; text-decoration-color: #800080\">nan</span>,\n",
       "    <span style=\"color: #808000; text-decoration-color: #808000\">n_experiments</span>=<span style=\"color: #008080; text-decoration-color: #008080; font-weight: bold\">0</span>,\n",
       "    <span style=\"color: #808000; text-decoration-color: #808000\">n_scans</span>=<span style=\"color: #008080; text-decoration-color: #008080; font-weight: bold\">2</span>\n",
       "<span style=\"font-weight: bold\">)</span>\n",
       "</pre>\n"
      ],
      "text/plain": [
       "\u001b[1;35mSubject\u001b[0m\u001b[1m(\u001b[0m\n",
       "    \u001b[33mparticipant_id\u001b[0m=\u001b[32m'sub-emptyroom'\u001b[0m,\n",
       "    \u001b[33mfolder\u001b[0m=\u001b[1;35mWindowsPath\u001b[0m\u001b[1m(\u001b[0m\u001b[32m'data/bids/sub-emptyroom'\u001b[0m\u001b[1m)\u001b[0m,\n",
       "    \u001b[33mscan_metadata\u001b[0m=\u001b[1m{\u001b[0m\u001b[1m}\u001b[0m,\n",
       "    \u001b[33mfields\u001b[0m=\u001b[3;35mNone\u001b[0m,\n",
       "    \u001b[33mpath_vars_keys\u001b[0m=\u001b[1m[\u001b[0m\u001b[1m]\u001b[0m,\n",
       "    \u001b[33mage\u001b[0m=\u001b[35mnan\u001b[0m,\n",
       "    \u001b[33msex\u001b[0m=\u001b[35mnan\u001b[0m,\n",
       "    \u001b[33mdominant_hand\u001b[0m=\u001b[35mnan\u001b[0m,\n",
       "    \u001b[33mn_experiments\u001b[0m=\u001b[1;36m0\u001b[0m,\n",
       "    \u001b[33mn_scans\u001b[0m=\u001b[1;36m2\u001b[0m\n",
       "\u001b[1m)\u001b[0m\n"
      ]
     },
     "metadata": {},
     "output_type": "display_data"
    },
    {
     "data": {
      "text/html": [
       "<pre style=\"white-space:pre;overflow-x:auto;line-height:normal;font-family:Menlo,'DejaVu Sans Mono',consolas,'Courier New',monospace\"><span style=\"color: #800080; text-decoration-color: #800080; font-weight: bold\">Subject</span><span style=\"font-weight: bold\">(</span>\n",
       "    <span style=\"color: #808000; text-decoration-color: #808000\">participant_id</span>=<span style=\"color: #008000; text-decoration-color: #008000\">'sub-0001'</span>,\n",
       "    <span style=\"color: #808000; text-decoration-color: #808000\">folder</span>=<span style=\"color: #800080; text-decoration-color: #800080; font-weight: bold\">WindowsPath</span><span style=\"font-weight: bold\">(</span><span style=\"color: #008000; text-decoration-color: #008000\">'data/bids/sub-0001'</span><span style=\"font-weight: bold\">)</span>,\n",
       "    <span style=\"color: #808000; text-decoration-color: #808000\">scan_metadata</span>=<span style=\"font-weight: bold\">{}</span>,\n",
       "    <span style=\"color: #808000; text-decoration-color: #808000\">fields</span>=<span style=\"color: #800080; text-decoration-color: #800080; font-style: italic\">None</span>,\n",
       "    <span style=\"color: #808000; text-decoration-color: #808000\">path_vars_keys</span>=<span style=\"font-weight: bold\">[]</span>,\n",
       "    <span style=\"color: #808000; text-decoration-color: #808000\">age</span>=<span style=\"color: #008080; text-decoration-color: #008080; font-weight: bold\">25.0</span>,\n",
       "    <span style=\"color: #808000; text-decoration-color: #808000\">sex</span>=<span style=\"color: #008000; text-decoration-color: #008000\">'Male'</span>,\n",
       "    <span style=\"color: #808000; text-decoration-color: #808000\">dominant_hand</span>=<span style=\"color: #008000; text-decoration-color: #008000\">'Right'</span>,\n",
       "    <span style=\"color: #808000; text-decoration-color: #808000\">n_experiments</span>=<span style=\"color: #008080; text-decoration-color: #008080; font-weight: bold\">0</span>,\n",
       "    <span style=\"color: #808000; text-decoration-color: #808000\">n_scans</span>=<span style=\"color: #008080; text-decoration-color: #008080; font-weight: bold\">9</span>\n",
       "<span style=\"font-weight: bold\">)</span>\n",
       "</pre>\n"
      ],
      "text/plain": [
       "\u001b[1;35mSubject\u001b[0m\u001b[1m(\u001b[0m\n",
       "    \u001b[33mparticipant_id\u001b[0m=\u001b[32m'sub-0001'\u001b[0m,\n",
       "    \u001b[33mfolder\u001b[0m=\u001b[1;35mWindowsPath\u001b[0m\u001b[1m(\u001b[0m\u001b[32m'data/bids/sub-0001'\u001b[0m\u001b[1m)\u001b[0m,\n",
       "    \u001b[33mscan_metadata\u001b[0m=\u001b[1m{\u001b[0m\u001b[1m}\u001b[0m,\n",
       "    \u001b[33mfields\u001b[0m=\u001b[3;35mNone\u001b[0m,\n",
       "    \u001b[33mpath_vars_keys\u001b[0m=\u001b[1m[\u001b[0m\u001b[1m]\u001b[0m,\n",
       "    \u001b[33mage\u001b[0m=\u001b[1;36m25\u001b[0m\u001b[1;36m.0\u001b[0m,\n",
       "    \u001b[33msex\u001b[0m=\u001b[32m'Male'\u001b[0m,\n",
       "    \u001b[33mdominant_hand\u001b[0m=\u001b[32m'Right'\u001b[0m,\n",
       "    \u001b[33mn_experiments\u001b[0m=\u001b[1;36m0\u001b[0m,\n",
       "    \u001b[33mn_scans\u001b[0m=\u001b[1;36m9\u001b[0m\n",
       "\u001b[1m)\u001b[0m\n"
      ]
     },
     "metadata": {},
     "output_type": "display_data"
    }
   ],
   "source": [
    "for subject in ds.subjects.values():\n",
    "    print(subject)"
   ]
  },
  {
   "cell_type": "code",
   "execution_count": null,
   "metadata": {},
   "outputs": [
    {
     "data": {
      "text/html": [
       "<pre style=\"white-space:pre;overflow-x:auto;line-height:normal;font-family:Menlo,'DejaVu Sans Mono',consolas,'Courier New',monospace\">sub-0001_T1w\n",
       "</pre>\n"
      ],
      "text/plain": [
       "sub-0001_T1w\n"
      ]
     },
     "metadata": {},
     "output_type": "display_data"
    },
    {
     "data": {
      "text/html": [
       "<pre style=\"white-space:pre;overflow-x:auto;line-height:normal;font-family:Menlo,'DejaVu Sans Mono',consolas,'Courier New',monospace\"><span style=\"color: #800080; text-decoration-color: #800080; font-weight: bold\">Scan</span><span style=\"font-weight: bold\">(</span>\n",
       "    <span style=\"color: #808000; text-decoration-color: #808000\">name</span>=<span style=\"color: #008000; text-decoration-color: #008000\">'sub-0001_T1w'</span>,\n",
       "    <span style=\"color: #808000; text-decoration-color: #808000\">files</span>=<span style=\"font-weight: bold\">[</span><span style=\"color: #008000; text-decoration-color: #008000\">'data\\\\bids\\\\sub-0001\\\\./anat\\\\.\\\\sub-0001_T1w.nii.gz'</span><span style=\"font-weight: bold\">]</span>,\n",
       "    <span style=\"color: #808000; text-decoration-color: #808000\">metadata_files</span>=<span style=\"font-weight: bold\">[]</span>,\n",
       "    <span style=\"color: #808000; text-decoration-color: #808000\">fields</span>=<span style=\"font-weight: bold\">{</span>\n",
       "        <span style=\"color: #008000; text-decoration-color: #008000\">'ITK_FileNotes'</span>: <span style=\"color: #008000; text-decoration-color: #008000\">''</span>,\n",
       "        <span style=\"color: #008000; text-decoration-color: #008000\">'ITK_sform_corrected'</span>: <span style=\"color: #008000; text-decoration-color: #008000\">'NO'</span>,\n",
       "        <span style=\"color: #008000; text-decoration-color: #008000\">'aux_file'</span>: <span style=\"color: #008000; text-decoration-color: #008000\">''</span>,\n",
       "        <span style=\"color: #008000; text-decoration-color: #008000\">'bitpix'</span>: <span style=\"color: #008000; text-decoration-color: #008000\">'16'</span>,\n",
       "        <span style=\"color: #008000; text-decoration-color: #008000\">'cal_max'</span>: <span style=\"color: #008000; text-decoration-color: #008000\">'0'</span>,\n",
       "        <span style=\"color: #008000; text-decoration-color: #008000\">'cal_min'</span>: <span style=\"color: #008000; text-decoration-color: #008000\">'0'</span>,\n",
       "        <span style=\"color: #008000; text-decoration-color: #008000\">'datatype'</span>: <span style=\"color: #008000; text-decoration-color: #008000\">'4'</span>,\n",
       "        <span style=\"color: #008000; text-decoration-color: #008000\">'descrip'</span>: <span style=\"color: #008000; text-decoration-color: #008000\">''</span>,\n",
       "        <span style=\"color: #008000; text-decoration-color: #008000\">'dim[0]'</span>: <span style=\"color: #008000; text-decoration-color: #008000\">'3'</span>,\n",
       "        <span style=\"color: #008000; text-decoration-color: #008000\">'dim[1]'</span>: <span style=\"color: #008000; text-decoration-color: #008000\">'192'</span>,\n",
       "        <span style=\"color: #008000; text-decoration-color: #008000\">'dim[2]'</span>: <span style=\"color: #008000; text-decoration-color: #008000\">'256'</span>,\n",
       "        <span style=\"color: #008000; text-decoration-color: #008000\">'dim[3]'</span>: <span style=\"color: #008000; text-decoration-color: #008000\">'256'</span>,\n",
       "        <span style=\"color: #008000; text-decoration-color: #008000\">'dim[4]'</span>: <span style=\"color: #008000; text-decoration-color: #008000\">'1'</span>,\n",
       "        <span style=\"color: #008000; text-decoration-color: #008000\">'dim[5]'</span>: <span style=\"color: #008000; text-decoration-color: #008000\">'1'</span>,\n",
       "        <span style=\"color: #008000; text-decoration-color: #008000\">'dim[6]'</span>: <span style=\"color: #008000; text-decoration-color: #008000\">'1'</span>,\n",
       "        <span style=\"color: #008000; text-decoration-color: #008000\">'dim[7]'</span>: <span style=\"color: #008000; text-decoration-color: #008000\">'1'</span>,\n",
       "        <span style=\"color: #008000; text-decoration-color: #008000\">'dim_info'</span>: <span style=\"color: #008000; text-decoration-color: #008000\">'0'</span>,\n",
       "        <span style=\"color: #008000; text-decoration-color: #008000\">'intent_code'</span>: <span style=\"color: #008000; text-decoration-color: #008000\">'0'</span>,\n",
       "        <span style=\"color: #008000; text-decoration-color: #008000\">'intent_name'</span>: <span style=\"color: #008000; text-decoration-color: #008000\">''</span>,\n",
       "        <span style=\"color: #008000; text-decoration-color: #008000\">'intent_p1'</span>: <span style=\"color: #008000; text-decoration-color: #008000\">'0'</span>,\n",
       "        <span style=\"color: #008000; text-decoration-color: #008000\">'intent_p2'</span>: <span style=\"color: #008000; text-decoration-color: #008000\">'0'</span>,\n",
       "        <span style=\"color: #008000; text-decoration-color: #008000\">'intent_p3'</span>: <span style=\"color: #008000; text-decoration-color: #008000\">'0'</span>,\n",
       "        <span style=\"color: #008000; text-decoration-color: #008000\">'nifti_type'</span>: <span style=\"color: #008000; text-decoration-color: #008000\">'1'</span>,\n",
       "        <span style=\"color: #008000; text-decoration-color: #008000\">'pixdim[0]'</span>: <span style=\"color: #008000; text-decoration-color: #008000\">'0'</span>,\n",
       "        <span style=\"color: #008000; text-decoration-color: #008000\">'pixdim[1]'</span>: <span style=\"color: #008000; text-decoration-color: #008000\">'1'</span>,\n",
       "        <span style=\"color: #008000; text-decoration-color: #008000\">'pixdim[2]'</span>: <span style=\"color: #008000; text-decoration-color: #008000\">'1'</span>,\n",
       "        <span style=\"color: #008000; text-decoration-color: #008000\">'pixdim[3]'</span>: <span style=\"color: #008000; text-decoration-color: #008000\">'1'</span>,\n",
       "        <span style=\"color: #008000; text-decoration-color: #008000\">'pixdim[4]'</span>: <span style=\"color: #008000; text-decoration-color: #008000\">'1.9'</span>,\n",
       "        <span style=\"color: #008000; text-decoration-color: #008000\">'pixdim[5]'</span>: <span style=\"color: #008000; text-decoration-color: #008000\">'1'</span>,\n",
       "        <span style=\"color: #008000; text-decoration-color: #008000\">'pixdim[6]'</span>: <span style=\"color: #008000; text-decoration-color: #008000\">'1'</span>,\n",
       "        <span style=\"color: #008000; text-decoration-color: #008000\">'pixdim[7]'</span>: <span style=\"color: #008000; text-decoration-color: #008000\">'44910.3'</span>,\n",
       "        <span style=\"color: #008000; text-decoration-color: #008000\">'qfac'</span>: <span style=\"color: #008000; text-decoration-color: #008000\">'[UNKNOWN_PRINT_CHARACTERISTICS]\\n'</span>,\n",
       "        <span style=\"color: #008000; text-decoration-color: #008000\">'qform_code'</span>: <span style=\"color: #008000; text-decoration-color: #008000\">'1'</span>,\n",
       "        <span style=\"color: #008000; text-decoration-color: #008000\">'qform_code_name'</span>: <span style=\"color: #008000; text-decoration-color: #008000\">'NIFTI_XFORM_SCANNER_ANAT'</span>,\n",
       "        <span style=\"color: #008000; text-decoration-color: #008000\">'qoffset_x'</span>: <span style=\"color: #008000; text-decoration-color: #008000\">'-96.9149'</span>,\n",
       "        <span style=\"color: #008000; text-decoration-color: #008000\">'qoffset_y'</span>: <span style=\"color: #008000; text-decoration-color: #008000\">'-93.5462'</span>,\n",
       "        <span style=\"color: #008000; text-decoration-color: #008000\">'qoffset_z'</span>: <span style=\"color: #008000; text-decoration-color: #008000\">'-155.732'</span>,\n",
       "        <span style=\"color: #008000; text-decoration-color: #008000\">'qto_xyz'</span>: <span style=\"color: #008000; text-decoration-color: #008000\">'[UNKNOWN_PRINT_CHARACTERISTICS]\\n'</span>,\n",
       "        <span style=\"color: #008000; text-decoration-color: #008000\">'quatern_b'</span>: <span style=\"color: #008000; text-decoration-color: #008000\">'-0.000410455'</span>,\n",
       "        <span style=\"color: #008000; text-decoration-color: #008000\">'quatern_c'</span>: <span style=\"color: #008000; text-decoration-color: #008000\">'0.0302103'</span>,\n",
       "        <span style=\"color: #008000; text-decoration-color: #008000\">'quatern_d'</span>: <span style=\"color: #008000; text-decoration-color: #008000\">'0.0135792'</span>,\n",
       "        <span style=\"color: #008000; text-decoration-color: #008000\">'scl_inter'</span>: <span style=\"color: #008000; text-decoration-color: #008000\">'501.008'</span>,\n",
       "        <span style=\"color: #008000; text-decoration-color: #008000\">'scl_slope'</span>: <span style=\"color: #008000; text-decoration-color: #008000\">'0.0152895'</span>,\n",
       "        <span style=\"color: #008000; text-decoration-color: #008000\">'sform_code'</span>: <span style=\"color: #008000; text-decoration-color: #008000\">'1'</span>,\n",
       "        <span style=\"color: #008000; text-decoration-color: #008000\">'sform_code_name'</span>: <span style=\"color: #008000; text-decoration-color: #008000\">'NIFTI_XFORM_SCANNER_ANAT'</span>,\n",
       "        <span style=\"color: #008000; text-decoration-color: #008000\">'slice_code'</span>: <span style=\"color: #008000; text-decoration-color: #008000\">'0'</span>,\n",
       "        <span style=\"color: #008000; text-decoration-color: #008000\">'slice_duration'</span>: <span style=\"color: #008000; text-decoration-color: #008000\">'0'</span>,\n",
       "        <span style=\"color: #008000; text-decoration-color: #008000\">'slice_end'</span>: <span style=\"color: #008000; text-decoration-color: #008000\">'0'</span>,\n",
       "        <span style=\"color: #008000; text-decoration-color: #008000\">'slice_start'</span>: <span style=\"color: #008000; text-decoration-color: #008000\">'0'</span>,\n",
       "        <span style=\"color: #008000; text-decoration-color: #008000\">'srow_x'</span>: <span style=\"color: #008000; text-decoration-color: #008000\">'0.997806 -0.0271684 0.0603763 -96.9149'</span>,\n",
       "        <span style=\"color: #008000; text-decoration-color: #008000\">'srow_y'</span>: <span style=\"color: #008000; text-decoration-color: #008000\">'0.0271188 0.999631 0.00164092 -93.5462'</span>,\n",
       "        <span style=\"color: #008000; text-decoration-color: #008000\">'srow_z'</span>: <span style=\"color: #008000; text-decoration-color: #008000\">'-0.0603986 0 0.998174 -155.732'</span>,\n",
       "        <span style=\"color: #008000; text-decoration-color: #008000\">'toffset'</span>: <span style=\"color: #008000; text-decoration-color: #008000\">'0'</span>,\n",
       "        <span style=\"color: #008000; text-decoration-color: #008000\">'vox_offset'</span>: <span style=\"color: #008000; text-decoration-color: #008000\">'352'</span>,\n",
       "        <span style=\"color: #008000; text-decoration-color: #008000\">'xyzt_units'</span>: <span style=\"color: #008000; text-decoration-color: #008000\">'10'</span>,\n",
       "        <span style=\"color: #008000; text-decoration-color: #008000\">'modality'</span>: <span style=\"color: #008000; text-decoration-color: #008000\">'anat'</span>\n",
       "    <span style=\"font-weight: bold\">}</span>,\n",
       "    <span style=\"color: #808000; text-decoration-color: #808000\">table</span>=<span style=\"color: #800080; text-decoration-color: #800080; font-style: italic\">None</span>,\n",
       "    <span style=\"color: #808000; text-decoration-color: #808000\">n_files</span>=<span style=\"color: #008080; text-decoration-color: #008080; font-weight: bold\">1</span>\n",
       "<span style=\"font-weight: bold\">)</span>\n",
       "</pre>\n"
      ],
      "text/plain": [
       "\u001b[1;35mScan\u001b[0m\u001b[1m(\u001b[0m\n",
       "    \u001b[33mname\u001b[0m=\u001b[32m'sub-0001_T1w'\u001b[0m,\n",
       "    \u001b[33mfiles\u001b[0m=\u001b[1m[\u001b[0m\u001b[32m'data\\\\bids\\\\sub-0001\\\\./anat\\\\.\\\\sub-0001_T1w.nii.gz'\u001b[0m\u001b[1m]\u001b[0m,\n",
       "    \u001b[33mmetadata_files\u001b[0m=\u001b[1m[\u001b[0m\u001b[1m]\u001b[0m,\n",
       "    \u001b[33mfields\u001b[0m=\u001b[1m{\u001b[0m\n",
       "        \u001b[32m'ITK_FileNotes'\u001b[0m: \u001b[32m''\u001b[0m,\n",
       "        \u001b[32m'ITK_sform_corrected'\u001b[0m: \u001b[32m'NO'\u001b[0m,\n",
       "        \u001b[32m'aux_file'\u001b[0m: \u001b[32m''\u001b[0m,\n",
       "        \u001b[32m'bitpix'\u001b[0m: \u001b[32m'16'\u001b[0m,\n",
       "        \u001b[32m'cal_max'\u001b[0m: \u001b[32m'0'\u001b[0m,\n",
       "        \u001b[32m'cal_min'\u001b[0m: \u001b[32m'0'\u001b[0m,\n",
       "        \u001b[32m'datatype'\u001b[0m: \u001b[32m'4'\u001b[0m,\n",
       "        \u001b[32m'descrip'\u001b[0m: \u001b[32m''\u001b[0m,\n",
       "        \u001b[32m'dim\u001b[0m\u001b[32m[\u001b[0m\u001b[32m0\u001b[0m\u001b[32m]\u001b[0m\u001b[32m'\u001b[0m: \u001b[32m'3'\u001b[0m,\n",
       "        \u001b[32m'dim\u001b[0m\u001b[32m[\u001b[0m\u001b[32m1\u001b[0m\u001b[32m]\u001b[0m\u001b[32m'\u001b[0m: \u001b[32m'192'\u001b[0m,\n",
       "        \u001b[32m'dim\u001b[0m\u001b[32m[\u001b[0m\u001b[32m2\u001b[0m\u001b[32m]\u001b[0m\u001b[32m'\u001b[0m: \u001b[32m'256'\u001b[0m,\n",
       "        \u001b[32m'dim\u001b[0m\u001b[32m[\u001b[0m\u001b[32m3\u001b[0m\u001b[32m]\u001b[0m\u001b[32m'\u001b[0m: \u001b[32m'256'\u001b[0m,\n",
       "        \u001b[32m'dim\u001b[0m\u001b[32m[\u001b[0m\u001b[32m4\u001b[0m\u001b[32m]\u001b[0m\u001b[32m'\u001b[0m: \u001b[32m'1'\u001b[0m,\n",
       "        \u001b[32m'dim\u001b[0m\u001b[32m[\u001b[0m\u001b[32m5\u001b[0m\u001b[32m]\u001b[0m\u001b[32m'\u001b[0m: \u001b[32m'1'\u001b[0m,\n",
       "        \u001b[32m'dim\u001b[0m\u001b[32m[\u001b[0m\u001b[32m6\u001b[0m\u001b[32m]\u001b[0m\u001b[32m'\u001b[0m: \u001b[32m'1'\u001b[0m,\n",
       "        \u001b[32m'dim\u001b[0m\u001b[32m[\u001b[0m\u001b[32m7\u001b[0m\u001b[32m]\u001b[0m\u001b[32m'\u001b[0m: \u001b[32m'1'\u001b[0m,\n",
       "        \u001b[32m'dim_info'\u001b[0m: \u001b[32m'0'\u001b[0m,\n",
       "        \u001b[32m'intent_code'\u001b[0m: \u001b[32m'0'\u001b[0m,\n",
       "        \u001b[32m'intent_name'\u001b[0m: \u001b[32m''\u001b[0m,\n",
       "        \u001b[32m'intent_p1'\u001b[0m: \u001b[32m'0'\u001b[0m,\n",
       "        \u001b[32m'intent_p2'\u001b[0m: \u001b[32m'0'\u001b[0m,\n",
       "        \u001b[32m'intent_p3'\u001b[0m: \u001b[32m'0'\u001b[0m,\n",
       "        \u001b[32m'nifti_type'\u001b[0m: \u001b[32m'1'\u001b[0m,\n",
       "        \u001b[32m'pixdim\u001b[0m\u001b[32m[\u001b[0m\u001b[32m0\u001b[0m\u001b[32m]\u001b[0m\u001b[32m'\u001b[0m: \u001b[32m'0'\u001b[0m,\n",
       "        \u001b[32m'pixdim\u001b[0m\u001b[32m[\u001b[0m\u001b[32m1\u001b[0m\u001b[32m]\u001b[0m\u001b[32m'\u001b[0m: \u001b[32m'1'\u001b[0m,\n",
       "        \u001b[32m'pixdim\u001b[0m\u001b[32m[\u001b[0m\u001b[32m2\u001b[0m\u001b[32m]\u001b[0m\u001b[32m'\u001b[0m: \u001b[32m'1'\u001b[0m,\n",
       "        \u001b[32m'pixdim\u001b[0m\u001b[32m[\u001b[0m\u001b[32m3\u001b[0m\u001b[32m]\u001b[0m\u001b[32m'\u001b[0m: \u001b[32m'1'\u001b[0m,\n",
       "        \u001b[32m'pixdim\u001b[0m\u001b[32m[\u001b[0m\u001b[32m4\u001b[0m\u001b[32m]\u001b[0m\u001b[32m'\u001b[0m: \u001b[32m'1.9'\u001b[0m,\n",
       "        \u001b[32m'pixdim\u001b[0m\u001b[32m[\u001b[0m\u001b[32m5\u001b[0m\u001b[32m]\u001b[0m\u001b[32m'\u001b[0m: \u001b[32m'1'\u001b[0m,\n",
       "        \u001b[32m'pixdim\u001b[0m\u001b[32m[\u001b[0m\u001b[32m6\u001b[0m\u001b[32m]\u001b[0m\u001b[32m'\u001b[0m: \u001b[32m'1'\u001b[0m,\n",
       "        \u001b[32m'pixdim\u001b[0m\u001b[32m[\u001b[0m\u001b[32m7\u001b[0m\u001b[32m]\u001b[0m\u001b[32m'\u001b[0m: \u001b[32m'44910.3'\u001b[0m,\n",
       "        \u001b[32m'qfac'\u001b[0m: \u001b[32m'\u001b[0m\u001b[32m[\u001b[0m\u001b[32mUNKNOWN_PRINT_CHARACTERISTICS\u001b[0m\u001b[32m]\u001b[0m\u001b[32m\\n'\u001b[0m,\n",
       "        \u001b[32m'qform_code'\u001b[0m: \u001b[32m'1'\u001b[0m,\n",
       "        \u001b[32m'qform_code_name'\u001b[0m: \u001b[32m'NIFTI_XFORM_SCANNER_ANAT'\u001b[0m,\n",
       "        \u001b[32m'qoffset_x'\u001b[0m: \u001b[32m'-96.9149'\u001b[0m,\n",
       "        \u001b[32m'qoffset_y'\u001b[0m: \u001b[32m'-93.5462'\u001b[0m,\n",
       "        \u001b[32m'qoffset_z'\u001b[0m: \u001b[32m'-155.732'\u001b[0m,\n",
       "        \u001b[32m'qto_xyz'\u001b[0m: \u001b[32m'\u001b[0m\u001b[32m[\u001b[0m\u001b[32mUNKNOWN_PRINT_CHARACTERISTICS\u001b[0m\u001b[32m]\u001b[0m\u001b[32m\\n'\u001b[0m,\n",
       "        \u001b[32m'quatern_b'\u001b[0m: \u001b[32m'-0.000410455'\u001b[0m,\n",
       "        \u001b[32m'quatern_c'\u001b[0m: \u001b[32m'0.0302103'\u001b[0m,\n",
       "        \u001b[32m'quatern_d'\u001b[0m: \u001b[32m'0.0135792'\u001b[0m,\n",
       "        \u001b[32m'scl_inter'\u001b[0m: \u001b[32m'501.008'\u001b[0m,\n",
       "        \u001b[32m'scl_slope'\u001b[0m: \u001b[32m'0.0152895'\u001b[0m,\n",
       "        \u001b[32m'sform_code'\u001b[0m: \u001b[32m'1'\u001b[0m,\n",
       "        \u001b[32m'sform_code_name'\u001b[0m: \u001b[32m'NIFTI_XFORM_SCANNER_ANAT'\u001b[0m,\n",
       "        \u001b[32m'slice_code'\u001b[0m: \u001b[32m'0'\u001b[0m,\n",
       "        \u001b[32m'slice_duration'\u001b[0m: \u001b[32m'0'\u001b[0m,\n",
       "        \u001b[32m'slice_end'\u001b[0m: \u001b[32m'0'\u001b[0m,\n",
       "        \u001b[32m'slice_start'\u001b[0m: \u001b[32m'0'\u001b[0m,\n",
       "        \u001b[32m'srow_x'\u001b[0m: \u001b[32m'0.997806 -0.0271684 0.0603763 -96.9149'\u001b[0m,\n",
       "        \u001b[32m'srow_y'\u001b[0m: \u001b[32m'0.0271188 0.999631 0.00164092 -93.5462'\u001b[0m,\n",
       "        \u001b[32m'srow_z'\u001b[0m: \u001b[32m'-0.0603986 0 0.998174 -155.732'\u001b[0m,\n",
       "        \u001b[32m'toffset'\u001b[0m: \u001b[32m'0'\u001b[0m,\n",
       "        \u001b[32m'vox_offset'\u001b[0m: \u001b[32m'352'\u001b[0m,\n",
       "        \u001b[32m'xyzt_units'\u001b[0m: \u001b[32m'10'\u001b[0m,\n",
       "        \u001b[32m'modality'\u001b[0m: \u001b[32m'anat'\u001b[0m\n",
       "    \u001b[1m}\u001b[0m,\n",
       "    \u001b[33mtable\u001b[0m=\u001b[3;35mNone\u001b[0m,\n",
       "    \u001b[33mn_files\u001b[0m=\u001b[1;36m1\u001b[0m\n",
       "\u001b[1m)\u001b[0m\n"
      ]
     },
     "metadata": {},
     "output_type": "display_data"
    },
    {
     "data": {
      "text/html": [
       "<pre style=\"white-space:pre;overflow-x:auto;line-height:normal;font-family:Menlo,'DejaVu Sans Mono',consolas,'Courier New',monospace\">sub-0001_acq-LPA_photo\n",
       "</pre>\n"
      ],
      "text/plain": [
       "sub-0001_acq-LPA_photo\n"
      ]
     },
     "metadata": {},
     "output_type": "display_data"
    },
    {
     "data": {
      "text/html": [
       "<pre style=\"white-space:pre;overflow-x:auto;line-height:normal;font-family:Menlo,'DejaVu Sans Mono',consolas,'Courier New',monospace\"><span style=\"color: #800080; text-decoration-color: #800080; font-weight: bold\">Scan</span><span style=\"font-weight: bold\">(</span>\n",
       "    <span style=\"color: #808000; text-decoration-color: #808000\">name</span>=<span style=\"color: #008000; text-decoration-color: #008000\">'sub-0001_acq-LPA_photo'</span>,\n",
       "    <span style=\"color: #808000; text-decoration-color: #808000\">files</span>=<span style=\"font-weight: bold\">[</span><span style=\"color: #008000; text-decoration-color: #008000\">'data\\\\bids\\\\sub-0001\\\\./meg\\\\.\\\\sub-0001_acq-LPA_photo.jpg'</span><span style=\"font-weight: bold\">]</span>,\n",
       "    <span style=\"color: #808000; text-decoration-color: #808000\">metadata_files</span>=<span style=\"font-weight: bold\">[]</span>,\n",
       "    <span style=\"color: #808000; text-decoration-color: #808000\">fields</span>=<span style=\"font-weight: bold\">{</span><span style=\"color: #008000; text-decoration-color: #008000\">'modality'</span>: <span style=\"color: #008000; text-decoration-color: #008000\">'meg'</span><span style=\"font-weight: bold\">}</span>,\n",
       "    <span style=\"color: #808000; text-decoration-color: #808000\">table</span>=<span style=\"color: #800080; text-decoration-color: #800080; font-style: italic\">None</span>,\n",
       "    <span style=\"color: #808000; text-decoration-color: #808000\">n_files</span>=<span style=\"color: #008080; text-decoration-color: #008080; font-weight: bold\">1</span>\n",
       "<span style=\"font-weight: bold\">)</span>\n",
       "</pre>\n"
      ],
      "text/plain": [
       "\u001b[1;35mScan\u001b[0m\u001b[1m(\u001b[0m\n",
       "    \u001b[33mname\u001b[0m=\u001b[32m'sub-0001_acq-LPA_photo'\u001b[0m,\n",
       "    \u001b[33mfiles\u001b[0m=\u001b[1m[\u001b[0m\u001b[32m'data\\\\bids\\\\sub-0001\\\\./meg\\\\.\\\\sub-0001_acq-LPA_photo.jpg'\u001b[0m\u001b[1m]\u001b[0m,\n",
       "    \u001b[33mmetadata_files\u001b[0m=\u001b[1m[\u001b[0m\u001b[1m]\u001b[0m,\n",
       "    \u001b[33mfields\u001b[0m=\u001b[1m{\u001b[0m\u001b[32m'modality'\u001b[0m: \u001b[32m'meg'\u001b[0m\u001b[1m}\u001b[0m,\n",
       "    \u001b[33mtable\u001b[0m=\u001b[3;35mNone\u001b[0m,\n",
       "    \u001b[33mn_files\u001b[0m=\u001b[1;36m1\u001b[0m\n",
       "\u001b[1m)\u001b[0m\n"
      ]
     },
     "metadata": {},
     "output_type": "display_data"
    },
    {
     "data": {
      "text/html": [
       "<pre style=\"white-space:pre;overflow-x:auto;line-height:normal;font-family:Menlo,'DejaVu Sans Mono',consolas,'Courier New',monospace\">sub-0001_acq-NAS_photo\n",
       "</pre>\n"
      ],
      "text/plain": [
       "sub-0001_acq-NAS_photo\n"
      ]
     },
     "metadata": {},
     "output_type": "display_data"
    },
    {
     "data": {
      "text/html": [
       "<pre style=\"white-space:pre;overflow-x:auto;line-height:normal;font-family:Menlo,'DejaVu Sans Mono',consolas,'Courier New',monospace\"><span style=\"color: #800080; text-decoration-color: #800080; font-weight: bold\">Scan</span><span style=\"font-weight: bold\">(</span>\n",
       "    <span style=\"color: #808000; text-decoration-color: #808000\">name</span>=<span style=\"color: #008000; text-decoration-color: #008000\">'sub-0001_acq-NAS_photo'</span>,\n",
       "    <span style=\"color: #808000; text-decoration-color: #808000\">files</span>=<span style=\"font-weight: bold\">[</span><span style=\"color: #008000; text-decoration-color: #008000\">'data\\\\bids\\\\sub-0001\\\\./meg\\\\.\\\\sub-0001_acq-NAS_photo.jpg'</span><span style=\"font-weight: bold\">]</span>,\n",
       "    <span style=\"color: #808000; text-decoration-color: #808000\">metadata_files</span>=<span style=\"font-weight: bold\">[]</span>,\n",
       "    <span style=\"color: #808000; text-decoration-color: #808000\">fields</span>=<span style=\"font-weight: bold\">{</span><span style=\"color: #008000; text-decoration-color: #008000\">'modality'</span>: <span style=\"color: #008000; text-decoration-color: #008000\">'meg'</span><span style=\"font-weight: bold\">}</span>,\n",
       "    <span style=\"color: #808000; text-decoration-color: #808000\">table</span>=<span style=\"color: #800080; text-decoration-color: #800080; font-style: italic\">None</span>,\n",
       "    <span style=\"color: #808000; text-decoration-color: #808000\">n_files</span>=<span style=\"color: #008080; text-decoration-color: #008080; font-weight: bold\">1</span>\n",
       "<span style=\"font-weight: bold\">)</span>\n",
       "</pre>\n"
      ],
      "text/plain": [
       "\u001b[1;35mScan\u001b[0m\u001b[1m(\u001b[0m\n",
       "    \u001b[33mname\u001b[0m=\u001b[32m'sub-0001_acq-NAS_photo'\u001b[0m,\n",
       "    \u001b[33mfiles\u001b[0m=\u001b[1m[\u001b[0m\u001b[32m'data\\\\bids\\\\sub-0001\\\\./meg\\\\.\\\\sub-0001_acq-NAS_photo.jpg'\u001b[0m\u001b[1m]\u001b[0m,\n",
       "    \u001b[33mmetadata_files\u001b[0m=\u001b[1m[\u001b[0m\u001b[1m]\u001b[0m,\n",
       "    \u001b[33mfields\u001b[0m=\u001b[1m{\u001b[0m\u001b[32m'modality'\u001b[0m: \u001b[32m'meg'\u001b[0m\u001b[1m}\u001b[0m,\n",
       "    \u001b[33mtable\u001b[0m=\u001b[3;35mNone\u001b[0m,\n",
       "    \u001b[33mn_files\u001b[0m=\u001b[1;36m1\u001b[0m\n",
       "\u001b[1m)\u001b[0m\n"
      ]
     },
     "metadata": {},
     "output_type": "display_data"
    },
    {
     "data": {
      "text/html": [
       "<pre style=\"white-space:pre;overflow-x:auto;line-height:normal;font-family:Menlo,'DejaVu Sans Mono',consolas,'Courier New',monospace\">sub-0001_acq-RPA_photo\n",
       "</pre>\n"
      ],
      "text/plain": [
       "sub-0001_acq-RPA_photo\n"
      ]
     },
     "metadata": {},
     "output_type": "display_data"
    },
    {
     "data": {
      "text/html": [
       "<pre style=\"white-space:pre;overflow-x:auto;line-height:normal;font-family:Menlo,'DejaVu Sans Mono',consolas,'Courier New',monospace\"><span style=\"color: #800080; text-decoration-color: #800080; font-weight: bold\">Scan</span><span style=\"font-weight: bold\">(</span>\n",
       "    <span style=\"color: #808000; text-decoration-color: #808000\">name</span>=<span style=\"color: #008000; text-decoration-color: #008000\">'sub-0001_acq-RPA_photo'</span>,\n",
       "    <span style=\"color: #808000; text-decoration-color: #808000\">files</span>=<span style=\"font-weight: bold\">[</span><span style=\"color: #008000; text-decoration-color: #008000\">'data\\\\bids\\\\sub-0001\\\\./meg\\\\.\\\\sub-0001_acq-RPA_photo.jpg'</span><span style=\"font-weight: bold\">]</span>,\n",
       "    <span style=\"color: #808000; text-decoration-color: #808000\">metadata_files</span>=<span style=\"font-weight: bold\">[]</span>,\n",
       "    <span style=\"color: #808000; text-decoration-color: #808000\">fields</span>=<span style=\"font-weight: bold\">{</span><span style=\"color: #008000; text-decoration-color: #008000\">'modality'</span>: <span style=\"color: #008000; text-decoration-color: #008000\">'meg'</span><span style=\"font-weight: bold\">}</span>,\n",
       "    <span style=\"color: #808000; text-decoration-color: #808000\">table</span>=<span style=\"color: #800080; text-decoration-color: #800080; font-style: italic\">None</span>,\n",
       "    <span style=\"color: #808000; text-decoration-color: #808000\">n_files</span>=<span style=\"color: #008080; text-decoration-color: #008080; font-weight: bold\">1</span>\n",
       "<span style=\"font-weight: bold\">)</span>\n",
       "</pre>\n"
      ],
      "text/plain": [
       "\u001b[1;35mScan\u001b[0m\u001b[1m(\u001b[0m\n",
       "    \u001b[33mname\u001b[0m=\u001b[32m'sub-0001_acq-RPA_photo'\u001b[0m,\n",
       "    \u001b[33mfiles\u001b[0m=\u001b[1m[\u001b[0m\u001b[32m'data\\\\bids\\\\sub-0001\\\\./meg\\\\.\\\\sub-0001_acq-RPA_photo.jpg'\u001b[0m\u001b[1m]\u001b[0m,\n",
       "    \u001b[33mmetadata_files\u001b[0m=\u001b[1m[\u001b[0m\u001b[1m]\u001b[0m,\n",
       "    \u001b[33mfields\u001b[0m=\u001b[1m{\u001b[0m\u001b[32m'modality'\u001b[0m: \u001b[32m'meg'\u001b[0m\u001b[1m}\u001b[0m,\n",
       "    \u001b[33mtable\u001b[0m=\u001b[3;35mNone\u001b[0m,\n",
       "    \u001b[33mn_files\u001b[0m=\u001b[1;36m1\u001b[0m\n",
       "\u001b[1m)\u001b[0m\n"
      ]
     },
     "metadata": {},
     "output_type": "display_data"
    },
    {
     "data": {
      "text/html": [
       "<pre style=\"white-space:pre;overflow-x:auto;line-height:normal;font-family:Menlo,'DejaVu Sans Mono',consolas,'Courier New',monospace\">sub-0001_coordsystem\n",
       "</pre>\n"
      ],
      "text/plain": [
       "sub-0001_coordsystem\n"
      ]
     },
     "metadata": {},
     "output_type": "display_data"
    },
    {
     "data": {
      "text/html": [
       "<pre style=\"white-space:pre;overflow-x:auto;line-height:normal;font-family:Menlo,'DejaVu Sans Mono',consolas,'Courier New',monospace\"><span style=\"color: #800080; text-decoration-color: #800080; font-weight: bold\">Scan</span><span style=\"font-weight: bold\">(</span>\n",
       "    <span style=\"color: #808000; text-decoration-color: #808000\">name</span>=<span style=\"color: #008000; text-decoration-color: #008000\">'sub-0001_coordsystem'</span>,\n",
       "    <span style=\"color: #808000; text-decoration-color: #808000\">files</span>=<span style=\"font-weight: bold\">[]</span>,\n",
       "    <span style=\"color: #808000; text-decoration-color: #808000\">metadata_files</span>=<span style=\"font-weight: bold\">[</span><span style=\"color: #008000; text-decoration-color: #008000\">'data\\\\bids\\\\sub-0001\\\\./meg\\\\.\\\\sub-0001_coordsystem.json'</span><span style=\"font-weight: bold\">]</span>,\n",
       "    <span style=\"color: #808000; text-decoration-color: #808000\">fields</span>=<span style=\"font-weight: bold\">{</span>\n",
       "        <span style=\"color: #008000; text-decoration-color: #008000\">'MEGCoordinateSystem'</span>: <span style=\"color: #008000; text-decoration-color: #008000\">'CTF'</span>,\n",
       "        <span style=\"color: #008000; text-decoration-color: #008000\">'MEGCoordinateUnits'</span>: <span style=\"color: #008000; text-decoration-color: #008000\">'cm'</span>,\n",
       "        <span style=\"color: #008000; text-decoration-color: #008000\">'MEGCoordinateSystemDescription'</span>: <span style=\"color: #008000; text-decoration-color: #008000\">'The origin is exactly between LPA and RPA; the X-axis goes towards NAS; </span>\n",
       "<span style=\"color: #008000; text-decoration-color: #008000\">the Y-axis goes approximately towards LPA, orthogonal to X and in the plane spanned by the fiducials; the Z-axis </span>\n",
       "<span style=\"color: #008000; text-decoration-color: #008000\">goes approximately towards the vertex, orthogonal to X and Y'</span>,\n",
       "        <span style=\"color: #008000; text-decoration-color: #008000\">'EEGCoordinateSystem'</span>: <span style=\"color: #008000; text-decoration-color: #008000\">'CTF'</span>,\n",
       "        <span style=\"color: #008000; text-decoration-color: #008000\">'EEGCoordinateUnits'</span>: <span style=\"color: #008000; text-decoration-color: #008000\">'cm'</span>,\n",
       "        <span style=\"color: #008000; text-decoration-color: #008000\">'EEGCoordinateSystemDescription'</span>: <span style=\"color: #008000; text-decoration-color: #008000\">'The origin is exactly between LPA and RPA; the X-axis goes towards NAS; </span>\n",
       "<span style=\"color: #008000; text-decoration-color: #008000\">the Y-axis goes approximately towards LPA, orthogonal to X and in the plane spanned by the fiducials; the Z-axis </span>\n",
       "<span style=\"color: #008000; text-decoration-color: #008000\">goes approximately towards the vertex, orthogonal to X and Y'</span>,\n",
       "        <span style=\"color: #008000; text-decoration-color: #008000\">'IntendedFor'</span>: <span style=\"color: #008000; text-decoration-color: #008000\">'anat/sub-0001_T1w.nii.gz'</span>,\n",
       "        <span style=\"color: #008000; text-decoration-color: #008000\">'HeadCoilCoordinates'</span>: <span style=\"font-weight: bold\">{</span>\n",
       "            <span style=\"color: #008000; text-decoration-color: #008000\">'coil1'</span>: <span style=\"font-weight: bold\">[</span><span style=\"color: #008080; text-decoration-color: #008080; font-weight: bold\">10.61095674</span>, <span style=\"color: #008080; text-decoration-color: #008080; font-weight: bold\">-0.01532629</span>, <span style=\"color: #008080; text-decoration-color: #008080; font-weight: bold\">-0.00407281</span><span style=\"font-weight: bold\">]</span>,\n",
       "            <span style=\"color: #008000; text-decoration-color: #008000\">'coil2'</span>: <span style=\"font-weight: bold\">[</span><span style=\"color: #008080; text-decoration-color: #008080; font-weight: bold\">0.2701708</span>, <span style=\"color: #008080; text-decoration-color: #008080; font-weight: bold\">6.81335558</span>, <span style=\"color: #008080; text-decoration-color: #008080; font-weight: bold\">0.0013436</span><span style=\"font-weight: bold\">]</span>,\n",
       "            <span style=\"color: #008000; text-decoration-color: #008000\">'coil3'</span>: <span style=\"font-weight: bold\">[</span><span style=\"color: #008080; text-decoration-color: #008080; font-weight: bold\">-0.24057827</span>, <span style=\"color: #008080; text-decoration-color: #008080; font-weight: bold\">-6.78962736</span>, <span style=\"color: #008080; text-decoration-color: #008080; font-weight: bold\">8.921e-05</span><span style=\"font-weight: bold\">]</span>\n",
       "        <span style=\"font-weight: bold\">}</span>,\n",
       "        <span style=\"color: #008000; text-decoration-color: #008000\">'HeadCoilCoordinateSystem'</span>: <span style=\"color: #008000; text-decoration-color: #008000\">'CTF'</span>,\n",
       "        <span style=\"color: #008000; text-decoration-color: #008000\">'HeadCoilCoordinateUnits'</span>: <span style=\"color: #008000; text-decoration-color: #008000\">'cm'</span>,\n",
       "        <span style=\"color: #008000; text-decoration-color: #008000\">'HeadCoilCoordinateSystemDescription'</span>: <span style=\"color: #008000; text-decoration-color: #008000\">'The origin is exactly between LPA and RPA; the X-axis goes towards </span>\n",
       "<span style=\"color: #008000; text-decoration-color: #008000\">NAS; the Y-axis goes approximately towards LPA, orthogonal to X and in the plane spanned by the fiducials; the </span>\n",
       "<span style=\"color: #008000; text-decoration-color: #008000\">Z-axis goes approximately towards the vertex, orthogonal to X and Y'</span>,\n",
       "        <span style=\"color: #008000; text-decoration-color: #008000\">'AnatomicalLandmarkCoordinates'</span>: <span style=\"font-weight: bold\">{</span>\n",
       "            <span style=\"color: #008000; text-decoration-color: #008000\">'NAS'</span>: <span style=\"font-weight: bold\">[</span><span style=\"color: #008080; text-decoration-color: #008080; font-weight: bold\">9.76823213</span>, <span style=\"color: #008080; text-decoration-color: #008080; font-weight: bold\">-0.11917776</span>, <span style=\"color: #008080; text-decoration-color: #008080; font-weight: bold\">-1.87417223</span><span style=\"font-weight: bold\">]</span>,\n",
       "            <span style=\"color: #008000; text-decoration-color: #008000\">'LPA'</span>: <span style=\"font-weight: bold\">[</span><span style=\"color: #008080; text-decoration-color: #008080; font-weight: bold\">-0.29274026</span>, <span style=\"color: #008080; text-decoration-color: #008080; font-weight: bold\">6.88415084</span>, <span style=\"color: #008080; text-decoration-color: #008080; font-weight: bold\">0.70120923</span><span style=\"font-weight: bold\">]</span>,\n",
       "            <span style=\"color: #008000; text-decoration-color: #008000\">'RPA'</span>: <span style=\"font-weight: bold\">[</span><span style=\"color: #008080; text-decoration-color: #008080; font-weight: bold\">-0.99183277</span>, <span style=\"color: #008080; text-decoration-color: #008080; font-weight: bold\">-6.70128616</span>, <span style=\"color: #008080; text-decoration-color: #008080; font-weight: bold\">0.08443862</span><span style=\"font-weight: bold\">]</span>\n",
       "        <span style=\"font-weight: bold\">}</span>,\n",
       "        <span style=\"color: #008000; text-decoration-color: #008000\">'AnatomicalLandmarkCoordinateSystem'</span>: <span style=\"color: #008000; text-decoration-color: #008000\">'CTF'</span>,\n",
       "        <span style=\"color: #008000; text-decoration-color: #008000\">'AnatomicalLandmarkCoordinateUnits'</span>: <span style=\"color: #008000; text-decoration-color: #008000\">'cm'</span>,\n",
       "        <span style=\"color: #008000; text-decoration-color: #008000\">'AnatomicalLandmarkCoordinateSystemDescription'</span>: <span style=\"color: #008000; text-decoration-color: #008000\">'The origin is exactly between LPA and RPA; the X-axis </span>\n",
       "<span style=\"color: #008000; text-decoration-color: #008000\">goes towards NAS; the Y-axis goes approximately towards LPA, orthogonal to X and in the plane spanned by the </span>\n",
       "<span style=\"color: #008000; text-decoration-color: #008000\">fiducials; the Z-axis goes approximately towards the vertex, orthogonal to X and Y'</span>,\n",
       "        <span style=\"color: #008000; text-decoration-color: #008000\">'DigitizedHeadPoints'</span>: <span style=\"color: #008000; text-decoration-color: #008000\">'ds000246_R1.0.0/sub-0001/meg/sub-0001_headshape.pos'</span>,\n",
       "        <span style=\"color: #008000; text-decoration-color: #008000\">'DigitizedHeadPointsCoordinateSystem'</span>: <span style=\"color: #008000; text-decoration-color: #008000\">'CTF'</span>,\n",
       "        <span style=\"color: #008000; text-decoration-color: #008000\">'DigitizedHeadPointsCoordinateUnits'</span>: <span style=\"color: #008000; text-decoration-color: #008000\">'cm'</span>,\n",
       "        <span style=\"color: #008000; text-decoration-color: #008000\">'DigitizedHeadPointsCoordinateSystemDescription'</span>: <span style=\"color: #008000; text-decoration-color: #008000\">'The origin is exactly between LPA and RPA; the X-axis </span>\n",
       "<span style=\"color: #008000; text-decoration-color: #008000\">goes towards NAS; the Y-axis goes approximately towards LPA, orthogonal to X and in the plane spanned by the </span>\n",
       "<span style=\"color: #008000; text-decoration-color: #008000\">fiducials; the Z-axis goes approximately towards the vertex, orthogonal to X and Y'</span>,\n",
       "        <span style=\"color: #008000; text-decoration-color: #008000\">'modality'</span>: <span style=\"color: #008000; text-decoration-color: #008000\">'meg'</span>\n",
       "    <span style=\"font-weight: bold\">}</span>,\n",
       "    <span style=\"color: #808000; text-decoration-color: #808000\">table</span>=<span style=\"color: #800080; text-decoration-color: #800080; font-style: italic\">None</span>,\n",
       "    <span style=\"color: #808000; text-decoration-color: #808000\">n_files</span>=<span style=\"color: #008080; text-decoration-color: #008080; font-weight: bold\">0</span>\n",
       "<span style=\"font-weight: bold\">)</span>\n",
       "</pre>\n"
      ],
      "text/plain": [
       "\u001b[1;35mScan\u001b[0m\u001b[1m(\u001b[0m\n",
       "    \u001b[33mname\u001b[0m=\u001b[32m'sub-0001_coordsystem'\u001b[0m,\n",
       "    \u001b[33mfiles\u001b[0m=\u001b[1m[\u001b[0m\u001b[1m]\u001b[0m,\n",
       "    \u001b[33mmetadata_files\u001b[0m=\u001b[1m[\u001b[0m\u001b[32m'data\\\\bids\\\\sub-0001\\\\./meg\\\\.\\\\sub-0001_coordsystem.json'\u001b[0m\u001b[1m]\u001b[0m,\n",
       "    \u001b[33mfields\u001b[0m=\u001b[1m{\u001b[0m\n",
       "        \u001b[32m'MEGCoordinateSystem'\u001b[0m: \u001b[32m'CTF'\u001b[0m,\n",
       "        \u001b[32m'MEGCoordinateUnits'\u001b[0m: \u001b[32m'cm'\u001b[0m,\n",
       "        \u001b[32m'MEGCoordinateSystemDescription'\u001b[0m: \u001b[32m'The origin is exactly between LPA and RPA; the X-axis goes towards NAS; \u001b[0m\n",
       "\u001b[32mthe Y-axis goes approximately towards LPA, orthogonal to X and in the plane spanned by the fiducials; the Z-axis \u001b[0m\n",
       "\u001b[32mgoes approximately towards the vertex, orthogonal to X and Y'\u001b[0m,\n",
       "        \u001b[32m'EEGCoordinateSystem'\u001b[0m: \u001b[32m'CTF'\u001b[0m,\n",
       "        \u001b[32m'EEGCoordinateUnits'\u001b[0m: \u001b[32m'cm'\u001b[0m,\n",
       "        \u001b[32m'EEGCoordinateSystemDescription'\u001b[0m: \u001b[32m'The origin is exactly between LPA and RPA; the X-axis goes towards NAS; \u001b[0m\n",
       "\u001b[32mthe Y-axis goes approximately towards LPA, orthogonal to X and in the plane spanned by the fiducials; the Z-axis \u001b[0m\n",
       "\u001b[32mgoes approximately towards the vertex, orthogonal to X and Y'\u001b[0m,\n",
       "        \u001b[32m'IntendedFor'\u001b[0m: \u001b[32m'anat/sub-0001_T1w.nii.gz'\u001b[0m,\n",
       "        \u001b[32m'HeadCoilCoordinates'\u001b[0m: \u001b[1m{\u001b[0m\n",
       "            \u001b[32m'coil1'\u001b[0m: \u001b[1m[\u001b[0m\u001b[1;36m10.61095674\u001b[0m, \u001b[1;36m-0.01532629\u001b[0m, \u001b[1;36m-0.00407281\u001b[0m\u001b[1m]\u001b[0m,\n",
       "            \u001b[32m'coil2'\u001b[0m: \u001b[1m[\u001b[0m\u001b[1;36m0.2701708\u001b[0m, \u001b[1;36m6.81335558\u001b[0m, \u001b[1;36m0.0013436\u001b[0m\u001b[1m]\u001b[0m,\n",
       "            \u001b[32m'coil3'\u001b[0m: \u001b[1m[\u001b[0m\u001b[1;36m-0.24057827\u001b[0m, \u001b[1;36m-6.78962736\u001b[0m, \u001b[1;36m8.921e-05\u001b[0m\u001b[1m]\u001b[0m\n",
       "        \u001b[1m}\u001b[0m,\n",
       "        \u001b[32m'HeadCoilCoordinateSystem'\u001b[0m: \u001b[32m'CTF'\u001b[0m,\n",
       "        \u001b[32m'HeadCoilCoordinateUnits'\u001b[0m: \u001b[32m'cm'\u001b[0m,\n",
       "        \u001b[32m'HeadCoilCoordinateSystemDescription'\u001b[0m: \u001b[32m'The origin is exactly between LPA and RPA; the X-axis goes towards \u001b[0m\n",
       "\u001b[32mNAS; the Y-axis goes approximately towards LPA, orthogonal to X and in the plane spanned by the fiducials; the \u001b[0m\n",
       "\u001b[32mZ-axis goes approximately towards the vertex, orthogonal to X and Y'\u001b[0m,\n",
       "        \u001b[32m'AnatomicalLandmarkCoordinates'\u001b[0m: \u001b[1m{\u001b[0m\n",
       "            \u001b[32m'NAS'\u001b[0m: \u001b[1m[\u001b[0m\u001b[1;36m9.76823213\u001b[0m, \u001b[1;36m-0.11917776\u001b[0m, \u001b[1;36m-1.87417223\u001b[0m\u001b[1m]\u001b[0m,\n",
       "            \u001b[32m'LPA'\u001b[0m: \u001b[1m[\u001b[0m\u001b[1;36m-0.29274026\u001b[0m, \u001b[1;36m6.88415084\u001b[0m, \u001b[1;36m0.70120923\u001b[0m\u001b[1m]\u001b[0m,\n",
       "            \u001b[32m'RPA'\u001b[0m: \u001b[1m[\u001b[0m\u001b[1;36m-0.99183277\u001b[0m, \u001b[1;36m-6.70128616\u001b[0m, \u001b[1;36m0.08443862\u001b[0m\u001b[1m]\u001b[0m\n",
       "        \u001b[1m}\u001b[0m,\n",
       "        \u001b[32m'AnatomicalLandmarkCoordinateSystem'\u001b[0m: \u001b[32m'CTF'\u001b[0m,\n",
       "        \u001b[32m'AnatomicalLandmarkCoordinateUnits'\u001b[0m: \u001b[32m'cm'\u001b[0m,\n",
       "        \u001b[32m'AnatomicalLandmarkCoordinateSystemDescription'\u001b[0m: \u001b[32m'The origin is exactly between LPA and RPA; the X-axis \u001b[0m\n",
       "\u001b[32mgoes towards NAS; the Y-axis goes approximately towards LPA, orthogonal to X and in the plane spanned by the \u001b[0m\n",
       "\u001b[32mfiducials; the Z-axis goes approximately towards the vertex, orthogonal to X and Y'\u001b[0m,\n",
       "        \u001b[32m'DigitizedHeadPoints'\u001b[0m: \u001b[32m'ds000246_R1.0.0/sub-0001/meg/sub-0001_headshape.pos'\u001b[0m,\n",
       "        \u001b[32m'DigitizedHeadPointsCoordinateSystem'\u001b[0m: \u001b[32m'CTF'\u001b[0m,\n",
       "        \u001b[32m'DigitizedHeadPointsCoordinateUnits'\u001b[0m: \u001b[32m'cm'\u001b[0m,\n",
       "        \u001b[32m'DigitizedHeadPointsCoordinateSystemDescription'\u001b[0m: \u001b[32m'The origin is exactly between LPA and RPA; the X-axis \u001b[0m\n",
       "\u001b[32mgoes towards NAS; the Y-axis goes approximately towards LPA, orthogonal to X and in the plane spanned by the \u001b[0m\n",
       "\u001b[32mfiducials; the Z-axis goes approximately towards the vertex, orthogonal to X and Y'\u001b[0m,\n",
       "        \u001b[32m'modality'\u001b[0m: \u001b[32m'meg'\u001b[0m\n",
       "    \u001b[1m}\u001b[0m,\n",
       "    \u001b[33mtable\u001b[0m=\u001b[3;35mNone\u001b[0m,\n",
       "    \u001b[33mn_files\u001b[0m=\u001b[1;36m0\u001b[0m\n",
       "\u001b[1m)\u001b[0m\n"
      ]
     },
     "metadata": {},
     "output_type": "display_data"
    },
    {
     "data": {
      "text/html": [
       "<pre style=\"white-space:pre;overflow-x:auto;line-height:normal;font-family:Menlo,'DejaVu Sans Mono',consolas,'Courier New',monospace\">sub-0001_task-AEF_run-01_channels\n",
       "</pre>\n"
      ],
      "text/plain": [
       "sub-0001_task-AEF_run-01_channels\n"
      ]
     },
     "metadata": {},
     "output_type": "display_data"
    },
    {
     "data": {
      "text/html": [
       "<pre style=\"white-space:pre;overflow-x:auto;line-height:normal;font-family:Menlo,'DejaVu Sans Mono',consolas,'Courier New',monospace\"><span style=\"color: #800080; text-decoration-color: #800080; font-weight: bold\">Scan</span><span style=\"font-weight: bold\">(</span>\n",
       "    <span style=\"color: #808000; text-decoration-color: #808000\">name</span>=<span style=\"color: #008000; text-decoration-color: #008000\">'sub-0001_task-AEF_run-01_channels'</span>,\n",
       "    <span style=\"color: #808000; text-decoration-color: #808000\">files</span>=<span style=\"font-weight: bold\">[]</span>,\n",
       "    <span style=\"color: #808000; text-decoration-color: #808000\">metadata_files</span>=<span style=\"font-weight: bold\">[</span><span style=\"color: #008000; text-decoration-color: #008000\">'data\\\\bids\\\\sub-0001\\\\./meg\\\\.\\\\sub-0001_task-AEF_run-01_channels.tsv'</span><span style=\"font-weight: bold\">]</span>,\n",
       "    <span style=\"color: #808000; text-decoration-color: #808000\">fields</span>=<span style=\"font-weight: bold\">{</span><span style=\"color: #008000; text-decoration-color: #008000\">'modality'</span>: <span style=\"color: #008000; text-decoration-color: #008000\">'meg'</span><span style=\"font-weight: bold\">}</span>,\n",
       "    <span style=\"color: #808000; text-decoration-color: #808000\">table</span>=             name       type units  \\\n",
       "<span style=\"color: #008080; text-decoration-color: #008080; font-weight: bold\">0</span>         UDIO001       TRIG     V   \n",
       "<span style=\"color: #008080; text-decoration-color: #008080; font-weight: bold\">1</span>         UPPT001       TRIG     V   \n",
       "<span style=\"color: #008080; text-decoration-color: #008080; font-weight: bold\">2</span>         UTRG001       TRIG     V   \n",
       "<span style=\"color: #008080; text-decoration-color: #008080; font-weight: bold\">3</span>      SCLK01-<span style=\"color: #008080; text-decoration-color: #008080; font-weight: bold\">177</span>   SYSCLOCK     S   \n",
       "<span style=\"color: #008080; text-decoration-color: #008080; font-weight: bold\">4</span>        BG1-<span style=\"color: #008080; text-decoration-color: #008080; font-weight: bold\">4408</span>  MEGREFMAG     T   \n",
       "..            <span style=\"color: #808000; text-decoration-color: #808000\">...</span>        <span style=\"color: #808000; text-decoration-color: #808000\">...</span>   <span style=\"color: #808000; text-decoration-color: #808000\">...</span>   \n",
       "<span style=\"color: #008080; text-decoration-color: #008080; font-weight: bold\">335</span>  HLC0027-<span style=\"color: #008080; text-decoration-color: #008080; font-weight: bold\">4408</span>      OTHER   NaN   \n",
       "<span style=\"color: #008080; text-decoration-color: #008080; font-weight: bold\">336</span>  HLC0034-<span style=\"color: #008080; text-decoration-color: #008080; font-weight: bold\">4408</span>      OTHER   NaN   \n",
       "<span style=\"color: #008080; text-decoration-color: #008080; font-weight: bold\">337</span>  HLC0035-<span style=\"color: #008080; text-decoration-color: #008080; font-weight: bold\">4408</span>      OTHER   NaN   \n",
       "<span style=\"color: #008080; text-decoration-color: #008080; font-weight: bold\">338</span>  HLC0036-<span style=\"color: #008080; text-decoration-color: #008080; font-weight: bold\">4408</span>      OTHER   NaN   \n",
       "<span style=\"color: #008080; text-decoration-color: #008080; font-weight: bold\">339</span>  HLC0037-<span style=\"color: #008080; text-decoration-color: #008080; font-weight: bold\">4408</span>      OTHER   NaN   \n",
       "\n",
       "                                           description  sampling_frequency  \\\n",
       "<span style=\"color: #008080; text-decoration-color: #008080; font-weight: bold\">0</span>                                     Stimulus markers                <span style=\"color: #008080; text-decoration-color: #008080; font-weight: bold\">2400</span>   \n",
       "<span style=\"color: #008080; text-decoration-color: #008080; font-weight: bold\">1</span>                                     Stimulus markers                <span style=\"color: #008080; text-decoration-color: #008080; font-weight: bold\">2400</span>   \n",
       "<span style=\"color: #008080; text-decoration-color: #008080; font-weight: bold\">2</span>                                     Stimulus markers                <span style=\"color: #008080; text-decoration-color: #008080; font-weight: bold\">2400</span>   \n",
       "<span style=\"color: #008080; text-decoration-color: #008080; font-weight: bold\">3</span>    System time showing elapsed time since trial s<span style=\"color: #808000; text-decoration-color: #808000\">...</span>                <span style=\"color: #008080; text-decoration-color: #008080; font-weight: bold\">2400</span>   \n",
       "<span style=\"color: #008080; text-decoration-color: #008080; font-weight: bold\">4</span>                       Reference magnetometer channel                <span style=\"color: #008080; text-decoration-color: #008080; font-weight: bold\">2400</span>   \n",
       "..                                                 <span style=\"color: #808000; text-decoration-color: #808000\">...</span>                 <span style=\"color: #808000; text-decoration-color: #808000\">...</span>   \n",
       "<span style=\"color: #008080; text-decoration-color: #008080; font-weight: bold\">335</span>  Any other type of sensor not mentioned but sti<span style=\"color: #808000; text-decoration-color: #808000\">...</span>                <span style=\"color: #008080; text-decoration-color: #008080; font-weight: bold\">2400</span>   \n",
       "<span style=\"color: #008080; text-decoration-color: #008080; font-weight: bold\">336</span>  Any other type of sensor not mentioned but sti<span style=\"color: #808000; text-decoration-color: #808000\">...</span>                <span style=\"color: #008080; text-decoration-color: #008080; font-weight: bold\">2400</span>   \n",
       "<span style=\"color: #008080; text-decoration-color: #008080; font-weight: bold\">337</span>  Any other type of sensor not mentioned but sti<span style=\"color: #808000; text-decoration-color: #808000\">...</span>                <span style=\"color: #008080; text-decoration-color: #008080; font-weight: bold\">2400</span>   \n",
       "<span style=\"color: #008080; text-decoration-color: #008080; font-weight: bold\">338</span>  Any other type of sensor not mentioned but sti<span style=\"color: #808000; text-decoration-color: #808000\">...</span>                <span style=\"color: #008080; text-decoration-color: #008080; font-weight: bold\">2400</span>   \n",
       "<span style=\"color: #008080; text-decoration-color: #008080; font-weight: bold\">339</span>  Any other type of sensor not mentioned but sti<span style=\"color: #808000; text-decoration-color: #808000\">...</span>                <span style=\"color: #008080; text-decoration-color: #008080; font-weight: bold\">2400</span>   \n",
       "\n",
       "     low_cutoff  high_cutoff  notch software_filters status  \n",
       "<span style=\"color: #008080; text-decoration-color: #008080; font-weight: bold\">0</span>           NaN          NaN    NaN              NaN   good  \n",
       "<span style=\"color: #008080; text-decoration-color: #008080; font-weight: bold\">1</span>           NaN          NaN    NaN              NaN   good  \n",
       "<span style=\"color: #008080; text-decoration-color: #008080; font-weight: bold\">2</span>           NaN          NaN    NaN              NaN   good  \n",
       "<span style=\"color: #008080; text-decoration-color: #008080; font-weight: bold\">3</span>           NaN        <span style=\"color: #008080; text-decoration-color: #008080; font-weight: bold\">600.0</span>    NaN              NaN   good  \n",
       "<span style=\"color: #008080; text-decoration-color: #008080; font-weight: bold\">4</span>           NaN        <span style=\"color: #008080; text-decoration-color: #008080; font-weight: bold\">600.0</span>    NaN              NaN   good  \n",
       "..          <span style=\"color: #808000; text-decoration-color: #808000\">...</span>          <span style=\"color: #808000; text-decoration-color: #808000\">...</span>    <span style=\"color: #808000; text-decoration-color: #808000\">...</span>              <span style=\"color: #808000; text-decoration-color: #808000\">...</span>    <span style=\"color: #808000; text-decoration-color: #808000\">...</span>  \n",
       "<span style=\"color: #008080; text-decoration-color: #008080; font-weight: bold\">335</span>         NaN          NaN    NaN              NaN   good  \n",
       "<span style=\"color: #008080; text-decoration-color: #008080; font-weight: bold\">336</span>         NaN          NaN    NaN              NaN   good  \n",
       "<span style=\"color: #008080; text-decoration-color: #008080; font-weight: bold\">337</span>         NaN          NaN    NaN              NaN   good  \n",
       "<span style=\"color: #008080; text-decoration-color: #008080; font-weight: bold\">338</span>         NaN          NaN    NaN              NaN   good  \n",
       "<span style=\"color: #008080; text-decoration-color: #008080; font-weight: bold\">339</span>         NaN          NaN    NaN              NaN   good  \n",
       "\n",
       "<span style=\"font-weight: bold\">[</span><span style=\"color: #008080; text-decoration-color: #008080; font-weight: bold\">340</span> rows x <span style=\"color: #008080; text-decoration-color: #008080; font-weight: bold\">10</span> columns<span style=\"font-weight: bold\">]</span>,\n",
       "    <span style=\"color: #808000; text-decoration-color: #808000\">n_files</span>=<span style=\"color: #008080; text-decoration-color: #008080; font-weight: bold\">0</span>\n",
       "<span style=\"font-weight: bold\">)</span>\n",
       "</pre>\n"
      ],
      "text/plain": [
       "\u001b[1;35mScan\u001b[0m\u001b[1m(\u001b[0m\n",
       "    \u001b[33mname\u001b[0m=\u001b[32m'sub-0001_task-AEF_run-01_channels'\u001b[0m,\n",
       "    \u001b[33mfiles\u001b[0m=\u001b[1m[\u001b[0m\u001b[1m]\u001b[0m,\n",
       "    \u001b[33mmetadata_files\u001b[0m=\u001b[1m[\u001b[0m\u001b[32m'data\\\\bids\\\\sub-0001\\\\./meg\\\\.\\\\sub-0001_task-AEF_run-01_channels.tsv'\u001b[0m\u001b[1m]\u001b[0m,\n",
       "    \u001b[33mfields\u001b[0m=\u001b[1m{\u001b[0m\u001b[32m'modality'\u001b[0m: \u001b[32m'meg'\u001b[0m\u001b[1m}\u001b[0m,\n",
       "    \u001b[33mtable\u001b[0m=             name       type units  \\\n",
       "\u001b[1;36m0\u001b[0m         UDIO001       TRIG     V   \n",
       "\u001b[1;36m1\u001b[0m         UPPT001       TRIG     V   \n",
       "\u001b[1;36m2\u001b[0m         UTRG001       TRIG     V   \n",
       "\u001b[1;36m3\u001b[0m      SCLK01-\u001b[1;36m177\u001b[0m   SYSCLOCK     S   \n",
       "\u001b[1;36m4\u001b[0m        BG1-\u001b[1;36m4408\u001b[0m  MEGREFMAG     T   \n",
       "..            \u001b[33m...\u001b[0m        \u001b[33m...\u001b[0m   \u001b[33m...\u001b[0m   \n",
       "\u001b[1;36m335\u001b[0m  HLC0027-\u001b[1;36m4408\u001b[0m      OTHER   NaN   \n",
       "\u001b[1;36m336\u001b[0m  HLC0034-\u001b[1;36m4408\u001b[0m      OTHER   NaN   \n",
       "\u001b[1;36m337\u001b[0m  HLC0035-\u001b[1;36m4408\u001b[0m      OTHER   NaN   \n",
       "\u001b[1;36m338\u001b[0m  HLC0036-\u001b[1;36m4408\u001b[0m      OTHER   NaN   \n",
       "\u001b[1;36m339\u001b[0m  HLC0037-\u001b[1;36m4408\u001b[0m      OTHER   NaN   \n",
       "\n",
       "                                           description  sampling_frequency  \\\n",
       "\u001b[1;36m0\u001b[0m                                     Stimulus markers                \u001b[1;36m2400\u001b[0m   \n",
       "\u001b[1;36m1\u001b[0m                                     Stimulus markers                \u001b[1;36m2400\u001b[0m   \n",
       "\u001b[1;36m2\u001b[0m                                     Stimulus markers                \u001b[1;36m2400\u001b[0m   \n",
       "\u001b[1;36m3\u001b[0m    System time showing elapsed time since trial s\u001b[33m...\u001b[0m                \u001b[1;36m2400\u001b[0m   \n",
       "\u001b[1;36m4\u001b[0m                       Reference magnetometer channel                \u001b[1;36m2400\u001b[0m   \n",
       "..                                                 \u001b[33m...\u001b[0m                 \u001b[33m...\u001b[0m   \n",
       "\u001b[1;36m335\u001b[0m  Any other type of sensor not mentioned but sti\u001b[33m...\u001b[0m                \u001b[1;36m2400\u001b[0m   \n",
       "\u001b[1;36m336\u001b[0m  Any other type of sensor not mentioned but sti\u001b[33m...\u001b[0m                \u001b[1;36m2400\u001b[0m   \n",
       "\u001b[1;36m337\u001b[0m  Any other type of sensor not mentioned but sti\u001b[33m...\u001b[0m                \u001b[1;36m2400\u001b[0m   \n",
       "\u001b[1;36m338\u001b[0m  Any other type of sensor not mentioned but sti\u001b[33m...\u001b[0m                \u001b[1;36m2400\u001b[0m   \n",
       "\u001b[1;36m339\u001b[0m  Any other type of sensor not mentioned but sti\u001b[33m...\u001b[0m                \u001b[1;36m2400\u001b[0m   \n",
       "\n",
       "     low_cutoff  high_cutoff  notch software_filters status  \n",
       "\u001b[1;36m0\u001b[0m           NaN          NaN    NaN              NaN   good  \n",
       "\u001b[1;36m1\u001b[0m           NaN          NaN    NaN              NaN   good  \n",
       "\u001b[1;36m2\u001b[0m           NaN          NaN    NaN              NaN   good  \n",
       "\u001b[1;36m3\u001b[0m           NaN        \u001b[1;36m600.0\u001b[0m    NaN              NaN   good  \n",
       "\u001b[1;36m4\u001b[0m           NaN        \u001b[1;36m600.0\u001b[0m    NaN              NaN   good  \n",
       "..          \u001b[33m...\u001b[0m          \u001b[33m...\u001b[0m    \u001b[33m...\u001b[0m              \u001b[33m...\u001b[0m    \u001b[33m...\u001b[0m  \n",
       "\u001b[1;36m335\u001b[0m         NaN          NaN    NaN              NaN   good  \n",
       "\u001b[1;36m336\u001b[0m         NaN          NaN    NaN              NaN   good  \n",
       "\u001b[1;36m337\u001b[0m         NaN          NaN    NaN              NaN   good  \n",
       "\u001b[1;36m338\u001b[0m         NaN          NaN    NaN              NaN   good  \n",
       "\u001b[1;36m339\u001b[0m         NaN          NaN    NaN              NaN   good  \n",
       "\n",
       "\u001b[1m[\u001b[0m\u001b[1;36m340\u001b[0m rows x \u001b[1;36m10\u001b[0m columns\u001b[1m]\u001b[0m,\n",
       "    \u001b[33mn_files\u001b[0m=\u001b[1;36m0\u001b[0m\n",
       "\u001b[1m)\u001b[0m\n"
      ]
     },
     "metadata": {},
     "output_type": "display_data"
    },
    {
     "data": {
      "text/html": [
       "<pre style=\"white-space:pre;overflow-x:auto;line-height:normal;font-family:Menlo,'DejaVu Sans Mono',consolas,'Courier New',monospace\">sub-0001_task-AEF_run-01_meg\n",
       "</pre>\n"
      ],
      "text/plain": [
       "sub-0001_task-AEF_run-01_meg\n"
      ]
     },
     "metadata": {},
     "output_type": "display_data"
    },
    {
     "data": {
      "text/html": [
       "<pre style=\"white-space:pre;overflow-x:auto;line-height:normal;font-family:Menlo,'DejaVu Sans Mono',consolas,'Courier New',monospace\"><span style=\"color: #800080; text-decoration-color: #800080; font-weight: bold\">Scan</span><span style=\"font-weight: bold\">(</span>\n",
       "    <span style=\"color: #808000; text-decoration-color: #808000\">name</span>=<span style=\"color: #008000; text-decoration-color: #008000\">'sub-0001_task-AEF_run-01_meg'</span>,\n",
       "    <span style=\"color: #808000; text-decoration-color: #808000\">files</span>=<span style=\"font-weight: bold\">[]</span>,\n",
       "    <span style=\"color: #808000; text-decoration-color: #808000\">metadata_files</span>=<span style=\"font-weight: bold\">[</span><span style=\"color: #008000; text-decoration-color: #008000\">'data\\\\bids\\\\sub-0001\\\\./meg\\\\.\\\\sub-0001_task-AEF_run-01_meg.json'</span><span style=\"font-weight: bold\">]</span>,\n",
       "    <span style=\"color: #808000; text-decoration-color: #808000\">fields</span>=<span style=\"font-weight: bold\">{</span>\n",
       "        <span style=\"color: #008000; text-decoration-color: #008000\">'InstitutionName'</span>: <span style=\"color: #008000; text-decoration-color: #008000\">'McConnell Brain Imaging Centre, McGill University'</span>,\n",
       "        <span style=\"color: #008000; text-decoration-color: #008000\">'InstitutionAddress'</span>: <span style=\"color: #008000; text-decoration-color: #008000\">'3801 University St., Montreal, QC, Canada'</span>,\n",
       "        <span style=\"color: #008000; text-decoration-color: #008000\">'Manufacturer'</span>: <span style=\"color: #008000; text-decoration-color: #008000\">'CTF'</span>,\n",
       "        <span style=\"color: #008000; text-decoration-color: #008000\">'ManufacturersModelName'</span>: <span style=\"color: #008000; text-decoration-color: #008000\">'CTF-275: OMEGA 2000'</span>,\n",
       "        <span style=\"color: #008000; text-decoration-color: #008000\">'SoftwareVersions'</span>: <span style=\"color: #008000; text-decoration-color: #008000\">'Acq 5.4.2-linux-20070507'</span>,\n",
       "        <span style=\"color: #008000; text-decoration-color: #008000\">'TaskName'</span>: <span style=\"color: #008000; text-decoration-color: #008000\">'AEF'</span>,\n",
       "        <span style=\"color: #008000; text-decoration-color: #008000\">'SamplingFrequency'</span>: <span style=\"color: #008080; text-decoration-color: #008080; font-weight: bold\">2400</span>,\n",
       "        <span style=\"color: #008000; text-decoration-color: #008000\">'PowerLineFrequency'</span>: <span style=\"color: #008080; text-decoration-color: #008080; font-weight: bold\">60</span>,\n",
       "        <span style=\"color: #008000; text-decoration-color: #008000\">'MEGChannelCount'</span>: <span style=\"color: #008080; text-decoration-color: #008080; font-weight: bold\">274</span>,\n",
       "        <span style=\"color: #008000; text-decoration-color: #008000\">'MEGREFChannelCount'</span>: <span style=\"color: #008080; text-decoration-color: #008080; font-weight: bold\">26</span>,\n",
       "        <span style=\"color: #008000; text-decoration-color: #008000\">'EEGChannelCount'</span>: <span style=\"color: #008080; text-decoration-color: #008080; font-weight: bold\">2</span>,\n",
       "        <span style=\"color: #008000; text-decoration-color: #008000\">'EOGChannelCount'</span>: <span style=\"color: #008080; text-decoration-color: #008080; font-weight: bold\">2</span>,\n",
       "        <span style=\"color: #008000; text-decoration-color: #008000\">'ECGChannelCount'</span>: <span style=\"color: #008080; text-decoration-color: #008080; font-weight: bold\">1</span>,\n",
       "        <span style=\"color: #008000; text-decoration-color: #008000\">'EMGChannelCount'</span>: <span style=\"color: #008080; text-decoration-color: #008080; font-weight: bold\">0</span>,\n",
       "        <span style=\"color: #008000; text-decoration-color: #008000\">'MiscChannelCount'</span>: <span style=\"color: #008080; text-decoration-color: #008080; font-weight: bold\">0</span>,\n",
       "        <span style=\"color: #008000; text-decoration-color: #008000\">'SoftwareFilters'</span>: <span style=\"font-weight: bold\">{</span><span style=\"color: #008000; text-decoration-color: #008000\">'SpatialCompensation'</span>: <span style=\"font-weight: bold\">{</span><span style=\"color: #008000; text-decoration-color: #008000\">'GradientOrder'</span>: <span style=\"color: #008000; text-decoration-color: #008000\">'3rd'</span><span style=\"font-weight: bold\">}}</span>,\n",
       "        <span style=\"color: #008000; text-decoration-color: #008000\">'DewarPosition'</span>: <span style=\"color: #008000; text-decoration-color: #008000\">'Upright'</span>,\n",
       "        <span style=\"color: #008000; text-decoration-color: #008000\">'RecordingDuration'</span>: <span style=\"color: #008080; text-decoration-color: #008080; font-weight: bold\">360</span>,\n",
       "        <span style=\"color: #008000; text-decoration-color: #008000\">'RecordingType'</span>: <span style=\"color: #008000; text-decoration-color: #008000\">'continuous'</span>,\n",
       "        <span style=\"color: #008000; text-decoration-color: #008000\">'EpochLength'</span>: <span style=\"color: #008080; text-decoration-color: #008080; font-weight: bold\">0</span>,\n",
       "        <span style=\"color: #008000; text-decoration-color: #008000\">'ContinuousHeadLocalization'</span>: <span style=\"color: #00ff00; text-decoration-color: #00ff00; font-style: italic\">True</span>,\n",
       "        <span style=\"color: #008000; text-decoration-color: #008000\">'HeadCoilFrequency'</span>: <span style=\"font-weight: bold\">[</span><span style=\"color: #008080; text-decoration-color: #008080; font-weight: bold\">1470</span>, <span style=\"color: #008080; text-decoration-color: #008080; font-weight: bold\">1530</span>, <span style=\"color: #008080; text-decoration-color: #008080; font-weight: bold\">1590</span><span style=\"font-weight: bold\">]</span>,\n",
       "        <span style=\"color: #008000; text-decoration-color: #008000\">'MaxMovement'</span>: <span style=\"color: #008080; text-decoration-color: #008080; font-weight: bold\">0.0009892724421254463</span>,\n",
       "        <span style=\"color: #008000; text-decoration-color: #008000\">'DigitizedLandmarks'</span>: <span style=\"color: #00ff00; text-decoration-color: #00ff00; font-style: italic\">True</span>,\n",
       "        <span style=\"color: #008000; text-decoration-color: #008000\">'DigitizedHeadPoints'</span>: <span style=\"color: #00ff00; text-decoration-color: #00ff00; font-style: italic\">True</span>,\n",
       "        <span style=\"color: #008000; text-decoration-color: #008000\">'AssociatedEmptyRoom'</span>: <span style=\"color: #008000; text-decoration-color: #008000\">'/sub-emptyroom/meg/sub-emptyroom_task-noise_run-01_meg.ds'</span>,\n",
       "        <span style=\"color: #008000; text-decoration-color: #008000\">'modality'</span>: <span style=\"color: #008000; text-decoration-color: #008000\">'meg'</span>\n",
       "    <span style=\"font-weight: bold\">}</span>,\n",
       "    <span style=\"color: #808000; text-decoration-color: #808000\">table</span>=<span style=\"color: #800080; text-decoration-color: #800080; font-style: italic\">None</span>,\n",
       "    <span style=\"color: #808000; text-decoration-color: #808000\">n_files</span>=<span style=\"color: #008080; text-decoration-color: #008080; font-weight: bold\">0</span>\n",
       "<span style=\"font-weight: bold\">)</span>\n",
       "</pre>\n"
      ],
      "text/plain": [
       "\u001b[1;35mScan\u001b[0m\u001b[1m(\u001b[0m\n",
       "    \u001b[33mname\u001b[0m=\u001b[32m'sub-0001_task-AEF_run-01_meg'\u001b[0m,\n",
       "    \u001b[33mfiles\u001b[0m=\u001b[1m[\u001b[0m\u001b[1m]\u001b[0m,\n",
       "    \u001b[33mmetadata_files\u001b[0m=\u001b[1m[\u001b[0m\u001b[32m'data\\\\bids\\\\sub-0001\\\\./meg\\\\.\\\\sub-0001_task-AEF_run-01_meg.json'\u001b[0m\u001b[1m]\u001b[0m,\n",
       "    \u001b[33mfields\u001b[0m=\u001b[1m{\u001b[0m\n",
       "        \u001b[32m'InstitutionName'\u001b[0m: \u001b[32m'McConnell Brain Imaging Centre, McGill University'\u001b[0m,\n",
       "        \u001b[32m'InstitutionAddress'\u001b[0m: \u001b[32m'3801 University St., Montreal, QC, Canada'\u001b[0m,\n",
       "        \u001b[32m'Manufacturer'\u001b[0m: \u001b[32m'CTF'\u001b[0m,\n",
       "        \u001b[32m'ManufacturersModelName'\u001b[0m: \u001b[32m'CTF-275: OMEGA 2000'\u001b[0m,\n",
       "        \u001b[32m'SoftwareVersions'\u001b[0m: \u001b[32m'Acq 5.4.2-linux-20070507'\u001b[0m,\n",
       "        \u001b[32m'TaskName'\u001b[0m: \u001b[32m'AEF'\u001b[0m,\n",
       "        \u001b[32m'SamplingFrequency'\u001b[0m: \u001b[1;36m2400\u001b[0m,\n",
       "        \u001b[32m'PowerLineFrequency'\u001b[0m: \u001b[1;36m60\u001b[0m,\n",
       "        \u001b[32m'MEGChannelCount'\u001b[0m: \u001b[1;36m274\u001b[0m,\n",
       "        \u001b[32m'MEGREFChannelCount'\u001b[0m: \u001b[1;36m26\u001b[0m,\n",
       "        \u001b[32m'EEGChannelCount'\u001b[0m: \u001b[1;36m2\u001b[0m,\n",
       "        \u001b[32m'EOGChannelCount'\u001b[0m: \u001b[1;36m2\u001b[0m,\n",
       "        \u001b[32m'ECGChannelCount'\u001b[0m: \u001b[1;36m1\u001b[0m,\n",
       "        \u001b[32m'EMGChannelCount'\u001b[0m: \u001b[1;36m0\u001b[0m,\n",
       "        \u001b[32m'MiscChannelCount'\u001b[0m: \u001b[1;36m0\u001b[0m,\n",
       "        \u001b[32m'SoftwareFilters'\u001b[0m: \u001b[1m{\u001b[0m\u001b[32m'SpatialCompensation'\u001b[0m: \u001b[1m{\u001b[0m\u001b[32m'GradientOrder'\u001b[0m: \u001b[32m'3rd'\u001b[0m\u001b[1m}\u001b[0m\u001b[1m}\u001b[0m,\n",
       "        \u001b[32m'DewarPosition'\u001b[0m: \u001b[32m'Upright'\u001b[0m,\n",
       "        \u001b[32m'RecordingDuration'\u001b[0m: \u001b[1;36m360\u001b[0m,\n",
       "        \u001b[32m'RecordingType'\u001b[0m: \u001b[32m'continuous'\u001b[0m,\n",
       "        \u001b[32m'EpochLength'\u001b[0m: \u001b[1;36m0\u001b[0m,\n",
       "        \u001b[32m'ContinuousHeadLocalization'\u001b[0m: \u001b[3;92mTrue\u001b[0m,\n",
       "        \u001b[32m'HeadCoilFrequency'\u001b[0m: \u001b[1m[\u001b[0m\u001b[1;36m1470\u001b[0m, \u001b[1;36m1530\u001b[0m, \u001b[1;36m1590\u001b[0m\u001b[1m]\u001b[0m,\n",
       "        \u001b[32m'MaxMovement'\u001b[0m: \u001b[1;36m0.0009892724421254463\u001b[0m,\n",
       "        \u001b[32m'DigitizedLandmarks'\u001b[0m: \u001b[3;92mTrue\u001b[0m,\n",
       "        \u001b[32m'DigitizedHeadPoints'\u001b[0m: \u001b[3;92mTrue\u001b[0m,\n",
       "        \u001b[32m'AssociatedEmptyRoom'\u001b[0m: \u001b[32m'/sub-emptyroom/meg/sub-emptyroom_task-noise_run-01_meg.ds'\u001b[0m,\n",
       "        \u001b[32m'modality'\u001b[0m: \u001b[32m'meg'\u001b[0m\n",
       "    \u001b[1m}\u001b[0m,\n",
       "    \u001b[33mtable\u001b[0m=\u001b[3;35mNone\u001b[0m,\n",
       "    \u001b[33mn_files\u001b[0m=\u001b[1;36m0\u001b[0m\n",
       "\u001b[1m)\u001b[0m\n"
      ]
     },
     "metadata": {},
     "output_type": "display_data"
    },
    {
     "data": {
      "text/html": [
       "<pre style=\"white-space:pre;overflow-x:auto;line-height:normal;font-family:Menlo,'DejaVu Sans Mono',consolas,'Courier New',monospace\">sub-0001_task-AEF_run-02_channels\n",
       "</pre>\n"
      ],
      "text/plain": [
       "sub-0001_task-AEF_run-02_channels\n"
      ]
     },
     "metadata": {},
     "output_type": "display_data"
    },
    {
     "data": {
      "text/html": [
       "<pre style=\"white-space:pre;overflow-x:auto;line-height:normal;font-family:Menlo,'DejaVu Sans Mono',consolas,'Courier New',monospace\"><span style=\"color: #800080; text-decoration-color: #800080; font-weight: bold\">Scan</span><span style=\"font-weight: bold\">(</span>\n",
       "    <span style=\"color: #808000; text-decoration-color: #808000\">name</span>=<span style=\"color: #008000; text-decoration-color: #008000\">'sub-0001_task-AEF_run-02_channels'</span>,\n",
       "    <span style=\"color: #808000; text-decoration-color: #808000\">files</span>=<span style=\"font-weight: bold\">[]</span>,\n",
       "    <span style=\"color: #808000; text-decoration-color: #808000\">metadata_files</span>=<span style=\"font-weight: bold\">[</span><span style=\"color: #008000; text-decoration-color: #008000\">'data\\\\bids\\\\sub-0001\\\\./meg\\\\.\\\\sub-0001_task-AEF_run-02_channels.tsv'</span><span style=\"font-weight: bold\">]</span>,\n",
       "    <span style=\"color: #808000; text-decoration-color: #808000\">fields</span>=<span style=\"font-weight: bold\">{</span><span style=\"color: #008000; text-decoration-color: #008000\">'modality'</span>: <span style=\"color: #008000; text-decoration-color: #008000\">'meg'</span><span style=\"font-weight: bold\">}</span>,\n",
       "    <span style=\"color: #808000; text-decoration-color: #808000\">table</span>=             name       type units  \\\n",
       "<span style=\"color: #008080; text-decoration-color: #008080; font-weight: bold\">0</span>         UDIO001       TRIG     V   \n",
       "<span style=\"color: #008080; text-decoration-color: #008080; font-weight: bold\">1</span>         UPPT001       TRIG     V   \n",
       "<span style=\"color: #008080; text-decoration-color: #008080; font-weight: bold\">2</span>         UTRG001       TRIG     V   \n",
       "<span style=\"color: #008080; text-decoration-color: #008080; font-weight: bold\">3</span>      SCLK01-<span style=\"color: #008080; text-decoration-color: #008080; font-weight: bold\">177</span>   SYSCLOCK     S   \n",
       "<span style=\"color: #008080; text-decoration-color: #008080; font-weight: bold\">4</span>        BG1-<span style=\"color: #008080; text-decoration-color: #008080; font-weight: bold\">4408</span>  MEGREFMAG     T   \n",
       "..            <span style=\"color: #808000; text-decoration-color: #808000\">...</span>        <span style=\"color: #808000; text-decoration-color: #808000\">...</span>   <span style=\"color: #808000; text-decoration-color: #808000\">...</span>   \n",
       "<span style=\"color: #008080; text-decoration-color: #008080; font-weight: bold\">335</span>  HLC0027-<span style=\"color: #008080; text-decoration-color: #008080; font-weight: bold\">4408</span>      OTHER   NaN   \n",
       "<span style=\"color: #008080; text-decoration-color: #008080; font-weight: bold\">336</span>  HLC0034-<span style=\"color: #008080; text-decoration-color: #008080; font-weight: bold\">4408</span>      OTHER   NaN   \n",
       "<span style=\"color: #008080; text-decoration-color: #008080; font-weight: bold\">337</span>  HLC0035-<span style=\"color: #008080; text-decoration-color: #008080; font-weight: bold\">4408</span>      OTHER   NaN   \n",
       "<span style=\"color: #008080; text-decoration-color: #008080; font-weight: bold\">338</span>  HLC0036-<span style=\"color: #008080; text-decoration-color: #008080; font-weight: bold\">4408</span>      OTHER   NaN   \n",
       "<span style=\"color: #008080; text-decoration-color: #008080; font-weight: bold\">339</span>  HLC0037-<span style=\"color: #008080; text-decoration-color: #008080; font-weight: bold\">4408</span>      OTHER   NaN   \n",
       "\n",
       "                                           description  sampling_frequency  \\\n",
       "<span style=\"color: #008080; text-decoration-color: #008080; font-weight: bold\">0</span>                                     Stimulus markers                <span style=\"color: #008080; text-decoration-color: #008080; font-weight: bold\">2400</span>   \n",
       "<span style=\"color: #008080; text-decoration-color: #008080; font-weight: bold\">1</span>                                     Stimulus markers                <span style=\"color: #008080; text-decoration-color: #008080; font-weight: bold\">2400</span>   \n",
       "<span style=\"color: #008080; text-decoration-color: #008080; font-weight: bold\">2</span>                                     Stimulus markers                <span style=\"color: #008080; text-decoration-color: #008080; font-weight: bold\">2400</span>   \n",
       "<span style=\"color: #008080; text-decoration-color: #008080; font-weight: bold\">3</span>    System time showing elapsed time since trial s<span style=\"color: #808000; text-decoration-color: #808000\">...</span>                <span style=\"color: #008080; text-decoration-color: #008080; font-weight: bold\">2400</span>   \n",
       "<span style=\"color: #008080; text-decoration-color: #008080; font-weight: bold\">4</span>                       Reference magnetometer channel                <span style=\"color: #008080; text-decoration-color: #008080; font-weight: bold\">2400</span>   \n",
       "..                                                 <span style=\"color: #808000; text-decoration-color: #808000\">...</span>                 <span style=\"color: #808000; text-decoration-color: #808000\">...</span>   \n",
       "<span style=\"color: #008080; text-decoration-color: #008080; font-weight: bold\">335</span>  Any other type of sensor not mentioned but sti<span style=\"color: #808000; text-decoration-color: #808000\">...</span>                <span style=\"color: #008080; text-decoration-color: #008080; font-weight: bold\">2400</span>   \n",
       "<span style=\"color: #008080; text-decoration-color: #008080; font-weight: bold\">336</span>  Any other type of sensor not mentioned but sti<span style=\"color: #808000; text-decoration-color: #808000\">...</span>                <span style=\"color: #008080; text-decoration-color: #008080; font-weight: bold\">2400</span>   \n",
       "<span style=\"color: #008080; text-decoration-color: #008080; font-weight: bold\">337</span>  Any other type of sensor not mentioned but sti<span style=\"color: #808000; text-decoration-color: #808000\">...</span>                <span style=\"color: #008080; text-decoration-color: #008080; font-weight: bold\">2400</span>   \n",
       "<span style=\"color: #008080; text-decoration-color: #008080; font-weight: bold\">338</span>  Any other type of sensor not mentioned but sti<span style=\"color: #808000; text-decoration-color: #808000\">...</span>                <span style=\"color: #008080; text-decoration-color: #008080; font-weight: bold\">2400</span>   \n",
       "<span style=\"color: #008080; text-decoration-color: #008080; font-weight: bold\">339</span>  Any other type of sensor not mentioned but sti<span style=\"color: #808000; text-decoration-color: #808000\">...</span>                <span style=\"color: #008080; text-decoration-color: #008080; font-weight: bold\">2400</span>   \n",
       "\n",
       "     low_cutoff  high_cutoff  notch software_filters status  \n",
       "<span style=\"color: #008080; text-decoration-color: #008080; font-weight: bold\">0</span>           NaN          NaN    NaN              NaN   good  \n",
       "<span style=\"color: #008080; text-decoration-color: #008080; font-weight: bold\">1</span>           NaN          NaN    NaN              NaN   good  \n",
       "<span style=\"color: #008080; text-decoration-color: #008080; font-weight: bold\">2</span>           NaN          NaN    NaN              NaN   good  \n",
       "<span style=\"color: #008080; text-decoration-color: #008080; font-weight: bold\">3</span>           NaN        <span style=\"color: #008080; text-decoration-color: #008080; font-weight: bold\">600.0</span>    NaN              NaN   good  \n",
       "<span style=\"color: #008080; text-decoration-color: #008080; font-weight: bold\">4</span>           NaN        <span style=\"color: #008080; text-decoration-color: #008080; font-weight: bold\">600.0</span>    NaN              NaN   good  \n",
       "..          <span style=\"color: #808000; text-decoration-color: #808000\">...</span>          <span style=\"color: #808000; text-decoration-color: #808000\">...</span>    <span style=\"color: #808000; text-decoration-color: #808000\">...</span>              <span style=\"color: #808000; text-decoration-color: #808000\">...</span>    <span style=\"color: #808000; text-decoration-color: #808000\">...</span>  \n",
       "<span style=\"color: #008080; text-decoration-color: #008080; font-weight: bold\">335</span>         NaN          NaN    NaN              NaN   good  \n",
       "<span style=\"color: #008080; text-decoration-color: #008080; font-weight: bold\">336</span>         NaN          NaN    NaN              NaN   good  \n",
       "<span style=\"color: #008080; text-decoration-color: #008080; font-weight: bold\">337</span>         NaN          NaN    NaN              NaN   good  \n",
       "<span style=\"color: #008080; text-decoration-color: #008080; font-weight: bold\">338</span>         NaN          NaN    NaN              NaN   good  \n",
       "<span style=\"color: #008080; text-decoration-color: #008080; font-weight: bold\">339</span>         NaN          NaN    NaN              NaN   good  \n",
       "\n",
       "<span style=\"font-weight: bold\">[</span><span style=\"color: #008080; text-decoration-color: #008080; font-weight: bold\">340</span> rows x <span style=\"color: #008080; text-decoration-color: #008080; font-weight: bold\">10</span> columns<span style=\"font-weight: bold\">]</span>,\n",
       "    <span style=\"color: #808000; text-decoration-color: #808000\">n_files</span>=<span style=\"color: #008080; text-decoration-color: #008080; font-weight: bold\">0</span>\n",
       "<span style=\"font-weight: bold\">)</span>\n",
       "</pre>\n"
      ],
      "text/plain": [
       "\u001b[1;35mScan\u001b[0m\u001b[1m(\u001b[0m\n",
       "    \u001b[33mname\u001b[0m=\u001b[32m'sub-0001_task-AEF_run-02_channels'\u001b[0m,\n",
       "    \u001b[33mfiles\u001b[0m=\u001b[1m[\u001b[0m\u001b[1m]\u001b[0m,\n",
       "    \u001b[33mmetadata_files\u001b[0m=\u001b[1m[\u001b[0m\u001b[32m'data\\\\bids\\\\sub-0001\\\\./meg\\\\.\\\\sub-0001_task-AEF_run-02_channels.tsv'\u001b[0m\u001b[1m]\u001b[0m,\n",
       "    \u001b[33mfields\u001b[0m=\u001b[1m{\u001b[0m\u001b[32m'modality'\u001b[0m: \u001b[32m'meg'\u001b[0m\u001b[1m}\u001b[0m,\n",
       "    \u001b[33mtable\u001b[0m=             name       type units  \\\n",
       "\u001b[1;36m0\u001b[0m         UDIO001       TRIG     V   \n",
       "\u001b[1;36m1\u001b[0m         UPPT001       TRIG     V   \n",
       "\u001b[1;36m2\u001b[0m         UTRG001       TRIG     V   \n",
       "\u001b[1;36m3\u001b[0m      SCLK01-\u001b[1;36m177\u001b[0m   SYSCLOCK     S   \n",
       "\u001b[1;36m4\u001b[0m        BG1-\u001b[1;36m4408\u001b[0m  MEGREFMAG     T   \n",
       "..            \u001b[33m...\u001b[0m        \u001b[33m...\u001b[0m   \u001b[33m...\u001b[0m   \n",
       "\u001b[1;36m335\u001b[0m  HLC0027-\u001b[1;36m4408\u001b[0m      OTHER   NaN   \n",
       "\u001b[1;36m336\u001b[0m  HLC0034-\u001b[1;36m4408\u001b[0m      OTHER   NaN   \n",
       "\u001b[1;36m337\u001b[0m  HLC0035-\u001b[1;36m4408\u001b[0m      OTHER   NaN   \n",
       "\u001b[1;36m338\u001b[0m  HLC0036-\u001b[1;36m4408\u001b[0m      OTHER   NaN   \n",
       "\u001b[1;36m339\u001b[0m  HLC0037-\u001b[1;36m4408\u001b[0m      OTHER   NaN   \n",
       "\n",
       "                                           description  sampling_frequency  \\\n",
       "\u001b[1;36m0\u001b[0m                                     Stimulus markers                \u001b[1;36m2400\u001b[0m   \n",
       "\u001b[1;36m1\u001b[0m                                     Stimulus markers                \u001b[1;36m2400\u001b[0m   \n",
       "\u001b[1;36m2\u001b[0m                                     Stimulus markers                \u001b[1;36m2400\u001b[0m   \n",
       "\u001b[1;36m3\u001b[0m    System time showing elapsed time since trial s\u001b[33m...\u001b[0m                \u001b[1;36m2400\u001b[0m   \n",
       "\u001b[1;36m4\u001b[0m                       Reference magnetometer channel                \u001b[1;36m2400\u001b[0m   \n",
       "..                                                 \u001b[33m...\u001b[0m                 \u001b[33m...\u001b[0m   \n",
       "\u001b[1;36m335\u001b[0m  Any other type of sensor not mentioned but sti\u001b[33m...\u001b[0m                \u001b[1;36m2400\u001b[0m   \n",
       "\u001b[1;36m336\u001b[0m  Any other type of sensor not mentioned but sti\u001b[33m...\u001b[0m                \u001b[1;36m2400\u001b[0m   \n",
       "\u001b[1;36m337\u001b[0m  Any other type of sensor not mentioned but sti\u001b[33m...\u001b[0m                \u001b[1;36m2400\u001b[0m   \n",
       "\u001b[1;36m338\u001b[0m  Any other type of sensor not mentioned but sti\u001b[33m...\u001b[0m                \u001b[1;36m2400\u001b[0m   \n",
       "\u001b[1;36m339\u001b[0m  Any other type of sensor not mentioned but sti\u001b[33m...\u001b[0m                \u001b[1;36m2400\u001b[0m   \n",
       "\n",
       "     low_cutoff  high_cutoff  notch software_filters status  \n",
       "\u001b[1;36m0\u001b[0m           NaN          NaN    NaN              NaN   good  \n",
       "\u001b[1;36m1\u001b[0m           NaN          NaN    NaN              NaN   good  \n",
       "\u001b[1;36m2\u001b[0m           NaN          NaN    NaN              NaN   good  \n",
       "\u001b[1;36m3\u001b[0m           NaN        \u001b[1;36m600.0\u001b[0m    NaN              NaN   good  \n",
       "\u001b[1;36m4\u001b[0m           NaN        \u001b[1;36m600.0\u001b[0m    NaN              NaN   good  \n",
       "..          \u001b[33m...\u001b[0m          \u001b[33m...\u001b[0m    \u001b[33m...\u001b[0m              \u001b[33m...\u001b[0m    \u001b[33m...\u001b[0m  \n",
       "\u001b[1;36m335\u001b[0m         NaN          NaN    NaN              NaN   good  \n",
       "\u001b[1;36m336\u001b[0m         NaN          NaN    NaN              NaN   good  \n",
       "\u001b[1;36m337\u001b[0m         NaN          NaN    NaN              NaN   good  \n",
       "\u001b[1;36m338\u001b[0m         NaN          NaN    NaN              NaN   good  \n",
       "\u001b[1;36m339\u001b[0m         NaN          NaN    NaN              NaN   good  \n",
       "\n",
       "\u001b[1m[\u001b[0m\u001b[1;36m340\u001b[0m rows x \u001b[1;36m10\u001b[0m columns\u001b[1m]\u001b[0m,\n",
       "    \u001b[33mn_files\u001b[0m=\u001b[1;36m0\u001b[0m\n",
       "\u001b[1m)\u001b[0m\n"
      ]
     },
     "metadata": {},
     "output_type": "display_data"
    },
    {
     "data": {
      "text/html": [
       "<pre style=\"white-space:pre;overflow-x:auto;line-height:normal;font-family:Menlo,'DejaVu Sans Mono',consolas,'Courier New',monospace\">sub-0001_task-AEF_run-02_meg\n",
       "</pre>\n"
      ],
      "text/plain": [
       "sub-0001_task-AEF_run-02_meg\n"
      ]
     },
     "metadata": {},
     "output_type": "display_data"
    },
    {
     "data": {
      "text/html": [
       "<pre style=\"white-space:pre;overflow-x:auto;line-height:normal;font-family:Menlo,'DejaVu Sans Mono',consolas,'Courier New',monospace\"><span style=\"color: #800080; text-decoration-color: #800080; font-weight: bold\">Scan</span><span style=\"font-weight: bold\">(</span>\n",
       "    <span style=\"color: #808000; text-decoration-color: #808000\">name</span>=<span style=\"color: #008000; text-decoration-color: #008000\">'sub-0001_task-AEF_run-02_meg'</span>,\n",
       "    <span style=\"color: #808000; text-decoration-color: #808000\">files</span>=<span style=\"font-weight: bold\">[]</span>,\n",
       "    <span style=\"color: #808000; text-decoration-color: #808000\">metadata_files</span>=<span style=\"font-weight: bold\">[</span><span style=\"color: #008000; text-decoration-color: #008000\">'data\\\\bids\\\\sub-0001\\\\./meg\\\\.\\\\sub-0001_task-AEF_run-02_meg.json'</span><span style=\"font-weight: bold\">]</span>,\n",
       "    <span style=\"color: #808000; text-decoration-color: #808000\">fields</span>=<span style=\"font-weight: bold\">{</span>\n",
       "        <span style=\"color: #008000; text-decoration-color: #008000\">'InstitutionName'</span>: <span style=\"color: #008000; text-decoration-color: #008000\">'McConnell Brain Imaging Centre, McGill University'</span>,\n",
       "        <span style=\"color: #008000; text-decoration-color: #008000\">'InstitutionAddress'</span>: <span style=\"color: #008000; text-decoration-color: #008000\">'3801 University St., Montreal, QC, Canada'</span>,\n",
       "        <span style=\"color: #008000; text-decoration-color: #008000\">'Manufacturer'</span>: <span style=\"color: #008000; text-decoration-color: #008000\">'CTF'</span>,\n",
       "        <span style=\"color: #008000; text-decoration-color: #008000\">'ManufacturersModelName'</span>: <span style=\"color: #008000; text-decoration-color: #008000\">'CTF-275: OMEGA 2000'</span>,\n",
       "        <span style=\"color: #008000; text-decoration-color: #008000\">'SoftwareVersions'</span>: <span style=\"color: #008000; text-decoration-color: #008000\">'Acq 5.4.2-linux-20070507'</span>,\n",
       "        <span style=\"color: #008000; text-decoration-color: #008000\">'TaskName'</span>: <span style=\"color: #008000; text-decoration-color: #008000\">'AEF'</span>,\n",
       "        <span style=\"color: #008000; text-decoration-color: #008000\">'SamplingFrequency'</span>: <span style=\"color: #008080; text-decoration-color: #008080; font-weight: bold\">2400</span>,\n",
       "        <span style=\"color: #008000; text-decoration-color: #008000\">'PowerLineFrequency'</span>: <span style=\"color: #008080; text-decoration-color: #008080; font-weight: bold\">60</span>,\n",
       "        <span style=\"color: #008000; text-decoration-color: #008000\">'MEGChannelCount'</span>: <span style=\"color: #008080; text-decoration-color: #008080; font-weight: bold\">274</span>,\n",
       "        <span style=\"color: #008000; text-decoration-color: #008000\">'MEGREFChannelCount'</span>: <span style=\"color: #008080; text-decoration-color: #008080; font-weight: bold\">26</span>,\n",
       "        <span style=\"color: #008000; text-decoration-color: #008000\">'EEGChannelCount'</span>: <span style=\"color: #008080; text-decoration-color: #008080; font-weight: bold\">2</span>,\n",
       "        <span style=\"color: #008000; text-decoration-color: #008000\">'EOGChannelCount'</span>: <span style=\"color: #008080; text-decoration-color: #008080; font-weight: bold\">2</span>,\n",
       "        <span style=\"color: #008000; text-decoration-color: #008000\">'ECGChannelCount'</span>: <span style=\"color: #008080; text-decoration-color: #008080; font-weight: bold\">1</span>,\n",
       "        <span style=\"color: #008000; text-decoration-color: #008000\">'EMGChannelCount'</span>: <span style=\"color: #008080; text-decoration-color: #008080; font-weight: bold\">0</span>,\n",
       "        <span style=\"color: #008000; text-decoration-color: #008000\">'MiscChannelCount'</span>: <span style=\"color: #008080; text-decoration-color: #008080; font-weight: bold\">0</span>,\n",
       "        <span style=\"color: #008000; text-decoration-color: #008000\">'TriggerChannelCount'</span>: <span style=\"color: #008080; text-decoration-color: #008080; font-weight: bold\">0</span>,\n",
       "        <span style=\"color: #008000; text-decoration-color: #008000\">'DewarPosition'</span>: <span style=\"color: #008000; text-decoration-color: #008000\">'Upright'</span>,\n",
       "        <span style=\"color: #008000; text-decoration-color: #008000\">'SoftwareFilters'</span>: <span style=\"font-weight: bold\">{</span><span style=\"color: #008000; text-decoration-color: #008000\">'SpatialCompensation'</span>: <span style=\"font-weight: bold\">{</span><span style=\"color: #008000; text-decoration-color: #008000\">'GradientOrder'</span>: <span style=\"color: #008000; text-decoration-color: #008000\">'3rd'</span><span style=\"font-weight: bold\">}}</span>,\n",
       "        <span style=\"color: #008000; text-decoration-color: #008000\">'RecordingDuration'</span>: <span style=\"color: #008080; text-decoration-color: #008080; font-weight: bold\">360</span>,\n",
       "        <span style=\"color: #008000; text-decoration-color: #008000\">'RecordingType'</span>: <span style=\"color: #008000; text-decoration-color: #008000\">'continuous'</span>,\n",
       "        <span style=\"color: #008000; text-decoration-color: #008000\">'EpochLength'</span>: <span style=\"color: #008080; text-decoration-color: #008080; font-weight: bold\">0</span>,\n",
       "        <span style=\"color: #008000; text-decoration-color: #008000\">'ContinuousHeadLocalization'</span>: <span style=\"color: #00ff00; text-decoration-color: #00ff00; font-style: italic\">True</span>,\n",
       "        <span style=\"color: #008000; text-decoration-color: #008000\">'HeadCoilFrequency'</span>: <span style=\"font-weight: bold\">[</span><span style=\"color: #008080; text-decoration-color: #008080; font-weight: bold\">1470</span>, <span style=\"color: #008080; text-decoration-color: #008080; font-weight: bold\">1530</span>, <span style=\"color: #008080; text-decoration-color: #008080; font-weight: bold\">1590</span><span style=\"font-weight: bold\">]</span>,\n",
       "        <span style=\"color: #008000; text-decoration-color: #008000\">'MaxMovement'</span>: <span style=\"color: #008080; text-decoration-color: #008080; font-weight: bold\">0.0032890058287054712</span>,\n",
       "        <span style=\"color: #008000; text-decoration-color: #008000\">'DigitizedLandmarks'</span>: <span style=\"color: #00ff00; text-decoration-color: #00ff00; font-style: italic\">True</span>,\n",
       "        <span style=\"color: #008000; text-decoration-color: #008000\">'DigitizedHeadPoints'</span>: <span style=\"color: #00ff00; text-decoration-color: #00ff00; font-style: italic\">True</span>,\n",
       "        <span style=\"color: #008000; text-decoration-color: #008000\">'AssociatedEmptyRoom'</span>: <span style=\"color: #008000; text-decoration-color: #008000\">'/sub-emptyroom/meg/sub-emptyroom_task-noise_run-01_meg.ds'</span>,\n",
       "        <span style=\"color: #008000; text-decoration-color: #008000\">'modality'</span>: <span style=\"color: #008000; text-decoration-color: #008000\">'meg'</span>\n",
       "    <span style=\"font-weight: bold\">}</span>,\n",
       "    <span style=\"color: #808000; text-decoration-color: #808000\">table</span>=<span style=\"color: #800080; text-decoration-color: #800080; font-style: italic\">None</span>,\n",
       "    <span style=\"color: #808000; text-decoration-color: #808000\">n_files</span>=<span style=\"color: #008080; text-decoration-color: #008080; font-weight: bold\">0</span>\n",
       "<span style=\"font-weight: bold\">)</span>\n",
       "</pre>\n"
      ],
      "text/plain": [
       "\u001b[1;35mScan\u001b[0m\u001b[1m(\u001b[0m\n",
       "    \u001b[33mname\u001b[0m=\u001b[32m'sub-0001_task-AEF_run-02_meg'\u001b[0m,\n",
       "    \u001b[33mfiles\u001b[0m=\u001b[1m[\u001b[0m\u001b[1m]\u001b[0m,\n",
       "    \u001b[33mmetadata_files\u001b[0m=\u001b[1m[\u001b[0m\u001b[32m'data\\\\bids\\\\sub-0001\\\\./meg\\\\.\\\\sub-0001_task-AEF_run-02_meg.json'\u001b[0m\u001b[1m]\u001b[0m,\n",
       "    \u001b[33mfields\u001b[0m=\u001b[1m{\u001b[0m\n",
       "        \u001b[32m'InstitutionName'\u001b[0m: \u001b[32m'McConnell Brain Imaging Centre, McGill University'\u001b[0m,\n",
       "        \u001b[32m'InstitutionAddress'\u001b[0m: \u001b[32m'3801 University St., Montreal, QC, Canada'\u001b[0m,\n",
       "        \u001b[32m'Manufacturer'\u001b[0m: \u001b[32m'CTF'\u001b[0m,\n",
       "        \u001b[32m'ManufacturersModelName'\u001b[0m: \u001b[32m'CTF-275: OMEGA 2000'\u001b[0m,\n",
       "        \u001b[32m'SoftwareVersions'\u001b[0m: \u001b[32m'Acq 5.4.2-linux-20070507'\u001b[0m,\n",
       "        \u001b[32m'TaskName'\u001b[0m: \u001b[32m'AEF'\u001b[0m,\n",
       "        \u001b[32m'SamplingFrequency'\u001b[0m: \u001b[1;36m2400\u001b[0m,\n",
       "        \u001b[32m'PowerLineFrequency'\u001b[0m: \u001b[1;36m60\u001b[0m,\n",
       "        \u001b[32m'MEGChannelCount'\u001b[0m: \u001b[1;36m274\u001b[0m,\n",
       "        \u001b[32m'MEGREFChannelCount'\u001b[0m: \u001b[1;36m26\u001b[0m,\n",
       "        \u001b[32m'EEGChannelCount'\u001b[0m: \u001b[1;36m2\u001b[0m,\n",
       "        \u001b[32m'EOGChannelCount'\u001b[0m: \u001b[1;36m2\u001b[0m,\n",
       "        \u001b[32m'ECGChannelCount'\u001b[0m: \u001b[1;36m1\u001b[0m,\n",
       "        \u001b[32m'EMGChannelCount'\u001b[0m: \u001b[1;36m0\u001b[0m,\n",
       "        \u001b[32m'MiscChannelCount'\u001b[0m: \u001b[1;36m0\u001b[0m,\n",
       "        \u001b[32m'TriggerChannelCount'\u001b[0m: \u001b[1;36m0\u001b[0m,\n",
       "        \u001b[32m'DewarPosition'\u001b[0m: \u001b[32m'Upright'\u001b[0m,\n",
       "        \u001b[32m'SoftwareFilters'\u001b[0m: \u001b[1m{\u001b[0m\u001b[32m'SpatialCompensation'\u001b[0m: \u001b[1m{\u001b[0m\u001b[32m'GradientOrder'\u001b[0m: \u001b[32m'3rd'\u001b[0m\u001b[1m}\u001b[0m\u001b[1m}\u001b[0m,\n",
       "        \u001b[32m'RecordingDuration'\u001b[0m: \u001b[1;36m360\u001b[0m,\n",
       "        \u001b[32m'RecordingType'\u001b[0m: \u001b[32m'continuous'\u001b[0m,\n",
       "        \u001b[32m'EpochLength'\u001b[0m: \u001b[1;36m0\u001b[0m,\n",
       "        \u001b[32m'ContinuousHeadLocalization'\u001b[0m: \u001b[3;92mTrue\u001b[0m,\n",
       "        \u001b[32m'HeadCoilFrequency'\u001b[0m: \u001b[1m[\u001b[0m\u001b[1;36m1470\u001b[0m, \u001b[1;36m1530\u001b[0m, \u001b[1;36m1590\u001b[0m\u001b[1m]\u001b[0m,\n",
       "        \u001b[32m'MaxMovement'\u001b[0m: \u001b[1;36m0.0032890058287054712\u001b[0m,\n",
       "        \u001b[32m'DigitizedLandmarks'\u001b[0m: \u001b[3;92mTrue\u001b[0m,\n",
       "        \u001b[32m'DigitizedHeadPoints'\u001b[0m: \u001b[3;92mTrue\u001b[0m,\n",
       "        \u001b[32m'AssociatedEmptyRoom'\u001b[0m: \u001b[32m'/sub-emptyroom/meg/sub-emptyroom_task-noise_run-01_meg.ds'\u001b[0m,\n",
       "        \u001b[32m'modality'\u001b[0m: \u001b[32m'meg'\u001b[0m\n",
       "    \u001b[1m}\u001b[0m,\n",
       "    \u001b[33mtable\u001b[0m=\u001b[3;35mNone\u001b[0m,\n",
       "    \u001b[33mn_files\u001b[0m=\u001b[1;36m0\u001b[0m\n",
       "\u001b[1m)\u001b[0m\n"
      ]
     },
     "metadata": {},
     "output_type": "display_data"
    }
   ],
   "source": [
    "for scan_id, scan in subject.scans.items():\n",
    "    print(scan_id)\n",
    "    print(scan)"
   ]
  },
  {
   "cell_type": "code",
   "execution_count": null,
   "metadata": {},
   "outputs": [
    {
     "ename": "NameError",
     "evalue": "name 'scan' is not defined",
     "output_type": "error",
     "traceback": [
      "\u001b[1;31m---------------------------------------------------------------------------\u001b[0m",
      "\u001b[1;31mNameError\u001b[0m                                 Traceback (most recent call last)",
      "Cell \u001b[1;32mIn[22], line 1\u001b[0m\n\u001b[1;32m----> 1\u001b[0m \u001b[38;5;28mprint\u001b[39m(\u001b[38;5;28mtype\u001b[39m(\u001b[43mscan\u001b[49m\u001b[38;5;241m.\u001b[39mdata))\n\u001b[0;32m      2\u001b[0m \u001b[38;5;28mprint\u001b[39m([\u001b[38;5;28mtype\u001b[39m(scan\u001b[38;5;241m.\u001b[39mnumpy), \u001b[38;5;124mf\u001b[39m\u001b[38;5;124m'\u001b[39m\u001b[38;5;124mshape: \u001b[39m\u001b[38;5;132;01m{\u001b[39;00mscan\u001b[38;5;241m.\u001b[39mnumpy\u001b[38;5;241m.\u001b[39mshape\u001b[38;5;132;01m}\u001b[39;00m\u001b[38;5;124m'\u001b[39m])\n",
      "\u001b[1;31mNameError\u001b[0m: name 'scan' is not defined"
     ]
    }
   ],
   "source": [
    "print(type(scan.data))\n",
    "print([type(scan.numpy), f'shape: {scan.numpy.shape}'])"
   ]
  },
  {
   "cell_type": "code",
   "execution_count": null,
   "metadata": {},
   "outputs": [
    {
     "name": "stdout",
     "output_type": "stream",
     "text": [
      "Collecting mne_bids\n",
      "  Downloading mne_bids-0.15.0-py3-none-any.whl.metadata (7.2 kB)\n",
      "Collecting mne>=1.5 (from mne_bids)\n",
      "  Downloading mne-1.8.0-py3-none-any.whl.metadata (21 kB)\n",
      "Requirement already satisfied: numpy>=1.21.2 in c:\\users\\roela\\appdata\\local\\programs\\python\\python312\\lib\\site-packages (from mne_bids) (2.1.1)\n",
      "Collecting scipy>=1.7.1 (from mne_bids)\n",
      "  Downloading scipy-1.14.1-cp312-cp312-win_amd64.whl.metadata (60 kB)\n",
      "Requirement already satisfied: decorator in c:\\users\\roela\\appdata\\roaming\\python\\python312\\site-packages (from mne>=1.5->mne_bids) (5.1.1)\n",
      "Collecting jinja2 (from mne>=1.5->mne_bids)\n",
      "  Downloading jinja2-3.1.4-py3-none-any.whl.metadata (2.6 kB)\n",
      "Collecting lazy-loader>=0.3 (from mne>=1.5->mne_bids)\n",
      "  Downloading lazy_loader-0.4-py3-none-any.whl.metadata (7.6 kB)\n",
      "Collecting matplotlib>=3.6 (from mne>=1.5->mne_bids)\n",
      "  Downloading matplotlib-3.9.2-cp312-cp312-win_amd64.whl.metadata (11 kB)\n",
      "Requirement already satisfied: packaging in c:\\users\\roela\\appdata\\local\\programs\\python\\python312\\lib\\site-packages (from mne>=1.5->mne_bids) (24.1)\n",
      "Collecting pooch>=1.5 (from mne>=1.5->mne_bids)\n",
      "  Downloading pooch-1.8.2-py3-none-any.whl.metadata (10 kB)\n",
      "Requirement already satisfied: tqdm in c:\\users\\roela\\appdata\\local\\programs\\python\\python312\\lib\\site-packages (from mne>=1.5->mne_bids) (4.66.5)\n",
      "Collecting contourpy>=1.0.1 (from matplotlib>=3.6->mne>=1.5->mne_bids)\n",
      "  Downloading contourpy-1.3.0-cp312-cp312-win_amd64.whl.metadata (5.4 kB)\n",
      "Collecting cycler>=0.10 (from matplotlib>=3.6->mne>=1.5->mne_bids)\n",
      "  Downloading cycler-0.12.1-py3-none-any.whl.metadata (3.8 kB)\n",
      "Collecting fonttools>=4.22.0 (from matplotlib>=3.6->mne>=1.5->mne_bids)\n",
      "  Downloading fonttools-4.53.1-cp312-cp312-win_amd64.whl.metadata (165 kB)\n",
      "Collecting kiwisolver>=1.3.1 (from matplotlib>=3.6->mne>=1.5->mne_bids)\n",
      "  Downloading kiwisolver-1.4.7-cp312-cp312-win_amd64.whl.metadata (6.4 kB)\n",
      "Collecting pillow>=8 (from matplotlib>=3.6->mne>=1.5->mne_bids)\n",
      "  Downloading pillow-10.4.0-cp312-cp312-win_amd64.whl.metadata (9.3 kB)\n",
      "Collecting pyparsing>=2.3.1 (from matplotlib>=3.6->mne>=1.5->mne_bids)\n",
      "  Downloading pyparsing-3.1.4-py3-none-any.whl.metadata (5.1 kB)\n",
      "Requirement already satisfied: python-dateutil>=2.7 in c:\\users\\roela\\appdata\\roaming\\python\\python312\\site-packages (from matplotlib>=3.6->mne>=1.5->mne_bids) (2.9.0.post0)\n",
      "Requirement already satisfied: platformdirs>=2.5.0 in c:\\users\\roela\\appdata\\local\\programs\\python\\python312\\lib\\site-packages (from pooch>=1.5->mne>=1.5->mne_bids) (4.3.3)\n",
      "Requirement already satisfied: requests>=2.19.0 in c:\\users\\roela\\appdata\\local\\programs\\python\\python312\\lib\\site-packages (from pooch>=1.5->mne>=1.5->mne_bids) (2.32.3)\n",
      "Collecting MarkupSafe>=2.0 (from jinja2->mne>=1.5->mne_bids)\n",
      "  Downloading MarkupSafe-2.1.5-cp312-cp312-win_amd64.whl.metadata (3.1 kB)\n",
      "Requirement already satisfied: colorama in c:\\users\\roela\\appdata\\local\\programs\\python\\python312\\lib\\site-packages (from tqdm->mne>=1.5->mne_bids) (0.4.6)\n",
      "Requirement already satisfied: six>=1.5 in c:\\users\\roela\\appdata\\roaming\\python\\python312\\site-packages (from python-dateutil>=2.7->matplotlib>=3.6->mne>=1.5->mne_bids) (1.16.0)\n",
      "Requirement already satisfied: charset-normalizer<4,>=2 in c:\\users\\roela\\appdata\\local\\programs\\python\\python312\\lib\\site-packages (from requests>=2.19.0->pooch>=1.5->mne>=1.5->mne_bids) (3.3.2)\n",
      "Requirement already satisfied: idna<4,>=2.5 in c:\\users\\roela\\appdata\\local\\programs\\python\\python312\\lib\\site-packages (from requests>=2.19.0->pooch>=1.5->mne>=1.5->mne_bids) (3.10)\n",
      "Requirement already satisfied: urllib3<3,>=1.21.1 in c:\\users\\roela\\appdata\\local\\programs\\python\\python312\\lib\\site-packages (from requests>=2.19.0->pooch>=1.5->mne>=1.5->mne_bids) (2.2.3)\n",
      "Requirement already satisfied: certifi>=2017.4.17 in c:\\users\\roela\\appdata\\local\\programs\\python\\python312\\lib\\site-packages (from requests>=2.19.0->pooch>=1.5->mne>=1.5->mne_bids) (2024.8.30)\n",
      "Downloading mne_bids-0.15.0-py3-none-any.whl (163 kB)\n",
      "Downloading mne-1.8.0-py3-none-any.whl (7.4 MB)\n",
      "   ---------------------------------------- 0.0/7.4 MB ? eta -:--:--\n",
      "   ---------------------------------------- 7.4/7.4 MB 75.7 MB/s eta 0:00:00\n",
      "Downloading scipy-1.14.1-cp312-cp312-win_amd64.whl (44.5 MB)\n",
      "   ---------------------------------------- 0.0/44.5 MB ? eta -:--:--\n",
      "   ----------------- ---------------------- 19.9/44.5 MB 96.9 MB/s eta 0:00:01\n",
      "   ------------------------------------- -- 42.2/44.5 MB 99.4 MB/s eta 0:00:01\n",
      "   ---------------------------------------- 44.5/44.5 MB 85.8 MB/s eta 0:00:00\n",
      "Downloading lazy_loader-0.4-py3-none-any.whl (12 kB)\n",
      "Downloading matplotlib-3.9.2-cp312-cp312-win_amd64.whl (7.8 MB)\n",
      "   ---------------------------------------- 0.0/7.8 MB ? eta -:--:--\n",
      "   ---------------------------------------- 7.8/7.8 MB 97.1 MB/s eta 0:00:00\n",
      "Downloading pooch-1.8.2-py3-none-any.whl (64 kB)\n",
      "Downloading jinja2-3.1.4-py3-none-any.whl (133 kB)\n",
      "Downloading contourpy-1.3.0-cp312-cp312-win_amd64.whl (218 kB)\n",
      "Downloading cycler-0.12.1-py3-none-any.whl (8.3 kB)\n",
      "Downloading fonttools-4.53.1-cp312-cp312-win_amd64.whl (2.2 MB)\n",
      "   ---------------------------------------- 0.0/2.2 MB ? eta -:--:--\n",
      "   ---------------------------------------- 2.2/2.2 MB 62.3 MB/s eta 0:00:00\n",
      "Downloading kiwisolver-1.4.7-cp312-cp312-win_amd64.whl (55 kB)\n",
      "Downloading MarkupSafe-2.1.5-cp312-cp312-win_amd64.whl (17 kB)\n",
      "Downloading pillow-10.4.0-cp312-cp312-win_amd64.whl (2.6 MB)\n",
      "   ---------------------------------------- 0.0/2.6 MB ? eta -:--:--\n",
      "   ---------------------------------------- 2.6/2.6 MB 74.0 MB/s eta 0:00:00\n",
      "Downloading pyparsing-3.1.4-py3-none-any.whl (104 kB)\n",
      "Installing collected packages: scipy, pyparsing, pillow, MarkupSafe, lazy-loader, kiwisolver, fonttools, cycler, contourpy, pooch, matplotlib, jinja2, mne, mne_bids\n",
      "Successfully installed MarkupSafe-2.1.5 contourpy-1.3.0 cycler-0.12.1 fonttools-4.53.1 jinja2-3.1.4 kiwisolver-1.4.7 lazy-loader-0.4 matplotlib-3.9.2 mne-1.8.0 mne_bids-0.15.0 pillow-10.4.0 pooch-1.8.2 pyparsing-3.1.4 scipy-1.14.1\n"
     ]
    },
    {
     "data": {
      "text/html": [
       "<pre style=\"white-space:pre;overflow-x:auto;line-height:normal;font-family:Menlo,'DejaVu Sans Mono',consolas,'Courier New',monospace\"><span style=\"color: #7fbfbf; text-decoration-color: #7fbfbf\">[14:53:48] </span><span style=\"color: #000080; text-decoration-color: #000080\">INFO    </span> generated new fontManager                                                  <a href=\"file://c:\\Users\\roela\\AppData\\Local\\Programs\\Python\\Python312\\Lib\\site-packages\\matplotlib\\font_manager.py\" target=\"_blank\"><span style=\"color: #7f7f7f; text-decoration-color: #7f7f7f\">font_manager.py</span></a><span style=\"color: #7f7f7f; text-decoration-color: #7f7f7f\">:</span><a href=\"file://c:\\Users\\roela\\AppData\\Local\\Programs\\Python\\Python312\\Lib\\site-packages\\matplotlib\\font_manager.py#1584\" target=\"_blank\"><span style=\"color: #7f7f7f; text-decoration-color: #7f7f7f\">1584</span></a>\n",
       "</pre>\n"
      ],
      "text/plain": [
       "\u001b[2;36m[14:53:48]\u001b[0m\u001b[2;36m \u001b[0m\u001b[34mINFO    \u001b[0m generated new fontManager                                                  \u001b]8;id=247573;file://c:\\Users\\roela\\AppData\\Local\\Programs\\Python\\Python312\\Lib\\site-packages\\matplotlib\\font_manager.py\u001b\\\u001b[2mfont_manager.py\u001b[0m\u001b]8;;\u001b\\\u001b[2m:\u001b[0m\u001b]8;id=849755;file://c:\\Users\\roela\\AppData\\Local\\Programs\\Python\\Python312\\Lib\\site-packages\\matplotlib\\font_manager.py#1584\u001b\\\u001b[2m1584\u001b[0m\u001b]8;;\u001b\\\n"
      ]
     },
     "metadata": {},
     "output_type": "display_data"
    }
   ],
   "source": [
    "!pip install mne_bids\n",
    "\n",
    "from mne_bids import (\n",
    "    find_matching_paths,\n",
    "    make_report,\n",
    "    print_dir_tree,\n",
    "    read_raw_bids,\n",
    "    update_sidecar_json,\n",
    ")"
   ]
  },
  {
   "cell_type": "code",
   "execution_count": 31,
   "metadata": {},
   "outputs": [
    {
     "ename": "ValueError",
     "evalue": "Unallowed `-`, `_`, or `/` found in key/value pair subject: c:\\Users\\roela\\git\\lazybids-ui\\lazybids\\examples\\data\\bids",
     "output_type": "error",
     "traceback": [
      "\u001b[1;31m---------------------------------------------------------------------------\u001b[0m",
      "\u001b[1;31mValueError\u001b[0m                                Traceback (most recent call last)",
      "Cell \u001b[1;32mIn[31], line 8\u001b[0m\n\u001b[0;32m      4\u001b[0m suffix \u001b[38;5;241m=\u001b[39m \u001b[38;5;124m\"\u001b[39m\u001b[38;5;124mmeg\u001b[39m\u001b[38;5;124m\"\u001b[39m\n\u001b[0;32m      7\u001b[0m bids_paths \u001b[38;5;241m=\u001b[39m find_matching_paths(bids_root, suffixes\u001b[38;5;241m=\u001b[39msuffix)\n\u001b[1;32m----> 8\u001b[0m read_raw_bids(\u001b[43mmne_bids\u001b[49m\u001b[38;5;241;43m.\u001b[39;49m\u001b[43mBIDSPath\u001b[49m\u001b[43m(\u001b[49m\u001b[43mos\u001b[49m\u001b[38;5;241;43m.\u001b[39;49m\u001b[43mpath\u001b[49m\u001b[38;5;241;43m.\u001b[39;49m\u001b[43mabspath\u001b[49m\u001b[43m(\u001b[49m\u001b[43mdataset_dir\u001b[49m\u001b[43m)\u001b[49m\u001b[43m)\u001b[49m)\n",
      "File \u001b[1;32mc:\\Users\\roela\\AppData\\Local\\Programs\\Python\\Python312\\Lib\\site-packages\\mne_bids\\path.py:368\u001b[0m, in \u001b[0;36mBIDSPath.__init__\u001b[1;34m(self, subject, session, task, acquisition, run, processing, recording, space, split, description, root, suffix, extension, datatype, check)\u001b[0m\n\u001b[0;32m    364\u001b[0m     \u001b[38;5;28;01mraise\u001b[39;00m \u001b[38;5;167;01mValueError\u001b[39;00m(\u001b[38;5;124m\"\u001b[39m\u001b[38;5;124mAt least one parameter must be given.\u001b[39m\u001b[38;5;124m\"\u001b[39m)\n\u001b[0;32m    366\u001b[0m \u001b[38;5;28mself\u001b[39m\u001b[38;5;241m.\u001b[39mcheck \u001b[38;5;241m=\u001b[39m check\n\u001b[1;32m--> 368\u001b[0m \u001b[38;5;28;43mself\u001b[39;49m\u001b[38;5;241;43m.\u001b[39;49m\u001b[43mupdate\u001b[49m\u001b[43m(\u001b[49m\n\u001b[0;32m    369\u001b[0m \u001b[43m    \u001b[49m\u001b[43msubject\u001b[49m\u001b[38;5;241;43m=\u001b[39;49m\u001b[43msubject\u001b[49m\u001b[43m,\u001b[49m\n\u001b[0;32m    370\u001b[0m \u001b[43m    \u001b[49m\u001b[43msession\u001b[49m\u001b[38;5;241;43m=\u001b[39;49m\u001b[43msession\u001b[49m\u001b[43m,\u001b[49m\n\u001b[0;32m    371\u001b[0m \u001b[43m    \u001b[49m\u001b[43mtask\u001b[49m\u001b[38;5;241;43m=\u001b[39;49m\u001b[43mtask\u001b[49m\u001b[43m,\u001b[49m\n\u001b[0;32m    372\u001b[0m \u001b[43m    \u001b[49m\u001b[43macquisition\u001b[49m\u001b[38;5;241;43m=\u001b[39;49m\u001b[43macquisition\u001b[49m\u001b[43m,\u001b[49m\n\u001b[0;32m    373\u001b[0m \u001b[43m    \u001b[49m\u001b[43mrun\u001b[49m\u001b[38;5;241;43m=\u001b[39;49m\u001b[43mrun\u001b[49m\u001b[43m,\u001b[49m\n\u001b[0;32m    374\u001b[0m \u001b[43m    \u001b[49m\u001b[43mprocessing\u001b[49m\u001b[38;5;241;43m=\u001b[39;49m\u001b[43mprocessing\u001b[49m\u001b[43m,\u001b[49m\n\u001b[0;32m    375\u001b[0m \u001b[43m    \u001b[49m\u001b[43mrecording\u001b[49m\u001b[38;5;241;43m=\u001b[39;49m\u001b[43mrecording\u001b[49m\u001b[43m,\u001b[49m\n\u001b[0;32m    376\u001b[0m \u001b[43m    \u001b[49m\u001b[43mspace\u001b[49m\u001b[38;5;241;43m=\u001b[39;49m\u001b[43mspace\u001b[49m\u001b[43m,\u001b[49m\n\u001b[0;32m    377\u001b[0m \u001b[43m    \u001b[49m\u001b[43msplit\u001b[49m\u001b[38;5;241;43m=\u001b[39;49m\u001b[43msplit\u001b[49m\u001b[43m,\u001b[49m\n\u001b[0;32m    378\u001b[0m \u001b[43m    \u001b[49m\u001b[43mdescription\u001b[49m\u001b[38;5;241;43m=\u001b[39;49m\u001b[43mdescription\u001b[49m\u001b[43m,\u001b[49m\n\u001b[0;32m    379\u001b[0m \u001b[43m    \u001b[49m\u001b[43mroot\u001b[49m\u001b[38;5;241;43m=\u001b[39;49m\u001b[43mroot\u001b[49m\u001b[43m,\u001b[49m\n\u001b[0;32m    380\u001b[0m \u001b[43m    \u001b[49m\u001b[43mdatatype\u001b[49m\u001b[38;5;241;43m=\u001b[39;49m\u001b[43mdatatype\u001b[49m\u001b[43m,\u001b[49m\n\u001b[0;32m    381\u001b[0m \u001b[43m    \u001b[49m\u001b[43msuffix\u001b[49m\u001b[38;5;241;43m=\u001b[39;49m\u001b[43msuffix\u001b[49m\u001b[43m,\u001b[49m\n\u001b[0;32m    382\u001b[0m \u001b[43m    \u001b[49m\u001b[43mextension\u001b[49m\u001b[38;5;241;43m=\u001b[39;49m\u001b[43mextension\u001b[49m\u001b[43m,\u001b[49m\n\u001b[0;32m    383\u001b[0m \u001b[43m\u001b[49m\u001b[43m)\u001b[49m\n",
      "File \u001b[1;32mc:\\Users\\roela\\AppData\\Local\\Programs\\Python\\Python312\\Lib\\site-packages\\mne_bids\\path.py:988\u001b[0m, in \u001b[0;36mBIDSPath.update\u001b[1;34m(self, check, **kwargs)\u001b[0m\n\u001b[0;32m    986\u001b[0m         \u001b[38;5;28;01mpass\u001b[39;00m\n\u001b[0;32m    987\u001b[0m     \u001b[38;5;28;01melse\u001b[39;00m:\n\u001b[1;32m--> 988\u001b[0m         \u001b[43m_check_key_val\u001b[49m\u001b[43m(\u001b[49m\u001b[43mkey\u001b[49m\u001b[43m,\u001b[49m\u001b[43m \u001b[49m\u001b[43mval\u001b[49m\u001b[43m)\u001b[49m\n\u001b[0;32m    990\u001b[0m \u001b[38;5;66;03m# set entity value, ensuring `root` is a Path\u001b[39;00m\n\u001b[0;32m    991\u001b[0m \u001b[38;5;28;01mif\u001b[39;00m val \u001b[38;5;129;01mis\u001b[39;00m \u001b[38;5;129;01mnot\u001b[39;00m \u001b[38;5;28;01mNone\u001b[39;00m \u001b[38;5;129;01mand\u001b[39;00m key \u001b[38;5;241m==\u001b[39m \u001b[38;5;124m\"\u001b[39m\u001b[38;5;124mroot\u001b[39m\u001b[38;5;124m\"\u001b[39m:\n",
      "File \u001b[1;32mc:\\Users\\roela\\AppData\\Local\\Programs\\Python\\Python312\\Lib\\site-packages\\mne_bids\\utils.py:269\u001b[0m, in \u001b[0;36m_check_key_val\u001b[1;34m(key, val)\u001b[0m\n\u001b[0;32m    267\u001b[0m \u001b[38;5;250m\u001b[39m\u001b[38;5;124;03m\"\"\"Perform checks on a value to make sure it adheres to the spec.\"\"\"\u001b[39;00m\n\u001b[0;32m    268\u001b[0m \u001b[38;5;28;01mif\u001b[39;00m \u001b[38;5;28many\u001b[39m(ii \u001b[38;5;129;01min\u001b[39;00m val \u001b[38;5;28;01mfor\u001b[39;00m ii \u001b[38;5;129;01min\u001b[39;00m [\u001b[38;5;124m\"\u001b[39m\u001b[38;5;124m-\u001b[39m\u001b[38;5;124m\"\u001b[39m, \u001b[38;5;124m\"\u001b[39m\u001b[38;5;124m_\u001b[39m\u001b[38;5;124m\"\u001b[39m, \u001b[38;5;124m\"\u001b[39m\u001b[38;5;124m/\u001b[39m\u001b[38;5;124m\"\u001b[39m]):\n\u001b[1;32m--> 269\u001b[0m     \u001b[38;5;28;01mraise\u001b[39;00m \u001b[38;5;167;01mValueError\u001b[39;00m(\n\u001b[0;32m    270\u001b[0m         \u001b[38;5;124m\"\u001b[39m\u001b[38;5;124mUnallowed `-`, `_`, or `/` found in key/value pair\u001b[39m\u001b[38;5;124m\"\u001b[39m \u001b[38;5;124mf\u001b[39m\u001b[38;5;124m\"\u001b[39m\u001b[38;5;124m \u001b[39m\u001b[38;5;132;01m{\u001b[39;00mkey\u001b[38;5;132;01m}\u001b[39;00m\u001b[38;5;124m: \u001b[39m\u001b[38;5;132;01m{\u001b[39;00mval\u001b[38;5;132;01m}\u001b[39;00m\u001b[38;5;124m\"\u001b[39m\n\u001b[0;32m    271\u001b[0m     )\n\u001b[0;32m    272\u001b[0m \u001b[38;5;28;01mreturn\u001b[39;00m key, val\n",
      "\u001b[1;31mValueError\u001b[0m: Unallowed `-`, `_`, or `/` found in key/value pair subject: c:\\Users\\roela\\git\\lazybids-ui\\lazybids\\examples\\data\\bids"
     ]
    }
   ],
   "source": [
    "import mne_bids\n",
    "import os\n",
    "bids_root = dataset_dir\n",
    "suffix = \"meg\"\n",
    "\n",
    "\n",
    "bids_paths = find_matching_paths(bids_root, suffixes=suffix)\n",
    "read_raw_bids(mne_bids.BIDSPath(os.path.abspath(dataset_dir)))"
   ]
  },
  {
   "cell_type": "code",
   "execution_count": null,
   "metadata": {},
   "outputs": [],
   "source": []
  }
 ],
 "metadata": {
  "kernelspec": {
   "display_name": "lazybids-sKUzRgwL-py3.10",
   "language": "python",
   "name": "python3"
  },
  "language_info": {
   "codemirror_mode": {
    "name": "ipython",
    "version": 3
   },
   "file_extension": ".py",
   "mimetype": "text/x-python",
   "name": "python",
   "nbconvert_exporter": "python",
   "pygments_lexer": "ipython3",
   "version": "3.10.6"
  }
 },
 "nbformat": 4,
 "nbformat_minor": 2
}
